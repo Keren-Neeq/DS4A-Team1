{
  "nbformat": 4,
  "nbformat_minor": 0,
  "metadata": {
    "colab": {
      "provenance": [],
      "collapsed_sections": [
        "xI6Sq0fq4AOM",
        "8nyHJlDY4TMH",
        "I6H9EGVM4V1P",
        "_ggRyCE44WAl",
        "CTsWHC-x4XF5",
        "kEycr2fRbp0T",
        "iVlXwppMjKnV"
      ],
      "include_colab_link": true
    },
    "kernelspec": {
      "name": "python3",
      "display_name": "Python 3"
    },
    "language_info": {
      "name": "python"
    }
  },
  "cells": [
    {
      "cell_type": "markdown",
      "metadata": {
        "id": "view-in-github",
        "colab_type": "text"
      },
      "source": [
        "<a href=\"https://colab.research.google.com/github/Keren-Neeq/DS4A-Team1/blob/main/notebooks/Team1_ExtendedEDA.ipynb\" target=\"_parent\"><img src=\"https://colab.research.google.com/assets/colab-badge.svg\" alt=\"Open In Colab\"/></a>"
      ]
    },
    {
      "cell_type": "markdown",
      "source": [
        "# How Remote Work Is Transforming America's Geographical Landscape\n",
        "Team #1 | Ashek Ag Mohamed, Caprina Beal, Nzinga Eduardo Rodriguez, Keren Osabutey, Erika Smith"
      ],
      "metadata": {
        "id": "FP_cTBhG2ep3"
      }
    },
    {
      "cell_type": "markdown",
      "source": [
        "## Business Problem\n",
        "### Overview\n",
        "\n",
        "One of the most significant impacts of the Covid-19 pandemic may be a shift in how the workplace and workforce operate in the future. According to Forbes, approximately 5% of white-collar employees in the U.S. worked primarily from home before the outbreak. This figure skyrocketed to 71% during the pandemic. If given a choice to continue working from home post-pandemic, 54% of these workers indicated they would continue to do so, according to Pew Research Center. These figures will likely vary across occupations, industries, income, and education levels. As remote work becomes more popular, white-collar workers are likely to relocate from city centers to suburban areas, accelerating and changing geographic trends.\n",
        "\n",
        "A report by the Economic Innovation Group (EIG) indicated that more than two-thirds of large urban counties saw their populations decline. Marking the first time in 50 years, counties with a population over 250,000  experienced negative growth. Although migration patterns had been in effect before Covid-19, the explosion of remote work during the pandemic, reductions in births, rising deaths, and delayed immigration accelerated the shift. EIG indicated other contributing factors, including high median home and apartment rental prices, low housing inventory, and increasing costs of consumer goods such as gas. \n",
        "\n",
        "Using data curated from Glassdoor, Zillow, the U.S. Department of Housing, the U.S. Bureau of Labor Statistics, and the U.S. Census Bureau, our analysis will answer the following:\n",
        "\n",
        "\n",
        "1.   Which cities had the work from home populations?\n",
        "2.   Which states had the highest work from home populations?\n",
        "3.   How have city growth rates changed, and how is the population shifting?\n",
        "5.   How have the average single family home, and apartment rent prices changed over time?\n",
        "6. Has the inflation rate affected housing inventory? \n",
        "7. How has the cost of consumer goods changed?\n",
        "\n"
      ],
      "metadata": {
        "id": "g3ajV7mV2sW3"
      }
    },
    {
      "cell_type": "markdown",
      "source": [
        "## Import Libraries and Data"
      ],
      "metadata": {
        "id": "vOkHXjQA2-eg"
      }
    },
    {
      "cell_type": "code",
      "source": [
        "!pip install plotly==5.11.0 -q"
      ],
      "metadata": {
        "id": "VJ6MA18UQW-y",
        "colab": {
          "base_uri": "https://localhost:8080/"
        },
        "outputId": "8f282ef8-865c-4af8-afc0-eed89ff623ea"
      },
      "execution_count": 2,
      "outputs": [
        {
          "output_type": "stream",
          "name": "stdout",
          "text": [
            "\u001b[2K     \u001b[90m━━━━━━━━━━━━━━━━━━━━━━━━━━━━━━━━━━━━━━━━\u001b[0m \u001b[32m15.3/15.3 MB\u001b[0m \u001b[31m34.6 MB/s\u001b[0m eta \u001b[36m0:00:00\u001b[0m\n",
            "\u001b[?25h"
          ]
        }
      ]
    },
    {
      "cell_type": "code",
      "source": [
        "import os\n",
        "import re\n",
        "import io\n",
        "import sys\n",
        "import warnings\n",
        "\n",
        "import numpy as np\n",
        "import pandas as pd\n",
        "import seaborn as sns\n",
        "import missingno as msno\n",
        "import matplotlib.pyplot as plt\n",
        "import plotly.express as px\n",
        "import plotly.graph_objects as go\n",
        "\n",
        "from functools import reduce \n",
        "from google.colab import files\n",
        "\n",
        "sys.path.insert(0, \"../utils\")\n",
        "warnings.filterwarnings('ignore')\n",
        "sns.set(context='talk',style = 'whitegrid')\n",
        "%matplotlib inline"
      ],
      "metadata": {
        "id": "bWik62cd3EIO"
      },
      "execution_count": 3,
      "outputs": []
    },
    {
      "cell_type": "markdown",
      "source": [
        "## Download Data"
      ],
      "metadata": {
        "id": "NtPF8MyXaNIB"
      }
    },
    {
      "cell_type": "code",
      "source": [
        "# Upload File From Computer\n",
        "uploaded = files.upload()"
      ],
      "metadata": {
        "colab": {
          "base_uri": "https://localhost:8080/",
          "height": 73
        },
        "id": "y1j5hUPq3UvP",
        "outputId": "eb25254d-c00d-4900-b52a-1c00d52e2d69"
      },
      "execution_count": 8,
      "outputs": [
        {
          "output_type": "display_data",
          "data": {
            "text/plain": [
              "<IPython.core.display.HTML object>"
            ],
            "text/html": [
              "\n",
              "     <input type=\"file\" id=\"files-74a0ff73-3ee7-42c3-b64c-81a30fffd9ff\" name=\"files[]\" multiple disabled\n",
              "        style=\"border:none\" />\n",
              "     <output id=\"result-74a0ff73-3ee7-42c3-b64c-81a30fffd9ff\">\n",
              "      Upload widget is only available when the cell has been executed in the\n",
              "      current browser session. Please rerun this cell to enable.\n",
              "      </output>\n",
              "      <script>// Copyright 2017 Google LLC\n",
              "//\n",
              "// Licensed under the Apache License, Version 2.0 (the \"License\");\n",
              "// you may not use this file except in compliance with the License.\n",
              "// You may obtain a copy of the License at\n",
              "//\n",
              "//      http://www.apache.org/licenses/LICENSE-2.0\n",
              "//\n",
              "// Unless required by applicable law or agreed to in writing, software\n",
              "// distributed under the License is distributed on an \"AS IS\" BASIS,\n",
              "// WITHOUT WARRANTIES OR CONDITIONS OF ANY KIND, either express or implied.\n",
              "// See the License for the specific language governing permissions and\n",
              "// limitations under the License.\n",
              "\n",
              "/**\n",
              " * @fileoverview Helpers for google.colab Python module.\n",
              " */\n",
              "(function(scope) {\n",
              "function span(text, styleAttributes = {}) {\n",
              "  const element = document.createElement('span');\n",
              "  element.textContent = text;\n",
              "  for (const key of Object.keys(styleAttributes)) {\n",
              "    element.style[key] = styleAttributes[key];\n",
              "  }\n",
              "  return element;\n",
              "}\n",
              "\n",
              "// Max number of bytes which will be uploaded at a time.\n",
              "const MAX_PAYLOAD_SIZE = 100 * 1024;\n",
              "\n",
              "function _uploadFiles(inputId, outputId) {\n",
              "  const steps = uploadFilesStep(inputId, outputId);\n",
              "  const outputElement = document.getElementById(outputId);\n",
              "  // Cache steps on the outputElement to make it available for the next call\n",
              "  // to uploadFilesContinue from Python.\n",
              "  outputElement.steps = steps;\n",
              "\n",
              "  return _uploadFilesContinue(outputId);\n",
              "}\n",
              "\n",
              "// This is roughly an async generator (not supported in the browser yet),\n",
              "// where there are multiple asynchronous steps and the Python side is going\n",
              "// to poll for completion of each step.\n",
              "// This uses a Promise to block the python side on completion of each step,\n",
              "// then passes the result of the previous step as the input to the next step.\n",
              "function _uploadFilesContinue(outputId) {\n",
              "  const outputElement = document.getElementById(outputId);\n",
              "  const steps = outputElement.steps;\n",
              "\n",
              "  const next = steps.next(outputElement.lastPromiseValue);\n",
              "  return Promise.resolve(next.value.promise).then((value) => {\n",
              "    // Cache the last promise value to make it available to the next\n",
              "    // step of the generator.\n",
              "    outputElement.lastPromiseValue = value;\n",
              "    return next.value.response;\n",
              "  });\n",
              "}\n",
              "\n",
              "/**\n",
              " * Generator function which is called between each async step of the upload\n",
              " * process.\n",
              " * @param {string} inputId Element ID of the input file picker element.\n",
              " * @param {string} outputId Element ID of the output display.\n",
              " * @return {!Iterable<!Object>} Iterable of next steps.\n",
              " */\n",
              "function* uploadFilesStep(inputId, outputId) {\n",
              "  const inputElement = document.getElementById(inputId);\n",
              "  inputElement.disabled = false;\n",
              "\n",
              "  const outputElement = document.getElementById(outputId);\n",
              "  outputElement.innerHTML = '';\n",
              "\n",
              "  const pickedPromise = new Promise((resolve) => {\n",
              "    inputElement.addEventListener('change', (e) => {\n",
              "      resolve(e.target.files);\n",
              "    });\n",
              "  });\n",
              "\n",
              "  const cancel = document.createElement('button');\n",
              "  inputElement.parentElement.appendChild(cancel);\n",
              "  cancel.textContent = 'Cancel upload';\n",
              "  const cancelPromise = new Promise((resolve) => {\n",
              "    cancel.onclick = () => {\n",
              "      resolve(null);\n",
              "    };\n",
              "  });\n",
              "\n",
              "  // Wait for the user to pick the files.\n",
              "  const files = yield {\n",
              "    promise: Promise.race([pickedPromise, cancelPromise]),\n",
              "    response: {\n",
              "      action: 'starting',\n",
              "    }\n",
              "  };\n",
              "\n",
              "  cancel.remove();\n",
              "\n",
              "  // Disable the input element since further picks are not allowed.\n",
              "  inputElement.disabled = true;\n",
              "\n",
              "  if (!files) {\n",
              "    return {\n",
              "      response: {\n",
              "        action: 'complete',\n",
              "      }\n",
              "    };\n",
              "  }\n",
              "\n",
              "  for (const file of files) {\n",
              "    const li = document.createElement('li');\n",
              "    li.append(span(file.name, {fontWeight: 'bold'}));\n",
              "    li.append(span(\n",
              "        `(${file.type || 'n/a'}) - ${file.size} bytes, ` +\n",
              "        `last modified: ${\n",
              "            file.lastModifiedDate ? file.lastModifiedDate.toLocaleDateString() :\n",
              "                                    'n/a'} - `));\n",
              "    const percent = span('0% done');\n",
              "    li.appendChild(percent);\n",
              "\n",
              "    outputElement.appendChild(li);\n",
              "\n",
              "    const fileDataPromise = new Promise((resolve) => {\n",
              "      const reader = new FileReader();\n",
              "      reader.onload = (e) => {\n",
              "        resolve(e.target.result);\n",
              "      };\n",
              "      reader.readAsArrayBuffer(file);\n",
              "    });\n",
              "    // Wait for the data to be ready.\n",
              "    let fileData = yield {\n",
              "      promise: fileDataPromise,\n",
              "      response: {\n",
              "        action: 'continue',\n",
              "      }\n",
              "    };\n",
              "\n",
              "    // Use a chunked sending to avoid message size limits. See b/62115660.\n",
              "    let position = 0;\n",
              "    do {\n",
              "      const length = Math.min(fileData.byteLength - position, MAX_PAYLOAD_SIZE);\n",
              "      const chunk = new Uint8Array(fileData, position, length);\n",
              "      position += length;\n",
              "\n",
              "      const base64 = btoa(String.fromCharCode.apply(null, chunk));\n",
              "      yield {\n",
              "        response: {\n",
              "          action: 'append',\n",
              "          file: file.name,\n",
              "          data: base64,\n",
              "        },\n",
              "      };\n",
              "\n",
              "      let percentDone = fileData.byteLength === 0 ?\n",
              "          100 :\n",
              "          Math.round((position / fileData.byteLength) * 100);\n",
              "      percent.textContent = `${percentDone}% done`;\n",
              "\n",
              "    } while (position < fileData.byteLength);\n",
              "  }\n",
              "\n",
              "  // All done.\n",
              "  yield {\n",
              "    response: {\n",
              "      action: 'complete',\n",
              "    }\n",
              "  };\n",
              "}\n",
              "\n",
              "scope.google = scope.google || {};\n",
              "scope.google.colab = scope.google.colab || {};\n",
              "scope.google.colab._files = {\n",
              "  _uploadFiles,\n",
              "  _uploadFilesContinue,\n",
              "};\n",
              "})(self);\n",
              "</script> "
            ]
          },
          "metadata": {}
        },
        {
          "output_type": "stream",
          "name": "stdout",
          "text": [
            "Saving Inflation by City.csv to Inflation by City.csv\n"
          ]
        }
      ]
    },
    {
      "cell_type": "code",
      "source": [
        "# Department of Housing Avg. Rent Prices\n",
        "hud_df = pd.read_csv(io.BytesIO(uploaded['hud_final.csv']), parse_dates=[\"Year\"])"
      ],
      "metadata": {
        "id": "VloQj_zh3fkn"
      },
      "execution_count": null,
      "outputs": []
    },
    {
      "cell_type": "code",
      "source": [
        "# U.S. Census Bureau Household Pulse Survey\n",
        "tw_df = pd.read_csv(io.BytesIO(uploaded['teleworked_covid.csv']), parse_dates=[\"Date\"])"
      ],
      "metadata": {
        "id": "MLtV20L3MuhA"
      },
      "execution_count": null,
      "outputs": []
    },
    {
      "cell_type": "code",
      "source": [
        "population_df = pd.read_csv(io.BytesIO(uploaded['mobility_df.csv']))"
      ],
      "metadata": {
        "id": "cq2SzkVqv_W8"
      },
      "execution_count": null,
      "outputs": []
    },
    {
      "cell_type": "code",
      "source": [
        "#annual inflation rates by city\n",
        "inflation_df = pd.read_csv(io.BytesIO(uploaded['Annual Inflation Rates.csv']))"
      ],
      "metadata": {
        "id": "u-letwbAOASG"
      },
      "execution_count": null,
      "outputs": []
    },
    {
      "cell_type": "code",
      "source": [
        "# Zillow homes inventory\n",
        "df_iv = pd.read_csv(io.BytesIO(uploaded['Metro_invt_fs_uc_sfrcondo_month.csv']))"
      ],
      "metadata": {
        "id": "L0TTGwfTYOUD"
      },
      "execution_count": 5,
      "outputs": []
    },
    {
      "cell_type": "code",
      "source": [
        "# Zillow homes sale price\n",
        "df_sp = pd.read_csv(io.BytesIO(uploaded['Metro_median_sale_price_uc_sfrcondo_month.csv']))"
      ],
      "metadata": {
        "id": "wLsOJrOJYODZ"
      },
      "execution_count": 7,
      "outputs": []
    },
    {
      "cell_type": "code",
      "source": [
        "# Inflation by City - Sent by Caprina\n",
        "df_infc = pd.read_csv(io.BytesIO(uploaded['Inflation by City.csv']))"
      ],
      "metadata": {
        "id": "6QhsRo_AaqrF"
      },
      "execution_count": 9,
      "outputs": []
    },
    {
      "cell_type": "markdown",
      "source": [
        "## Data Insights"
      ],
      "metadata": {
        "id": "QK8TUvRNaa3m"
      }
    },
    {
      "cell_type": "markdown",
      "source": [
        "### 1.   Which cities had the highest work from home populations? "
      ],
      "metadata": {
        "id": "xI6Sq0fq4AOM"
      }
    },
    {
      "cell_type": "code",
      "source": [
        "metro_areas = tw_df[tw_df['Area'].str.contains('Metro Area')]\n",
        "metro_areas = metro_areas.groupby('Area')['Number', 'MOE', 'Percent', 'Percent MOE'].mean()\n",
        "metro_areas.reset_index(inplace=True)\n",
        "metro_areas['Number'] = metro_areas['Number'].apply(lambda x: \"{:f}\".format(x))\n",
        "metro_areas['Number'] = metro_areas['Number'].astype('float')\n",
        "metro_areas['Area'] = metro_areas['Area'].str.split(\" Metro\", expand=True)[0]\n",
        "metro_areas = metro_areas.round(2)"
      ],
      "metadata": {
        "id": "Yz47xo3kdEt9"
      },
      "execution_count": null,
      "outputs": []
    },
    {
      "cell_type": "code",
      "source": [
        "metro_areas.sort_values(by=['Percent'], ascending=True, inplace=True)\n",
        "\n",
        "fig = px.bar(metro_areas, \n",
        "             x=\"Percent\", \n",
        "             y=\"Area\",\n",
        "             error_x=\"Percent MOE\",\n",
        "             custom_data=[\"Percent MOE\"],\n",
        "             labels={'Area': 'U.S. Metro Area', \n",
        "                     \"Percent\": \"Working From Home During the Pandemic\"},\n",
        "             orientation='h')\n",
        "\n",
        "fig.update_traces(hovertemplate=\n",
        "                  \"<b>%{y}</b><br><br>\" +\n",
        "                  \"Working From Home: %{x}\" \n",
        "                  \"<extra></extra>\",\n",
        "                  marker_color='rgb(158,202,225)', \n",
        "                  marker_line_color='rgb(8,48,107)',\n",
        "                  marker_line_width=1.5,\n",
        "                  opacity=0.6\n",
        "                  )\n",
        "\n",
        "fig.update_layout(\n",
        "    title=dict(\n",
        "        text=\"U.S. cities with highest percentage of households where at least one adult has worked from home due to COVID-19\",\n",
        "        x=0.5,\n",
        "        y=0.95,\n",
        "        xanchor=\"center\",\n",
        "        yanchor=\"top\"\n",
        "    ),\n",
        "    hoverlabel=dict(\n",
        "        font_size=16,\n",
        "        font_family=\"Rockwell\"\n",
        "    ),\n",
        "    xaxis_ticksuffix=\"%\"\n",
        "    \n",
        ")\n",
        "fig.show()"
      ],
      "metadata": {
        "colab": {
          "base_uri": "https://localhost:8080/",
          "height": 542
        },
        "id": "v6XOtYrXomM9",
        "outputId": "851da90c-e890-4ce0-88c3-193d6c5f1e84"
      },
      "execution_count": null,
      "outputs": [
        {
          "output_type": "display_data",
          "data": {
            "text/html": [
              "<html>\n",
              "<head><meta charset=\"utf-8\" /></head>\n",
              "<body>\n",
              "    <div>            <script src=\"https://cdnjs.cloudflare.com/ajax/libs/mathjax/2.7.5/MathJax.js?config=TeX-AMS-MML_SVG\"></script><script type=\"text/javascript\">if (window.MathJax && window.MathJax.Hub && window.MathJax.Hub.Config) {window.MathJax.Hub.Config({SVG: {font: \"STIX-Web\"}});}</script>                <script type=\"text/javascript\">window.PlotlyConfig = {MathJaxConfig: 'local'};</script>\n",
              "        <script src=\"https://cdn.plot.ly/plotly-2.16.1.min.js\"></script>                <div id=\"2f3ce9b9-145f-4a93-873d-b53e2c6f8d43\" class=\"plotly-graph-div\" style=\"height:525px; width:100%;\"></div>            <script type=\"text/javascript\">                                    window.PLOTLYENV=window.PLOTLYENV || {};                                    if (document.getElementById(\"2f3ce9b9-145f-4a93-873d-b53e2c6f8d43\")) {                    Plotly.newPlot(                        \"2f3ce9b9-145f-4a93-873d-b53e2c6f8d43\",                        [{\"alignmentgroup\":\"True\",\"customdata\":[[3.22],[3.12],[3.08],[3.07],[3.45],[3.28],[3.0],[2.8],[2.78],[2.75],[2.9],[2.82],[2.72],[3.67],[2.65]],\"error_x\":{\"array\":[3.22,3.12,3.08,3.07,3.45,3.28,3.0,2.8,2.78,2.75,2.9,2.82,2.72,3.67,2.65]},\"hovertemplate\":\"<b>%{y}</b><br><br>Working From Home: %{x}<extra></extra>\",\"legendgroup\":\"\",\"marker\":{\"color\":\"rgb(158,202,225)\",\"pattern\":{\"shape\":\"\"},\"line\":{\"color\":\"rgb(8,48,107)\",\"width\":1.5}},\"name\":\"\",\"offsetgroup\":\"\",\"orientation\":\"h\",\"showlegend\":false,\"textposition\":\"auto\",\"x\":[19.82,21.82,24.23,27.55,29.32,29.48,29.95,30.47,31.37,32.15,33.28,40.52,41.8,44.23,47.2],\"xaxis\":\"x\",\"y\":[\"Riverside-San Bernardino-Ontario, CA\",\"Houston-The Woodlands-Sugar Land, TX\",\"Miami-Fort Lauderdale-Pompano Beach, FL\",\"Detroit-Warren-Dearborn, MI\",\"Dallas-Fort Worth-Arlington, TX\",\"Phoenix-Mesa-Chandler, AZ\",\"Atlanta-Sandy Springs-Alpharetta, GA\",\"Los Angeles-Long Beach-Anaheim, CA\",\"Philadelphia-Camden-Wilmington, PA-NJ-DE-MD\",\"Chicago-Naperville-Elgin, IL-IN-WI\",\"New York-Newark-Jersey City, NY-NJ-PA\",\"Seattle-Tacoma-Bellevue, WA\",\"Boston-Cambridge-Newton, MA-NH\",\"San Francisco-Oakland-Berkeley, CA\",\"Washington-Arlington-Alexandria, DC-VA-MD-WV\"],\"yaxis\":\"y\",\"type\":\"bar\",\"opacity\":0.6}],                        {\"template\":{\"data\":{\"histogram2dcontour\":[{\"type\":\"histogram2dcontour\",\"colorbar\":{\"outlinewidth\":0,\"ticks\":\"\"},\"colorscale\":[[0.0,\"#0d0887\"],[0.1111111111111111,\"#46039f\"],[0.2222222222222222,\"#7201a8\"],[0.3333333333333333,\"#9c179e\"],[0.4444444444444444,\"#bd3786\"],[0.5555555555555556,\"#d8576b\"],[0.6666666666666666,\"#ed7953\"],[0.7777777777777778,\"#fb9f3a\"],[0.8888888888888888,\"#fdca26\"],[1.0,\"#f0f921\"]]}],\"choropleth\":[{\"type\":\"choropleth\",\"colorbar\":{\"outlinewidth\":0,\"ticks\":\"\"}}],\"histogram2d\":[{\"type\":\"histogram2d\",\"colorbar\":{\"outlinewidth\":0,\"ticks\":\"\"},\"colorscale\":[[0.0,\"#0d0887\"],[0.1111111111111111,\"#46039f\"],[0.2222222222222222,\"#7201a8\"],[0.3333333333333333,\"#9c179e\"],[0.4444444444444444,\"#bd3786\"],[0.5555555555555556,\"#d8576b\"],[0.6666666666666666,\"#ed7953\"],[0.7777777777777778,\"#fb9f3a\"],[0.8888888888888888,\"#fdca26\"],[1.0,\"#f0f921\"]]}],\"heatmap\":[{\"type\":\"heatmap\",\"colorbar\":{\"outlinewidth\":0,\"ticks\":\"\"},\"colorscale\":[[0.0,\"#0d0887\"],[0.1111111111111111,\"#46039f\"],[0.2222222222222222,\"#7201a8\"],[0.3333333333333333,\"#9c179e\"],[0.4444444444444444,\"#bd3786\"],[0.5555555555555556,\"#d8576b\"],[0.6666666666666666,\"#ed7953\"],[0.7777777777777778,\"#fb9f3a\"],[0.8888888888888888,\"#fdca26\"],[1.0,\"#f0f921\"]]}],\"heatmapgl\":[{\"type\":\"heatmapgl\",\"colorbar\":{\"outlinewidth\":0,\"ticks\":\"\"},\"colorscale\":[[0.0,\"#0d0887\"],[0.1111111111111111,\"#46039f\"],[0.2222222222222222,\"#7201a8\"],[0.3333333333333333,\"#9c179e\"],[0.4444444444444444,\"#bd3786\"],[0.5555555555555556,\"#d8576b\"],[0.6666666666666666,\"#ed7953\"],[0.7777777777777778,\"#fb9f3a\"],[0.8888888888888888,\"#fdca26\"],[1.0,\"#f0f921\"]]}],\"contourcarpet\":[{\"type\":\"contourcarpet\",\"colorbar\":{\"outlinewidth\":0,\"ticks\":\"\"}}],\"contour\":[{\"type\":\"contour\",\"colorbar\":{\"outlinewidth\":0,\"ticks\":\"\"},\"colorscale\":[[0.0,\"#0d0887\"],[0.1111111111111111,\"#46039f\"],[0.2222222222222222,\"#7201a8\"],[0.3333333333333333,\"#9c179e\"],[0.4444444444444444,\"#bd3786\"],[0.5555555555555556,\"#d8576b\"],[0.6666666666666666,\"#ed7953\"],[0.7777777777777778,\"#fb9f3a\"],[0.8888888888888888,\"#fdca26\"],[1.0,\"#f0f921\"]]}],\"surface\":[{\"type\":\"surface\",\"colorbar\":{\"outlinewidth\":0,\"ticks\":\"\"},\"colorscale\":[[0.0,\"#0d0887\"],[0.1111111111111111,\"#46039f\"],[0.2222222222222222,\"#7201a8\"],[0.3333333333333333,\"#9c179e\"],[0.4444444444444444,\"#bd3786\"],[0.5555555555555556,\"#d8576b\"],[0.6666666666666666,\"#ed7953\"],[0.7777777777777778,\"#fb9f3a\"],[0.8888888888888888,\"#fdca26\"],[1.0,\"#f0f921\"]]}],\"mesh3d\":[{\"type\":\"mesh3d\",\"colorbar\":{\"outlinewidth\":0,\"ticks\":\"\"}}],\"scatter\":[{\"fillpattern\":{\"fillmode\":\"overlay\",\"size\":10,\"solidity\":0.2},\"type\":\"scatter\"}],\"parcoords\":[{\"type\":\"parcoords\",\"line\":{\"colorbar\":{\"outlinewidth\":0,\"ticks\":\"\"}}}],\"scatterpolargl\":[{\"type\":\"scatterpolargl\",\"marker\":{\"colorbar\":{\"outlinewidth\":0,\"ticks\":\"\"}}}],\"bar\":[{\"error_x\":{\"color\":\"#2a3f5f\"},\"error_y\":{\"color\":\"#2a3f5f\"},\"marker\":{\"line\":{\"color\":\"#E5ECF6\",\"width\":0.5},\"pattern\":{\"fillmode\":\"overlay\",\"size\":10,\"solidity\":0.2}},\"type\":\"bar\"}],\"scattergeo\":[{\"type\":\"scattergeo\",\"marker\":{\"colorbar\":{\"outlinewidth\":0,\"ticks\":\"\"}}}],\"scatterpolar\":[{\"type\":\"scatterpolar\",\"marker\":{\"colorbar\":{\"outlinewidth\":0,\"ticks\":\"\"}}}],\"histogram\":[{\"marker\":{\"pattern\":{\"fillmode\":\"overlay\",\"size\":10,\"solidity\":0.2}},\"type\":\"histogram\"}],\"scattergl\":[{\"type\":\"scattergl\",\"marker\":{\"colorbar\":{\"outlinewidth\":0,\"ticks\":\"\"}}}],\"scatter3d\":[{\"type\":\"scatter3d\",\"line\":{\"colorbar\":{\"outlinewidth\":0,\"ticks\":\"\"}},\"marker\":{\"colorbar\":{\"outlinewidth\":0,\"ticks\":\"\"}}}],\"scattermapbox\":[{\"type\":\"scattermapbox\",\"marker\":{\"colorbar\":{\"outlinewidth\":0,\"ticks\":\"\"}}}],\"scatterternary\":[{\"type\":\"scatterternary\",\"marker\":{\"colorbar\":{\"outlinewidth\":0,\"ticks\":\"\"}}}],\"scattercarpet\":[{\"type\":\"scattercarpet\",\"marker\":{\"colorbar\":{\"outlinewidth\":0,\"ticks\":\"\"}}}],\"carpet\":[{\"aaxis\":{\"endlinecolor\":\"#2a3f5f\",\"gridcolor\":\"white\",\"linecolor\":\"white\",\"minorgridcolor\":\"white\",\"startlinecolor\":\"#2a3f5f\"},\"baxis\":{\"endlinecolor\":\"#2a3f5f\",\"gridcolor\":\"white\",\"linecolor\":\"white\",\"minorgridcolor\":\"white\",\"startlinecolor\":\"#2a3f5f\"},\"type\":\"carpet\"}],\"table\":[{\"cells\":{\"fill\":{\"color\":\"#EBF0F8\"},\"line\":{\"color\":\"white\"}},\"header\":{\"fill\":{\"color\":\"#C8D4E3\"},\"line\":{\"color\":\"white\"}},\"type\":\"table\"}],\"barpolar\":[{\"marker\":{\"line\":{\"color\":\"#E5ECF6\",\"width\":0.5},\"pattern\":{\"fillmode\":\"overlay\",\"size\":10,\"solidity\":0.2}},\"type\":\"barpolar\"}],\"pie\":[{\"automargin\":true,\"type\":\"pie\"}]},\"layout\":{\"autotypenumbers\":\"strict\",\"colorway\":[\"#636efa\",\"#EF553B\",\"#00cc96\",\"#ab63fa\",\"#FFA15A\",\"#19d3f3\",\"#FF6692\",\"#B6E880\",\"#FF97FF\",\"#FECB52\"],\"font\":{\"color\":\"#2a3f5f\"},\"hovermode\":\"closest\",\"hoverlabel\":{\"align\":\"left\"},\"paper_bgcolor\":\"white\",\"plot_bgcolor\":\"#E5ECF6\",\"polar\":{\"bgcolor\":\"#E5ECF6\",\"angularaxis\":{\"gridcolor\":\"white\",\"linecolor\":\"white\",\"ticks\":\"\"},\"radialaxis\":{\"gridcolor\":\"white\",\"linecolor\":\"white\",\"ticks\":\"\"}},\"ternary\":{\"bgcolor\":\"#E5ECF6\",\"aaxis\":{\"gridcolor\":\"white\",\"linecolor\":\"white\",\"ticks\":\"\"},\"baxis\":{\"gridcolor\":\"white\",\"linecolor\":\"white\",\"ticks\":\"\"},\"caxis\":{\"gridcolor\":\"white\",\"linecolor\":\"white\",\"ticks\":\"\"}},\"coloraxis\":{\"colorbar\":{\"outlinewidth\":0,\"ticks\":\"\"}},\"colorscale\":{\"sequential\":[[0.0,\"#0d0887\"],[0.1111111111111111,\"#46039f\"],[0.2222222222222222,\"#7201a8\"],[0.3333333333333333,\"#9c179e\"],[0.4444444444444444,\"#bd3786\"],[0.5555555555555556,\"#d8576b\"],[0.6666666666666666,\"#ed7953\"],[0.7777777777777778,\"#fb9f3a\"],[0.8888888888888888,\"#fdca26\"],[1.0,\"#f0f921\"]],\"sequentialminus\":[[0.0,\"#0d0887\"],[0.1111111111111111,\"#46039f\"],[0.2222222222222222,\"#7201a8\"],[0.3333333333333333,\"#9c179e\"],[0.4444444444444444,\"#bd3786\"],[0.5555555555555556,\"#d8576b\"],[0.6666666666666666,\"#ed7953\"],[0.7777777777777778,\"#fb9f3a\"],[0.8888888888888888,\"#fdca26\"],[1.0,\"#f0f921\"]],\"diverging\":[[0,\"#8e0152\"],[0.1,\"#c51b7d\"],[0.2,\"#de77ae\"],[0.3,\"#f1b6da\"],[0.4,\"#fde0ef\"],[0.5,\"#f7f7f7\"],[0.6,\"#e6f5d0\"],[0.7,\"#b8e186\"],[0.8,\"#7fbc41\"],[0.9,\"#4d9221\"],[1,\"#276419\"]]},\"xaxis\":{\"gridcolor\":\"white\",\"linecolor\":\"white\",\"ticks\":\"\",\"title\":{\"standoff\":15},\"zerolinecolor\":\"white\",\"automargin\":true,\"zerolinewidth\":2},\"yaxis\":{\"gridcolor\":\"white\",\"linecolor\":\"white\",\"ticks\":\"\",\"title\":{\"standoff\":15},\"zerolinecolor\":\"white\",\"automargin\":true,\"zerolinewidth\":2},\"scene\":{\"xaxis\":{\"backgroundcolor\":\"#E5ECF6\",\"gridcolor\":\"white\",\"linecolor\":\"white\",\"showbackground\":true,\"ticks\":\"\",\"zerolinecolor\":\"white\",\"gridwidth\":2},\"yaxis\":{\"backgroundcolor\":\"#E5ECF6\",\"gridcolor\":\"white\",\"linecolor\":\"white\",\"showbackground\":true,\"ticks\":\"\",\"zerolinecolor\":\"white\",\"gridwidth\":2},\"zaxis\":{\"backgroundcolor\":\"#E5ECF6\",\"gridcolor\":\"white\",\"linecolor\":\"white\",\"showbackground\":true,\"ticks\":\"\",\"zerolinecolor\":\"white\",\"gridwidth\":2}},\"shapedefaults\":{\"line\":{\"color\":\"#2a3f5f\"}},\"annotationdefaults\":{\"arrowcolor\":\"#2a3f5f\",\"arrowhead\":0,\"arrowwidth\":1},\"geo\":{\"bgcolor\":\"white\",\"landcolor\":\"#E5ECF6\",\"subunitcolor\":\"white\",\"showland\":true,\"showlakes\":true,\"lakecolor\":\"white\"},\"title\":{\"x\":0.05},\"mapbox\":{\"style\":\"light\"}}},\"xaxis\":{\"anchor\":\"y\",\"domain\":[0.0,1.0],\"title\":{\"text\":\"Working From Home During the Pandemic\"},\"ticksuffix\":\"%\"},\"yaxis\":{\"anchor\":\"x\",\"domain\":[0.0,1.0],\"title\":{\"text\":\"U.S. Metro Area\"}},\"legend\":{\"tracegroupgap\":0},\"margin\":{\"t\":60},\"barmode\":\"relative\",\"title\":{\"text\":\"U.S. cities with highest percentage of households where at least one adult has worked from home due to COVID-19\",\"x\":0.5,\"y\":0.95,\"xanchor\":\"center\",\"yanchor\":\"top\"},\"hoverlabel\":{\"font\":{\"size\":16,\"family\":\"Rockwell\"}}},                        {\"responsive\": true}                    ).then(function(){\n",
              "                            \n",
              "var gd = document.getElementById('2f3ce9b9-145f-4a93-873d-b53e2c6f8d43');\n",
              "var x = new MutationObserver(function (mutations, observer) {{\n",
              "        var display = window.getComputedStyle(gd).display;\n",
              "        if (!display || display === 'none') {{\n",
              "            console.log([gd, 'removed!']);\n",
              "            Plotly.purge(gd);\n",
              "            observer.disconnect();\n",
              "        }}\n",
              "}});\n",
              "\n",
              "// Listen for the removal of the full notebook cells\n",
              "var notebookContainer = gd.closest('#notebook-container');\n",
              "if (notebookContainer) {{\n",
              "    x.observe(notebookContainer, {childList: true});\n",
              "}}\n",
              "\n",
              "// Listen for the clearing of the current output cell\n",
              "var outputEl = gd.closest('.output');\n",
              "if (outputEl) {{\n",
              "    x.observe(outputEl, {childList: true});\n",
              "}}\n",
              "\n",
              "                        })                };                            </script>        </div>\n",
              "</body>\n",
              "</html>"
            ]
          },
          "metadata": {}
        }
      ]
    },
    {
      "cell_type": "markdown",
      "source": [
        "##### *D.C., San Francisco, Boston, and Seattle Metro Areas had highest percentage of household that working from home during COVID-19 pandemic*\n",
        "\n",
        "The Washington-Arlington-Alexandria, San Francisco-Oakland-Berkeley, and Boston-Cambridge-Newton metro areas had the highest percentage of households working from home throughout the COVID-19 pandemic where approximately 47%, 44%, and 42% of households had at least one adult 18 years or older working completely from home. "
      ],
      "metadata": {
        "id": "jQyqO5F2tbUs"
      }
    },
    {
      "cell_type": "markdown",
      "source": [
        "### 2.   Which states had the highest work from home populations? "
      ],
      "metadata": {
        "id": "8nyHJlDY4TMH"
      }
    },
    {
      "cell_type": "code",
      "source": [
        "states = tw_df[~(tw_df['Area'].str.contains('Metro Area') | tw_df['Area'].str.contains('United States'))]\n",
        "states = states.groupby('Area')['Number', 'MOE', \n",
        "                                'Percent', 'Percent MOE'].mean()\n",
        "states.reset_index(inplace=True)\n",
        "states['Number'] = states['Number'].apply(lambda x: \"{:f}\".format(x))\n",
        "states['Number'] = states['Number'].astype('float')\n",
        "states = states.round(2)\n",
        "\n",
        "top_states = states.head(10)\n",
        "top_states.sort_values(by=['Percent'], ascending=True, inplace=True)"
      ],
      "metadata": {
        "id": "4U55EoHefFUv"
      },
      "execution_count": null,
      "outputs": []
    },
    {
      "cell_type": "code",
      "source": [
        "fig = px.bar(top_states, \n",
        "             x=\"Percent\", \n",
        "             y=\"Area\",\n",
        "             error_x=\"Percent MOE\",\n",
        "             custom_data=[\"Percent MOE\"],\n",
        "             labels={'Area': 'State', \n",
        "                     \"Percent\": \"Working From Home During the Pandemic\"},\n",
        "             orientation='h')\n",
        "\n",
        "fig.update_traces(hovertemplate=\n",
        "                  \"<b>%{y}</b><br><br>\" +\n",
        "                  \"Working From Home: %{x}\" \n",
        "                  \"<extra></extra>\",\n",
        "                  marker_color='rgb(158,202,225)', \n",
        "                  marker_line_color='rgb(8,48,107)',\n",
        "                  marker_line_width=1.5,\n",
        "                  opacity=0.6\n",
        "                  )\n",
        "\n",
        "fig.update_layout(\n",
        "    title=dict(\n",
        "        text=\"States with highest percentage of households where at least one adult has worked from home due to COVID-19\",\n",
        "        x=0.5,\n",
        "        y=0.95,\n",
        "        xanchor=\"center\",\n",
        "        yanchor=\"top\"\n",
        "    ),\n",
        "    hoverlabel=dict(\n",
        "        font_size=16,\n",
        "        font_family=\"Rockwell\"\n",
        "    ),\n",
        "    xaxis_ticksuffix=\"%\"\n",
        "    \n",
        ")\n",
        "fig.show()"
      ],
      "metadata": {
        "colab": {
          "base_uri": "https://localhost:8080/",
          "height": 542
        },
        "id": "SVZRUiXf9YrK",
        "outputId": "3397802d-6b5f-4b9e-8bd4-488780ec71f1"
      },
      "execution_count": null,
      "outputs": [
        {
          "output_type": "display_data",
          "data": {
            "text/html": [
              "<html>\n",
              "<head><meta charset=\"utf-8\" /></head>\n",
              "<body>\n",
              "    <div>            <script src=\"https://cdnjs.cloudflare.com/ajax/libs/mathjax/2.7.5/MathJax.js?config=TeX-AMS-MML_SVG\"></script><script type=\"text/javascript\">if (window.MathJax && window.MathJax.Hub && window.MathJax.Hub.Config) {window.MathJax.Hub.Config({SVG: {font: \"STIX-Web\"}});}</script>                <script type=\"text/javascript\">window.PlotlyConfig = {MathJaxConfig: 'local'};</script>\n",
              "        <script src=\"https://cdn.plot.ly/plotly-2.16.1.min.js\"></script>                <div id=\"6fff2263-bcea-425d-b6be-8c71497975d4\" class=\"plotly-graph-div\" style=\"height:525px; width:100%;\"></div>            <script type=\"text/javascript\">                                    window.PLOTLYENV=window.PLOTLYENV || {};                                    if (document.getElementById(\"6fff2263-bcea-425d-b6be-8c71497975d4\")) {                    Plotly.newPlot(                        \"6fff2263-bcea-425d-b6be-8c71497975d4\",                        [{\"alignmentgroup\":\"True\",\"customdata\":[[2.6],[2.87],[1.88],[2.65],[2.47],[3.77],[2.42],[1.62],[2.73],[3.43]],\"error_x\":{\"array\":[2.6,2.87,1.88,2.65,2.47,3.77,2.42,1.62,2.73,3.43]},\"hovertemplate\":\"<b>%{y}</b><br><br>Working From Home: %{x}<extra></extra>\",\"legendgroup\":\"\",\"marker\":{\"color\":\"rgb(158,202,225)\",\"pattern\":{\"shape\":\"\"},\"line\":{\"color\":\"rgb(8,48,107)\",\"width\":1.5}},\"name\":\"\",\"offsetgroup\":\"\",\"orientation\":\"h\",\"showlegend\":false,\"textposition\":\"auto\",\"x\":[14.6,14.92,19.5,19.78,25.6,27.83,28.8,30.15,32.72,55.83],\"xaxis\":\"x\",\"y\":[\"Alabama\",\"Arkansas\",\"Florida\",\"Alaska\",\"Arizona\",\"Delaware\",\"Connecticut\",\"California\",\"Colorado\",\"District of Columbia\"],\"yaxis\":\"y\",\"type\":\"bar\",\"opacity\":0.6}],                        {\"template\":{\"data\":{\"histogram2dcontour\":[{\"type\":\"histogram2dcontour\",\"colorbar\":{\"outlinewidth\":0,\"ticks\":\"\"},\"colorscale\":[[0.0,\"#0d0887\"],[0.1111111111111111,\"#46039f\"],[0.2222222222222222,\"#7201a8\"],[0.3333333333333333,\"#9c179e\"],[0.4444444444444444,\"#bd3786\"],[0.5555555555555556,\"#d8576b\"],[0.6666666666666666,\"#ed7953\"],[0.7777777777777778,\"#fb9f3a\"],[0.8888888888888888,\"#fdca26\"],[1.0,\"#f0f921\"]]}],\"choropleth\":[{\"type\":\"choropleth\",\"colorbar\":{\"outlinewidth\":0,\"ticks\":\"\"}}],\"histogram2d\":[{\"type\":\"histogram2d\",\"colorbar\":{\"outlinewidth\":0,\"ticks\":\"\"},\"colorscale\":[[0.0,\"#0d0887\"],[0.1111111111111111,\"#46039f\"],[0.2222222222222222,\"#7201a8\"],[0.3333333333333333,\"#9c179e\"],[0.4444444444444444,\"#bd3786\"],[0.5555555555555556,\"#d8576b\"],[0.6666666666666666,\"#ed7953\"],[0.7777777777777778,\"#fb9f3a\"],[0.8888888888888888,\"#fdca26\"],[1.0,\"#f0f921\"]]}],\"heatmap\":[{\"type\":\"heatmap\",\"colorbar\":{\"outlinewidth\":0,\"ticks\":\"\"},\"colorscale\":[[0.0,\"#0d0887\"],[0.1111111111111111,\"#46039f\"],[0.2222222222222222,\"#7201a8\"],[0.3333333333333333,\"#9c179e\"],[0.4444444444444444,\"#bd3786\"],[0.5555555555555556,\"#d8576b\"],[0.6666666666666666,\"#ed7953\"],[0.7777777777777778,\"#fb9f3a\"],[0.8888888888888888,\"#fdca26\"],[1.0,\"#f0f921\"]]}],\"heatmapgl\":[{\"type\":\"heatmapgl\",\"colorbar\":{\"outlinewidth\":0,\"ticks\":\"\"},\"colorscale\":[[0.0,\"#0d0887\"],[0.1111111111111111,\"#46039f\"],[0.2222222222222222,\"#7201a8\"],[0.3333333333333333,\"#9c179e\"],[0.4444444444444444,\"#bd3786\"],[0.5555555555555556,\"#d8576b\"],[0.6666666666666666,\"#ed7953\"],[0.7777777777777778,\"#fb9f3a\"],[0.8888888888888888,\"#fdca26\"],[1.0,\"#f0f921\"]]}],\"contourcarpet\":[{\"type\":\"contourcarpet\",\"colorbar\":{\"outlinewidth\":0,\"ticks\":\"\"}}],\"contour\":[{\"type\":\"contour\",\"colorbar\":{\"outlinewidth\":0,\"ticks\":\"\"},\"colorscale\":[[0.0,\"#0d0887\"],[0.1111111111111111,\"#46039f\"],[0.2222222222222222,\"#7201a8\"],[0.3333333333333333,\"#9c179e\"],[0.4444444444444444,\"#bd3786\"],[0.5555555555555556,\"#d8576b\"],[0.6666666666666666,\"#ed7953\"],[0.7777777777777778,\"#fb9f3a\"],[0.8888888888888888,\"#fdca26\"],[1.0,\"#f0f921\"]]}],\"surface\":[{\"type\":\"surface\",\"colorbar\":{\"outlinewidth\":0,\"ticks\":\"\"},\"colorscale\":[[0.0,\"#0d0887\"],[0.1111111111111111,\"#46039f\"],[0.2222222222222222,\"#7201a8\"],[0.3333333333333333,\"#9c179e\"],[0.4444444444444444,\"#bd3786\"],[0.5555555555555556,\"#d8576b\"],[0.6666666666666666,\"#ed7953\"],[0.7777777777777778,\"#fb9f3a\"],[0.8888888888888888,\"#fdca26\"],[1.0,\"#f0f921\"]]}],\"mesh3d\":[{\"type\":\"mesh3d\",\"colorbar\":{\"outlinewidth\":0,\"ticks\":\"\"}}],\"scatter\":[{\"fillpattern\":{\"fillmode\":\"overlay\",\"size\":10,\"solidity\":0.2},\"type\":\"scatter\"}],\"parcoords\":[{\"type\":\"parcoords\",\"line\":{\"colorbar\":{\"outlinewidth\":0,\"ticks\":\"\"}}}],\"scatterpolargl\":[{\"type\":\"scatterpolargl\",\"marker\":{\"colorbar\":{\"outlinewidth\":0,\"ticks\":\"\"}}}],\"bar\":[{\"error_x\":{\"color\":\"#2a3f5f\"},\"error_y\":{\"color\":\"#2a3f5f\"},\"marker\":{\"line\":{\"color\":\"#E5ECF6\",\"width\":0.5},\"pattern\":{\"fillmode\":\"overlay\",\"size\":10,\"solidity\":0.2}},\"type\":\"bar\"}],\"scattergeo\":[{\"type\":\"scattergeo\",\"marker\":{\"colorbar\":{\"outlinewidth\":0,\"ticks\":\"\"}}}],\"scatterpolar\":[{\"type\":\"scatterpolar\",\"marker\":{\"colorbar\":{\"outlinewidth\":0,\"ticks\":\"\"}}}],\"histogram\":[{\"marker\":{\"pattern\":{\"fillmode\":\"overlay\",\"size\":10,\"solidity\":0.2}},\"type\":\"histogram\"}],\"scattergl\":[{\"type\":\"scattergl\",\"marker\":{\"colorbar\":{\"outlinewidth\":0,\"ticks\":\"\"}}}],\"scatter3d\":[{\"type\":\"scatter3d\",\"line\":{\"colorbar\":{\"outlinewidth\":0,\"ticks\":\"\"}},\"marker\":{\"colorbar\":{\"outlinewidth\":0,\"ticks\":\"\"}}}],\"scattermapbox\":[{\"type\":\"scattermapbox\",\"marker\":{\"colorbar\":{\"outlinewidth\":0,\"ticks\":\"\"}}}],\"scatterternary\":[{\"type\":\"scatterternary\",\"marker\":{\"colorbar\":{\"outlinewidth\":0,\"ticks\":\"\"}}}],\"scattercarpet\":[{\"type\":\"scattercarpet\",\"marker\":{\"colorbar\":{\"outlinewidth\":0,\"ticks\":\"\"}}}],\"carpet\":[{\"aaxis\":{\"endlinecolor\":\"#2a3f5f\",\"gridcolor\":\"white\",\"linecolor\":\"white\",\"minorgridcolor\":\"white\",\"startlinecolor\":\"#2a3f5f\"},\"baxis\":{\"endlinecolor\":\"#2a3f5f\",\"gridcolor\":\"white\",\"linecolor\":\"white\",\"minorgridcolor\":\"white\",\"startlinecolor\":\"#2a3f5f\"},\"type\":\"carpet\"}],\"table\":[{\"cells\":{\"fill\":{\"color\":\"#EBF0F8\"},\"line\":{\"color\":\"white\"}},\"header\":{\"fill\":{\"color\":\"#C8D4E3\"},\"line\":{\"color\":\"white\"}},\"type\":\"table\"}],\"barpolar\":[{\"marker\":{\"line\":{\"color\":\"#E5ECF6\",\"width\":0.5},\"pattern\":{\"fillmode\":\"overlay\",\"size\":10,\"solidity\":0.2}},\"type\":\"barpolar\"}],\"pie\":[{\"automargin\":true,\"type\":\"pie\"}]},\"layout\":{\"autotypenumbers\":\"strict\",\"colorway\":[\"#636efa\",\"#EF553B\",\"#00cc96\",\"#ab63fa\",\"#FFA15A\",\"#19d3f3\",\"#FF6692\",\"#B6E880\",\"#FF97FF\",\"#FECB52\"],\"font\":{\"color\":\"#2a3f5f\"},\"hovermode\":\"closest\",\"hoverlabel\":{\"align\":\"left\"},\"paper_bgcolor\":\"white\",\"plot_bgcolor\":\"#E5ECF6\",\"polar\":{\"bgcolor\":\"#E5ECF6\",\"angularaxis\":{\"gridcolor\":\"white\",\"linecolor\":\"white\",\"ticks\":\"\"},\"radialaxis\":{\"gridcolor\":\"white\",\"linecolor\":\"white\",\"ticks\":\"\"}},\"ternary\":{\"bgcolor\":\"#E5ECF6\",\"aaxis\":{\"gridcolor\":\"white\",\"linecolor\":\"white\",\"ticks\":\"\"},\"baxis\":{\"gridcolor\":\"white\",\"linecolor\":\"white\",\"ticks\":\"\"},\"caxis\":{\"gridcolor\":\"white\",\"linecolor\":\"white\",\"ticks\":\"\"}},\"coloraxis\":{\"colorbar\":{\"outlinewidth\":0,\"ticks\":\"\"}},\"colorscale\":{\"sequential\":[[0.0,\"#0d0887\"],[0.1111111111111111,\"#46039f\"],[0.2222222222222222,\"#7201a8\"],[0.3333333333333333,\"#9c179e\"],[0.4444444444444444,\"#bd3786\"],[0.5555555555555556,\"#d8576b\"],[0.6666666666666666,\"#ed7953\"],[0.7777777777777778,\"#fb9f3a\"],[0.8888888888888888,\"#fdca26\"],[1.0,\"#f0f921\"]],\"sequentialminus\":[[0.0,\"#0d0887\"],[0.1111111111111111,\"#46039f\"],[0.2222222222222222,\"#7201a8\"],[0.3333333333333333,\"#9c179e\"],[0.4444444444444444,\"#bd3786\"],[0.5555555555555556,\"#d8576b\"],[0.6666666666666666,\"#ed7953\"],[0.7777777777777778,\"#fb9f3a\"],[0.8888888888888888,\"#fdca26\"],[1.0,\"#f0f921\"]],\"diverging\":[[0,\"#8e0152\"],[0.1,\"#c51b7d\"],[0.2,\"#de77ae\"],[0.3,\"#f1b6da\"],[0.4,\"#fde0ef\"],[0.5,\"#f7f7f7\"],[0.6,\"#e6f5d0\"],[0.7,\"#b8e186\"],[0.8,\"#7fbc41\"],[0.9,\"#4d9221\"],[1,\"#276419\"]]},\"xaxis\":{\"gridcolor\":\"white\",\"linecolor\":\"white\",\"ticks\":\"\",\"title\":{\"standoff\":15},\"zerolinecolor\":\"white\",\"automargin\":true,\"zerolinewidth\":2},\"yaxis\":{\"gridcolor\":\"white\",\"linecolor\":\"white\",\"ticks\":\"\",\"title\":{\"standoff\":15},\"zerolinecolor\":\"white\",\"automargin\":true,\"zerolinewidth\":2},\"scene\":{\"xaxis\":{\"backgroundcolor\":\"#E5ECF6\",\"gridcolor\":\"white\",\"linecolor\":\"white\",\"showbackground\":true,\"ticks\":\"\",\"zerolinecolor\":\"white\",\"gridwidth\":2},\"yaxis\":{\"backgroundcolor\":\"#E5ECF6\",\"gridcolor\":\"white\",\"linecolor\":\"white\",\"showbackground\":true,\"ticks\":\"\",\"zerolinecolor\":\"white\",\"gridwidth\":2},\"zaxis\":{\"backgroundcolor\":\"#E5ECF6\",\"gridcolor\":\"white\",\"linecolor\":\"white\",\"showbackground\":true,\"ticks\":\"\",\"zerolinecolor\":\"white\",\"gridwidth\":2}},\"shapedefaults\":{\"line\":{\"color\":\"#2a3f5f\"}},\"annotationdefaults\":{\"arrowcolor\":\"#2a3f5f\",\"arrowhead\":0,\"arrowwidth\":1},\"geo\":{\"bgcolor\":\"white\",\"landcolor\":\"#E5ECF6\",\"subunitcolor\":\"white\",\"showland\":true,\"showlakes\":true,\"lakecolor\":\"white\"},\"title\":{\"x\":0.05},\"mapbox\":{\"style\":\"light\"}}},\"xaxis\":{\"anchor\":\"y\",\"domain\":[0.0,1.0],\"title\":{\"text\":\"Working From Home During the Pandemic\"},\"ticksuffix\":\"%\"},\"yaxis\":{\"anchor\":\"x\",\"domain\":[0.0,1.0],\"title\":{\"text\":\"State\"}},\"legend\":{\"tracegroupgap\":0},\"margin\":{\"t\":60},\"barmode\":\"relative\",\"title\":{\"text\":\"States with highest percentage of households where at least one adult has worked from home due to COVID-19\",\"x\":0.5,\"y\":0.95,\"xanchor\":\"center\",\"yanchor\":\"top\"},\"hoverlabel\":{\"font\":{\"size\":16,\"family\":\"Rockwell\"}}},                        {\"responsive\": true}                    ).then(function(){\n",
              "                            \n",
              "var gd = document.getElementById('6fff2263-bcea-425d-b6be-8c71497975d4');\n",
              "var x = new MutationObserver(function (mutations, observer) {{\n",
              "        var display = window.getComputedStyle(gd).display;\n",
              "        if (!display || display === 'none') {{\n",
              "            console.log([gd, 'removed!']);\n",
              "            Plotly.purge(gd);\n",
              "            observer.disconnect();\n",
              "        }}\n",
              "}});\n",
              "\n",
              "// Listen for the removal of the full notebook cells\n",
              "var notebookContainer = gd.closest('#notebook-container');\n",
              "if (notebookContainer) {{\n",
              "    x.observe(notebookContainer, {childList: true});\n",
              "}}\n",
              "\n",
              "// Listen for the clearing of the current output cell\n",
              "var outputEl = gd.closest('.output');\n",
              "if (outputEl) {{\n",
              "    x.observe(outputEl, {childList: true});\n",
              "}}\n",
              "\n",
              "                        })                };                            </script>        </div>\n",
              "</body>\n",
              "</html>"
            ]
          },
          "metadata": {}
        }
      ]
    },
    {
      "cell_type": "markdown",
      "source": [
        "##### *D.C., Colorado, and California  had highest percentage of households that working from home during COVID-19 pandemic*\n",
        "\n",
        "Approximately 56% of households in Washington, D.C., 33%, and 30% of households in Colorado and California reported that at least one person 18 years or older worked from home throughout the pandemic. Although Colorado had the second highest percentage of households working from home, its metro areas were part of the top 15 metro areas with the highest percentage of households working from home."
      ],
      "metadata": {
        "id": "8dFIt-OOwdDS"
      }
    },
    {
      "cell_type": "markdown",
      "source": [
        "### 3.   How have city growth rates changed and how is the population shifting? "
      ],
      "metadata": {
        "id": "I6H9EGVM4V1P"
      }
    },
    {
      "cell_type": "code",
      "source": [
        "population_df= population_df.set_index('CITY')\n",
        "#Splitting the df into two to get clearer plots\n",
        "population1 = population_df.head()\n",
        "population2 = population_df.tail()\n",
        "#Seperated Nashville since its values were very small compared to the rest\n",
        "nashville = population_df.iloc[[4]]"
      ],
      "metadata": {
        "id": "-N_80eBa0Uha"
      },
      "execution_count": null,
      "outputs": []
    },
    {
      "cell_type": "code",
      "source": [
        "#plotting two bar graphs of the cities against  the population of working age ie 18-64 that moved into the cities from different states\n",
        "\n",
        "population1.plot.bar(xlabel='CITY', ylabel= 'Working Population',figsize=(13,15))\n",
        "plt.title('Population That Moved Into the Cities From Different States')\n",
        "\n",
        "population2.plot.bar(xlabel='CITY', ylabel= 'Working Population',figsize=(13,15))\n",
        "plt.title('Population That Moved Into the Cities From Different States')\n",
        "\n",
        "#plotting a seperate graph tof nashville to clearly see its figures\n",
        "nashville.plot.bar(xlabel='CITY', ylabel= 'Working Population')\n",
        "plt.title('Population That Moved Into the Nashville From Different States')\n"
      ],
      "metadata": {
        "colab": {
          "base_uri": "https://localhost:8080/",
          "height": 1000
        },
        "id": "iVlwniAdBP6N",
        "outputId": "b85e77b9-1f93-40cf-ac2d-4df45307782f"
      },
      "execution_count": null,
      "outputs": [
        {
          "output_type": "execute_result",
          "data": {
            "text/plain": [
              "Text(0.5, 1.0, 'Population That Moved Into the Cities From Different States')"
            ]
          },
          "metadata": {},
          "execution_count": 12
        },
        {
          "output_type": "display_data",
          "data": {
            "text/plain": [
              "<Figure size 936x1080 with 1 Axes>"
            ],
            "image/png": "[encoded data removed]"
          },
          "metadata": {
            "needs_background": "light"
          }
        },
        {
          "output_type": "display_data",
          "data": {
            "text/plain": [
              "<Figure size 936x1080 with 1 Axes>"
            ],
            "image/png": "[encoded data removed]"
          },
          "metadata": {
            "needs_background": "light"
          }
        },
        {
          "output_type": "display_data",
          "data": {
            "text/plain": [
              "<Figure size 432x288 with 1 Axes>"
            ],
            "image/png": "[encoded data removed]"
          },
          "metadata": {
            "needs_background": "light"
          }
        }
      ]
    },
    {
      "cell_type": "code",
      "source": [
        "#calculating percentage differences in population change\n",
        "#calculating percentage changes across each year.\n",
        "mobility = pd.DataFrame()\n",
        "mobility['2020'] = ((population_df['2020']-population_df['2019'])/population_df['2019'])*100\n",
        "mobility['2021'] = ((population_df['2021']-population_df['2020'])/population_df['2020'])*100\n",
        "mobility"
      ],
      "metadata": {
        "colab": {
          "base_uri": "https://localhost:8080/",
          "height": 394
        },
        "id": "KrH2-XHCBfzD",
        "outputId": "08f0e73d-8b15-421f-e674-2b6dd69618b5"
      },
      "execution_count": null,
      "outputs": [
        {
          "output_type": "execute_result",
          "data": {
            "text/plain": [
              "                                     2020       2021\n",
              "CITY                                                \n",
              "Phoenix city, Arizona            1.562003  -2.605807\n",
              "Los Angeles city, California    -3.953127  -1.835348\n",
              "Sacramento city, California     -2.514745 -11.473356\n",
              "San Francisco city, California  -6.147702  -5.476081\n",
              "Nashville city, Georgia        -42.484012  -4.368563\n",
              "Chicago city, Illinois           3.994749  -0.109927\n",
              "Boston city, Massachusetts       2.902468   0.883586\n",
              "New York city, New York         -0.390576   3.862918\n",
              "Austin city, Texas               2.387428   3.787197\n",
              "Seattle city, Washington         6.278579  -3.920336"
            ],
            "text/html": [
              "\n",
              "  <div id=\"df-e543000e-3368-41a1-b802-83dad08b49e8\">\n",
              "    <div class=\"colab-df-container\">\n",
              "      <div>\n",
              "<style scoped>\n",
              "    .dataframe tbody tr th:only-of-type {\n",
              "        vertical-align: middle;\n",
              "    }\n",
              "\n",
              "    .dataframe tbody tr th {\n",
              "        vertical-align: top;\n",
              "    }\n",
              "\n",
              "    .dataframe thead th {\n",
              "        text-align: right;\n",
              "    }\n",
              "</style>\n",
              "<table border=\"1\" class=\"dataframe\">\n",
              "  <thead>\n",
              "    <tr style=\"text-align: right;\">\n",
              "      <th></th>\n",
              "      <th>2020</th>\n",
              "      <th>2021</th>\n",
              "    </tr>\n",
              "    <tr>\n",
              "      <th>CITY</th>\n",
              "      <th></th>\n",
              "      <th></th>\n",
              "    </tr>\n",
              "  </thead>\n",
              "  <tbody>\n",
              "    <tr>\n",
              "      <th>Phoenix city, Arizona</th>\n",
              "      <td>1.562003</td>\n",
              "      <td>-2.605807</td>\n",
              "    </tr>\n",
              "    <tr>\n",
              "      <th>Los Angeles city, California</th>\n",
              "      <td>-3.953127</td>\n",
              "      <td>-1.835348</td>\n",
              "    </tr>\n",
              "    <tr>\n",
              "      <th>Sacramento city, California</th>\n",
              "      <td>-2.514745</td>\n",
              "      <td>-11.473356</td>\n",
              "    </tr>\n",
              "    <tr>\n",
              "      <th>San Francisco city, California</th>\n",
              "      <td>-6.147702</td>\n",
              "      <td>-5.476081</td>\n",
              "    </tr>\n",
              "    <tr>\n",
              "      <th>Nashville city, Georgia</th>\n",
              "      <td>-42.484012</td>\n",
              "      <td>-4.368563</td>\n",
              "    </tr>\n",
              "    <tr>\n",
              "      <th>Chicago city, Illinois</th>\n",
              "      <td>3.994749</td>\n",
              "      <td>-0.109927</td>\n",
              "    </tr>\n",
              "    <tr>\n",
              "      <th>Boston city, Massachusetts</th>\n",
              "      <td>2.902468</td>\n",
              "      <td>0.883586</td>\n",
              "    </tr>\n",
              "    <tr>\n",
              "      <th>New York city, New York</th>\n",
              "      <td>-0.390576</td>\n",
              "      <td>3.862918</td>\n",
              "    </tr>\n",
              "    <tr>\n",
              "      <th>Austin city, Texas</th>\n",
              "      <td>2.387428</td>\n",
              "      <td>3.787197</td>\n",
              "    </tr>\n",
              "    <tr>\n",
              "      <th>Seattle city, Washington</th>\n",
              "      <td>6.278579</td>\n",
              "      <td>-3.920336</td>\n",
              "    </tr>\n",
              "  </tbody>\n",
              "</table>\n",
              "</div>\n",
              "      <button class=\"colab-df-convert\" onclick=\"convertToInteractive('df-e543000e-3368-41a1-b802-83dad08b49e8')\"\n",
              "              title=\"Convert this dataframe to an interactive table.\"\n",
              "              style=\"display:none;\">\n",
              "        \n",
              "  <svg xmlns=\"http://www.w3.org/2000/svg\" height=\"24px\"viewBox=\"0 0 24 24\"\n",
              "       width=\"24px\">\n",
              "    <path d=\"M0 0h24v24H0V0z\" fill=\"none\"/>\n",
              "    <path d=\"M18.56 5.44l.94 2.06.94-2.06 2.06-.94-2.06-.94-.94-2.06-.94 2.06-2.06.94zm-11 1L8.5 8.5l.94-2.06 2.06-.94-2.06-.94L8.5 2.5l-.94 2.06-2.06.94zm10 10l.94 2.06.94-2.06 2.06-.94-2.06-.94-.94-2.06-.94 2.06-2.06.94z\"/><path d=\"M17.41 7.96l-1.37-1.37c-.4-.4-.92-.59-1.43-.59-.52 0-1.04.2-1.43.59L10.3 9.45l-7.72 7.72c-.78.78-.78 2.05 0 2.83L4 21.41c.39.39.9.59 1.41.59.51 0 1.02-.2 1.41-.59l7.78-7.78 2.81-2.81c.8-.78.8-2.07 0-2.86zM5.41 20L4 18.59l7.72-7.72 1.47 1.35L5.41 20z\"/>\n",
              "  </svg>\n",
              "      </button>\n",
              "      \n",
              "  <style>\n",
              "    .colab-df-container {\n",
              "      display:flex;\n",
              "      flex-wrap:wrap;\n",
              "      gap: 12px;\n",
              "    }\n",
              "\n",
              "    .colab-df-convert {\n",
              "      background-color: #E8F0FE;\n",
              "      border: none;\n",
              "      border-radius: 50%;\n",
              "      cursor: pointer;\n",
              "      display: none;\n",
              "      fill: #1967D2;\n",
              "      height: 32px;\n",
              "      padding: 0 0 0 0;\n",
              "      width: 32px;\n",
              "    }\n",
              "\n",
              "    .colab-df-convert:hover {\n",
              "      background-color: #E2EBFA;\n",
              "      box-shadow: 0px 1px 2px rgba(60, 64, 67, 0.3), 0px 1px 3px 1px rgba(60, 64, 67, 0.15);\n",
              "      fill: #174EA6;\n",
              "    }\n",
              "\n",
              "    [theme=dark] .colab-df-convert {\n",
              "      background-color: #3B4455;\n",
              "      fill: #D2E3FC;\n",
              "    }\n",
              "\n",
              "    [theme=dark] .colab-df-convert:hover {\n",
              "      background-color: #434B5C;\n",
              "      box-shadow: 0px 1px 3px 1px rgba(0, 0, 0, 0.15);\n",
              "      filter: drop-shadow(0px 1px 2px rgba(0, 0, 0, 0.3));\n",
              "      fill: #FFFFFF;\n",
              "    }\n",
              "  </style>\n",
              "\n",
              "      <script>\n",
              "        const buttonEl =\n",
              "          document.querySelector('#df-e543000e-3368-41a1-b802-83dad08b49e8 button.colab-df-convert');\n",
              "        buttonEl.style.display =\n",
              "          google.colab.kernel.accessAllowed ? 'block' : 'none';\n",
              "\n",
              "        async function convertToInteractive(key) {\n",
              "          const element = document.querySelector('#df-e543000e-3368-41a1-b802-83dad08b49e8');\n",
              "          const dataTable =\n",
              "            await google.colab.kernel.invokeFunction('convertToInteractive',\n",
              "                                                     [key], {});\n",
              "          if (!dataTable) return;\n",
              "\n",
              "          const docLinkHtml = 'Like what you see? Visit the ' +\n",
              "            '<a target=\"_blank\" href=https://colab.research.google.com/notebooks/data_table.ipynb>data table notebook</a>'\n",
              "            + ' to learn more about interactive tables.';\n",
              "          element.innerHTML = '';\n",
              "          dataTable['output_type'] = 'display_data';\n",
              "          await google.colab.output.renderOutput(dataTable, element);\n",
              "          const docLink = document.createElement('div');\n",
              "          docLink.innerHTML = docLinkHtml;\n",
              "          element.appendChild(docLink);\n",
              "        }\n",
              "      </script>\n",
              "    </div>\n",
              "  </div>\n",
              "  "
            ]
          },
          "metadata": {},
          "execution_count": 15
        }
      ]
    },
    {
      "cell_type": "code",
      "source": [
        "#Plotting the percentage differences to make extra analysis\n",
        "mobility.plot.barh(xlabel='CITY', ylabel= 'Percentage difference',figsize=(20,10))\n",
        "plt.title('Percentage Differences in Population That Moved Into the Cities From Different States')"
      ],
      "metadata": {
        "colab": {
          "base_uri": "https://localhost:8080/",
          "height": 640
        },
        "id": "dwXBqpnIBpyG",
        "outputId": "7e33a7b2-c858-41a8-c61b-180184085087"
      },
      "execution_count": null,
      "outputs": [
        {
          "output_type": "execute_result",
          "data": {
            "text/plain": [
              "Text(0.5, 1.0, 'Percentage Differences in Population That Moved Into the Cities From Different States')"
            ]
          },
          "metadata": {},
          "execution_count": 19
        },
        {
          "output_type": "display_data",
          "data": {
            "text/plain": [
              "<Figure size 1440x720 with 1 Axes>"
            ],
            "image/png": "[encoded data removed]"
          },
          "metadata": {
            "needs_background": "light"
          }
        }
      ]
    },
    {
      "cell_type": "markdown",
      "source": [
        "**Population Shift Based on the Number of People That Moved Into The Cities From Different States**\n",
        "Nashville had the lowest number of people moving into the city form different states. From the plot it was noticed there was a huge drop of 42.48% in 2020 and a further 4.36% in 2021. Cities that had a increase in the number of people who moved into them from different states in 2020 but droped in 2021 are Los Angeles, Sacramento and San Francisco. New York City had a drop of 0.39% in 2020 but had a rise on 3.86% in 2021. Seattle had the highest percentage increase of 6.27% and Nashville had the highest percentage drop of 42.48% in 2020. New York city had the highest percentage increase of 3.86% and Sacramento had the highest percentage drop of 11.47% in 2021. \n",
        "\n",
        "\n"
      ],
      "metadata": {
        "id": "U0EgLpUdGhXn"
      }
    },
    {
      "cell_type": "markdown",
      "source": [
        "### 4.   How have the average single family home, and apartment rent prices changed over time? "
      ],
      "metadata": {
        "id": "_ggRyCE44WAl"
      }
    },
    {
      "cell_type": "code",
      "source": [
        "onebd = hud_df.query(\"Bedrooms=='1' and Growth=='YoY'\" )\n",
        "onebd[\"Year\"] = onebd[\"Year\"].dt.strftime(\"%Y\")\n",
        "cities = sorted(onebd['City'].unique().tolist()) "
      ],
      "metadata": {
        "id": "B66t-U2jvawT"
      },
      "execution_count": null,
      "outputs": []
    },
    {
      "cell_type": "code",
      "source": [
        "fig = px.line(onebd, \n",
        "              x=\"Year\",\n",
        "              y=\"Percent Change\", \n",
        "              color=\"City\", \n",
        "              custom_data=[\"Price Change\"], \n",
        "              category_orders={\"City\":cities},\n",
        "              labels={\"Percent Change\":\"Year-Over-Year\"},\n",
        "              template= 'ygridoff'\n",
        "              )\n",
        "\n",
        "fig.update_traces(\n",
        "    mode=\"markers+lines\", \n",
        "    hovertemplate=None\n",
        ")\n",
        "\n",
        "fig.update_xaxes(dtick=1)\n",
        "\n",
        "fig.update_layout(\n",
        "    title=dict(\n",
        "        text=\"Year-over-year change in average monthly rent for 1-Bedroom apartments\",\n",
        "        x=0.5,\n",
        "        y=0.95,\n",
        "        xanchor=\"center\",\n",
        "        yanchor=\"top\"\n",
        "    ),\n",
        "    yaxis_ticksuffix=\"%\",\n",
        "    hovermode='x unified')\n",
        "\n",
        "fig.show()"
      ],
      "metadata": {
        "colab": {
          "base_uri": "https://localhost:8080/",
          "height": 542
        },
        "id": "bDUYxb6DCwN2",
        "outputId": "b03c025d-fdab-4ac3-d842-947cf47bbb42"
      },
      "execution_count": null,
      "outputs": [
        {
          "output_type": "display_data",
          "data": {
            "text/html": [
              "<html>\n",
              "<head><meta charset=\"utf-8\" /></head>\n",
              "<body>\n",
              "    <div>            <script src=\"https://cdnjs.cloudflare.com/ajax/libs/mathjax/2.7.5/MathJax.js?config=TeX-AMS-MML_SVG\"></script><script type=\"text/javascript\">if (window.MathJax && window.MathJax.Hub && window.MathJax.Hub.Config) {window.MathJax.Hub.Config({SVG: {font: \"STIX-Web\"}});}</script>                <script type=\"text/javascript\">window.PlotlyConfig = {MathJaxConfig: 'local'};</script>\n",
              "        <script src=\"https://cdn.plot.ly/plotly-2.16.1.min.js\"></script>                <div id=\"9f71fd6b-a054-47d1-a029-8e5f577fc809\" class=\"plotly-graph-div\" style=\"height:525px; width:100%;\"></div>            <script type=\"text/javascript\">                                    window.PLOTLYENV=window.PLOTLYENV || {};                                    if (document.getElementById(\"9f71fd6b-a054-47d1-a029-8e5f577fc809\")) {                    Plotly.newPlot(                        \"9f71fd6b-a054-47d1-a029-8e5f577fc809\",                        [{\"customdata\":[[48],[78],[24],[150]],\"legendgroup\":\"Austin\",\"line\":{\"color\":\"#1F77B4\",\"dash\":\"solid\"},\"marker\":{\"symbol\":\"circle\"},\"mode\":\"markers+lines\",\"name\":\"Austin\",\"orientation\":\"v\",\"showlegend\":true,\"x\":[\"2019\",\"2020\",\"2021\",\"2022\"],\"xaxis\":\"x\",\"y\":[4.42,6.88,1.98,12.14],\"yaxis\":\"y\",\"type\":\"scatter\"},{\"customdata\":[[339],[24],[62],[212]],\"legendgroup\":\"Boston\",\"line\":{\"color\":\"#FF7F0E\",\"dash\":\"solid\"},\"marker\":{\"symbol\":\"circle\"},\"mode\":\"markers+lines\",\"name\":\"Boston\",\"orientation\":\"v\",\"showlegend\":true,\"x\":[\"2019\",\"2020\",\"2021\",\"2022\"],\"xaxis\":\"x\",\"y\":[21.72,1.26,3.22,10.67],\"yaxis\":\"y\",\"type\":\"scatter\"},{\"customdata\":[[32],[46],[39],[94]],\"legendgroup\":\"Chicago\",\"line\":{\"color\":\"#2CA02C\",\"dash\":\"solid\"},\"marker\":{\"symbol\":\"circle\"},\"mode\":\"markers+lines\",\"name\":\"Chicago\",\"orientation\":\"v\",\"showlegend\":true,\"x\":[\"2019\",\"2020\",\"2021\",\"2022\"],\"xaxis\":\"x\",\"y\":[3.07,4.28,3.48,8.1],\"yaxis\":\"y\",\"type\":\"scatter\"},{\"customdata\":[[133],[88],[-1],[143]],\"legendgroup\":\"Los Angeles\",\"line\":{\"color\":\"#D62728\",\"dash\":\"solid\"},\"marker\":{\"symbol\":\"circle\"},\"mode\":\"markers+lines\",\"name\":\"Los Angeles\",\"orientation\":\"v\",\"showlegend\":true,\"x\":[\"2019\",\"2020\",\"2021\",\"2022\"],\"xaxis\":\"x\",\"y\":[9.61,5.8,-0.06,8.92],\"yaxis\":\"y\",\"type\":\"scatter\"},{\"customdata\":[[46],[74],[69],[145]],\"legendgroup\":\"Nashville\",\"line\":{\"color\":\"#9467BD\",\"dash\":\"solid\"},\"marker\":{\"symbol\":\"circle\"},\"mode\":\"markers+lines\",\"name\":\"Nashville\",\"orientation\":\"v\",\"showlegend\":true,\"x\":[\"2019\",\"2020\",\"2021\",\"2022\"],\"xaxis\":\"x\",\"y\":[5.05,7.73,6.69,13.18],\"yaxis\":\"y\",\"type\":\"scatter\"},{\"customdata\":[[115],[87],[253],[116]],\"legendgroup\":\"New York\",\"line\":{\"color\":\"#8C564B\",\"dash\":\"solid\"},\"marker\":{\"symbol\":\"circle\"},\"mode\":\"markers+lines\",\"name\":\"New York\",\"orientation\":\"v\",\"showlegend\":true,\"x\":[\"2019\",\"2020\",\"2021\",\"2022\"],\"xaxis\":\"x\",\"y\":[7.19,5.08,14.05,5.65],\"yaxis\":\"y\",\"type\":\"scatter\"},{\"customdata\":[[90],[74],[59],[376]],\"legendgroup\":\"Phoenix\",\"line\":{\"color\":\"#E377C2\",\"dash\":\"solid\"},\"marker\":{\"symbol\":\"circle\"},\"mode\":\"markers+lines\",\"name\":\"Phoenix\",\"orientation\":\"v\",\"showlegend\":true,\"x\":[\"2019\",\"2020\",\"2021\",\"2022\"],\"xaxis\":\"x\",\"y\":[10.37,7.72,5.72,34.46],\"yaxis\":\"y\",\"type\":\"scatter\"},{\"customdata\":[[104],[116],[40],[172]],\"legendgroup\":\"Sacramento\",\"line\":{\"color\":\"#7F7F7F\",\"dash\":\"solid\"},\"marker\":{\"symbol\":\"circle\"},\"mode\":\"markers+lines\",\"name\":\"Sacramento\",\"orientation\":\"v\",\"showlegend\":true,\"x\":[\"2019\",\"2020\",\"2021\",\"2022\"],\"xaxis\":\"x\",\"y\":[10.74,10.82,3.37,14.01],\"yaxis\":\"y\",\"type\":\"scatter\"},{\"customdata\":[[465],[203],[-292],[34]],\"legendgroup\":\"San Francisco\",\"line\":{\"color\":\"#BCBD22\",\"dash\":\"solid\"},\"marker\":{\"symbol\":\"circle\"},\"mode\":\"markers+lines\",\"name\":\"San Francisco\",\"orientation\":\"v\",\"showlegend\":true,\"x\":[\"2019\",\"2020\",\"2021\",\"2022\"],\"xaxis\":\"x\",\"y\":[20.62,7.46,-9.99,1.29],\"yaxis\":\"y\",\"type\":\"scatter\"},{\"customdata\":[[184],[-142],[140],[142]],\"legendgroup\":\"Seattle\",\"line\":{\"color\":\"#17BECF\",\"dash\":\"solid\"},\"marker\":{\"symbol\":\"circle\"},\"mode\":\"markers+lines\",\"name\":\"Seattle\",\"orientation\":\"v\",\"showlegend\":true,\"x\":[\"2019\",\"2020\",\"2021\",\"2022\"],\"xaxis\":\"x\",\"y\":[11.82,-8.16,8.76,8.17],\"yaxis\":\"y\",\"type\":\"scatter\"}],                        {\"template\":{\"data\":{\"pie\":[{\"automargin\":true,\"type\":\"pie\"}]},\"layout\":{\"yaxis\":{\"showgrid\":false}}},\"xaxis\":{\"anchor\":\"y\",\"domain\":[0.0,1.0],\"title\":{\"text\":\"Year\"},\"dtick\":1},\"yaxis\":{\"anchor\":\"x\",\"domain\":[0.0,1.0],\"title\":{\"text\":\"Year-Over-Year\"},\"ticksuffix\":\"%\"},\"legend\":{\"title\":{\"text\":\"City\"},\"tracegroupgap\":0},\"margin\":{\"t\":60},\"title\":{\"text\":\"Year-over-year change in average monthly rent for 1-Bedroom apartments\",\"x\":0.5,\"y\":0.95,\"xanchor\":\"center\",\"yanchor\":\"top\"},\"hovermode\":\"x unified\"},                        {\"responsive\": true}                    ).then(function(){\n",
              "                            \n",
              "var gd = document.getElementById('9f71fd6b-a054-47d1-a029-8e5f577fc809');\n",
              "var x = new MutationObserver(function (mutations, observer) {{\n",
              "        var display = window.getComputedStyle(gd).display;\n",
              "        if (!display || display === 'none') {{\n",
              "            console.log([gd, 'removed!']);\n",
              "            Plotly.purge(gd);\n",
              "            observer.disconnect();\n",
              "        }}\n",
              "}});\n",
              "\n",
              "// Listen for the removal of the full notebook cells\n",
              "var notebookContainer = gd.closest('#notebook-container');\n",
              "if (notebookContainer) {{\n",
              "    x.observe(notebookContainer, {childList: true});\n",
              "}}\n",
              "\n",
              "// Listen for the clearing of the current output cell\n",
              "var outputEl = gd.closest('.output');\n",
              "if (outputEl) {{\n",
              "    x.observe(outputEl, {childList: true});\n",
              "}}\n",
              "\n",
              "                        })                };                            </script>        </div>\n",
              "</body>\n",
              "</html>"
            ]
          },
          "metadata": {}
        }
      ]
    },
    {
      "cell_type": "markdown",
      "source": [
        "##### *Rents Declined in 3 Major U.S. Metro Areas during COVID-19 Pandemic*\n",
        "\n",
        "Seattle, experienced the largest year-over-year (YOY) drop in rent for a one bedroom apartment at the start of the COVID-19 pandemic, where the average monthly rent fell 8.16%. San Francisco and Los Angeles saw the largest drop in rent at the height of pandemic with prices falling 9.99% and 0.06% respectively. Although rent in other metro areas did not drop, they did however experience the slowest growth from 2019 to 2021. New York saw the most signficant YOY drop from 2021 to 2022 with growth dropping from 14.05% in 2021 to 5.65% in 2022, however in Phoenix, rent jumped 34.46% YOY, exceeding pre-pandemic growth (10.37%)."
      ],
      "metadata": {
        "id": "QhdG6y9sB7PW"
      }
    },
    {
      "cell_type": "code",
      "source": [
        "onebd22 = onebd.query(\"Bedrooms=='1' and Year=='2022'\")\n",
        "\n",
        "fig = px.scatter_mapbox(onebd22, \n",
        "                        lat=\"lat\", \n",
        "                        lon=\"lon\",\n",
        "                        custom_data=[\"City\", \"State\", \"Year\",\"Price Change\", \n",
        "                                     \"Avg Rent\", \"Percent Change\"],\n",
        "                        zoom=4, \n",
        "                        color=\"Percent Change\",\n",
        "                        size=\"Avg Rent\",\n",
        "                        width=1250,\n",
        "                        height=800,\n",
        "                        title=\"Year-over-year change in median monthy apartment rent for one bedroom apartments from 2021 to 2022\"\n",
        "                        )\n",
        "\n",
        "fig.update_traces(hovertemplate=\n",
        "                  \"<b>%{customdata[0]}</b><br><br>\" +\n",
        "                  \"State: %{customdata[1]}<br>\" +\n",
        "                  \"Year: %{customdata[2]}<br>\" +\n",
        "                  \"Median Rent: %{customdata[4]:$,.0f}<br>\" +\n",
        "                  \"Difference: %{customdata[3]:$,.0f}<br>\" +\n",
        "                  \"YoY: %{customdata[5]}%<br>\" +\n",
        "                  \"<extra></extra>\"\n",
        "                  )\n",
        "\n",
        "\n",
        "fig.update_layout(\n",
        "    title=dict(x=0.2),\n",
        "    coloraxis_colorbar=dict(\n",
        "        title=\"YoY\",\n",
        "        titleside=\"right\",\n",
        "        ticksuffix=\"%\",\n",
        "        orientation=\"h\",\n",
        "        lenmode=\"pixels\",\n",
        "        len=600,\n",
        "    ),\n",
        "    coloraxis_colorbar_x=0.3\n",
        ")\n",
        "\n",
        "fig.update_layout(mapbox_style=\"open-street-map\", \n",
        "                  mapbox_center={\"lat\": 37.0902, \"lon\": -95.7129})\n",
        "fig.update_layout(margin={\"r\":0, \"t\":0, \"l\":0, \"b\":0}) \n",
        "fig.update_layout(mapbox_bounds={\"west\": -180, \"east\": -50, \n",
        "                                 \"south\": 20, \"north\": 90})\n",
        "\n",
        "                  \n",
        "\n",
        "fig.show()"
      ],
      "metadata": {
        "colab": {
          "base_uri": "https://localhost:8080/",
          "height": 837
        },
        "id": "C5gTwHklBuv8",
        "outputId": "f45bda26-9142-4f86-9005-ee4874a485b6"
      },
      "execution_count": null,
      "outputs": [
        {
          "output_type": "display_data",
          "data": {
            "text/html": [
              "<html>\n",
              "<head><meta charset=\"utf-8\" /></head>\n",
              "<body>\n",
              "    <div>            <script src=\"https://cdnjs.cloudflare.com/ajax/libs/mathjax/2.7.5/MathJax.js?config=TeX-AMS-MML_SVG\"></script><script type=\"text/javascript\">if (window.MathJax && window.MathJax.Hub && window.MathJax.Hub.Config) {window.MathJax.Hub.Config({SVG: {font: \"STIX-Web\"}});}</script>                <script type=\"text/javascript\">window.PlotlyConfig = {MathJaxConfig: 'local'};</script>\n",
              "        <script src=\"https://cdn.plot.ly/plotly-2.16.1.min.js\"></script>                <div id=\"bf21ae0f-e475-45cd-af7b-aa8ca8b35b17\" class=\"plotly-graph-div\" style=\"height:800px; width:1250px;\"></div>            <script type=\"text/javascript\">                                    window.PLOTLYENV=window.PLOTLYENV || {};                                    if (document.getElementById(\"bf21ae0f-e475-45cd-af7b-aa8ca8b35b17\")) {                    Plotly.newPlot(                        \"bf21ae0f-e475-45cd-af7b-aa8ca8b35b17\",                        [{\"customdata\":[[\"Phoenix\",\"AZ\",\"2022\",376,1467,34.46],[\"Los Angeles\",\"CA\",\"2022\",143,1747,8.92],[\"Sacramento\",\"CA\",\"2022\",172,1400,14.01],[\"San Francisco\",\"CA\",\"2022\",34,2665,1.29],[\"Chicago\",\"IL\",\"2022\",94,1255,8.1],[\"Boston\",\"MA\",\"2022\",212,2198,10.67],[\"New York\",\"NY\",\"2022\",116,2170,5.65],[\"Nashville\",\"TN\",\"2022\",145,1245,13.18],[\"Austin\",\"TX\",\"2022\",150,1386,12.14],[\"Seattle\",\"WA\",\"2022\",142,1881,8.17]],\"hovertemplate\":\"<b>%{customdata[0]}</b><br><br>State: %{customdata[1]}<br>Year: %{customdata[2]}<br>Median Rent: %{customdata[4]:$,.0f}<br>Difference: %{customdata[3]:$,.0f}<br>YoY: %{customdata[5]}%<br><extra></extra>\",\"lat\":[33.4483771,34.0522342,38.5815719,37.7749295,41.8781136,42.3600825,40.7127837,36.1626638,30.267153000000004,47.6062095],\"legendgroup\":\"\",\"lon\":[-112.0740373,-118.24368490000002,-121.4943996,-122.4194155,-87.62979820000002,-71.0588801,-74.00594129999998,-86.78160159999999,-97.7430608,-122.33207079999998],\"marker\":{\"color\":[34.46,8.92,14.01,1.29,8.1,10.67,5.65,13.18,12.14,8.17],\"coloraxis\":\"coloraxis\",\"size\":[1467,1747,1400,2665,1255,2198,2170,1245,1386,1881],\"sizemode\":\"area\",\"sizeref\":6.6625},\"mode\":\"markers\",\"name\":\"\",\"showlegend\":false,\"subplot\":\"mapbox\",\"type\":\"scattermapbox\"}],                        {\"template\":{\"data\":{\"histogram2dcontour\":[{\"type\":\"histogram2dcontour\",\"colorbar\":{\"outlinewidth\":0,\"ticks\":\"\"},\"colorscale\":[[0.0,\"#0d0887\"],[0.1111111111111111,\"#46039f\"],[0.2222222222222222,\"#7201a8\"],[0.3333333333333333,\"#9c179e\"],[0.4444444444444444,\"#bd3786\"],[0.5555555555555556,\"#d8576b\"],[0.6666666666666666,\"#ed7953\"],[0.7777777777777778,\"#fb9f3a\"],[0.8888888888888888,\"#fdca26\"],[1.0,\"#f0f921\"]]}],\"choropleth\":[{\"type\":\"choropleth\",\"colorbar\":{\"outlinewidth\":0,\"ticks\":\"\"}}],\"histogram2d\":[{\"type\":\"histogram2d\",\"colorbar\":{\"outlinewidth\":0,\"ticks\":\"\"},\"colorscale\":[[0.0,\"#0d0887\"],[0.1111111111111111,\"#46039f\"],[0.2222222222222222,\"#7201a8\"],[0.3333333333333333,\"#9c179e\"],[0.4444444444444444,\"#bd3786\"],[0.5555555555555556,\"#d8576b\"],[0.6666666666666666,\"#ed7953\"],[0.7777777777777778,\"#fb9f3a\"],[0.8888888888888888,\"#fdca26\"],[1.0,\"#f0f921\"]]}],\"heatmap\":[{\"type\":\"heatmap\",\"colorbar\":{\"outlinewidth\":0,\"ticks\":\"\"},\"colorscale\":[[0.0,\"#0d0887\"],[0.1111111111111111,\"#46039f\"],[0.2222222222222222,\"#7201a8\"],[0.3333333333333333,\"#9c179e\"],[0.4444444444444444,\"#bd3786\"],[0.5555555555555556,\"#d8576b\"],[0.6666666666666666,\"#ed7953\"],[0.7777777777777778,\"#fb9f3a\"],[0.8888888888888888,\"#fdca26\"],[1.0,\"#f0f921\"]]}],\"heatmapgl\":[{\"type\":\"heatmapgl\",\"colorbar\":{\"outlinewidth\":0,\"ticks\":\"\"},\"colorscale\":[[0.0,\"#0d0887\"],[0.1111111111111111,\"#46039f\"],[0.2222222222222222,\"#7201a8\"],[0.3333333333333333,\"#9c179e\"],[0.4444444444444444,\"#bd3786\"],[0.5555555555555556,\"#d8576b\"],[0.6666666666666666,\"#ed7953\"],[0.7777777777777778,\"#fb9f3a\"],[0.8888888888888888,\"#fdca26\"],[1.0,\"#f0f921\"]]}],\"contourcarpet\":[{\"type\":\"contourcarpet\",\"colorbar\":{\"outlinewidth\":0,\"ticks\":\"\"}}],\"contour\":[{\"type\":\"contour\",\"colorbar\":{\"outlinewidth\":0,\"ticks\":\"\"},\"colorscale\":[[0.0,\"#0d0887\"],[0.1111111111111111,\"#46039f\"],[0.2222222222222222,\"#7201a8\"],[0.3333333333333333,\"#9c179e\"],[0.4444444444444444,\"#bd3786\"],[0.5555555555555556,\"#d8576b\"],[0.6666666666666666,\"#ed7953\"],[0.7777777777777778,\"#fb9f3a\"],[0.8888888888888888,\"#fdca26\"],[1.0,\"#f0f921\"]]}],\"surface\":[{\"type\":\"surface\",\"colorbar\":{\"outlinewidth\":0,\"ticks\":\"\"},\"colorscale\":[[0.0,\"#0d0887\"],[0.1111111111111111,\"#46039f\"],[0.2222222222222222,\"#7201a8\"],[0.3333333333333333,\"#9c179e\"],[0.4444444444444444,\"#bd3786\"],[0.5555555555555556,\"#d8576b\"],[0.6666666666666666,\"#ed7953\"],[0.7777777777777778,\"#fb9f3a\"],[0.8888888888888888,\"#fdca26\"],[1.0,\"#f0f921\"]]}],\"mesh3d\":[{\"type\":\"mesh3d\",\"colorbar\":{\"outlinewidth\":0,\"ticks\":\"\"}}],\"scatter\":[{\"fillpattern\":{\"fillmode\":\"overlay\",\"size\":10,\"solidity\":0.2},\"type\":\"scatter\"}],\"parcoords\":[{\"type\":\"parcoords\",\"line\":{\"colorbar\":{\"outlinewidth\":0,\"ticks\":\"\"}}}],\"scatterpolargl\":[{\"type\":\"scatterpolargl\",\"marker\":{\"colorbar\":{\"outlinewidth\":0,\"ticks\":\"\"}}}],\"bar\":[{\"error_x\":{\"color\":\"#2a3f5f\"},\"error_y\":{\"color\":\"#2a3f5f\"},\"marker\":{\"line\":{\"color\":\"#E5ECF6\",\"width\":0.5},\"pattern\":{\"fillmode\":\"overlay\",\"size\":10,\"solidity\":0.2}},\"type\":\"bar\"}],\"scattergeo\":[{\"type\":\"scattergeo\",\"marker\":{\"colorbar\":{\"outlinewidth\":0,\"ticks\":\"\"}}}],\"scatterpolar\":[{\"type\":\"scatterpolar\",\"marker\":{\"colorbar\":{\"outlinewidth\":0,\"ticks\":\"\"}}}],\"histogram\":[{\"marker\":{\"pattern\":{\"fillmode\":\"overlay\",\"size\":10,\"solidity\":0.2}},\"type\":\"histogram\"}],\"scattergl\":[{\"type\":\"scattergl\",\"marker\":{\"colorbar\":{\"outlinewidth\":0,\"ticks\":\"\"}}}],\"scatter3d\":[{\"type\":\"scatter3d\",\"line\":{\"colorbar\":{\"outlinewidth\":0,\"ticks\":\"\"}},\"marker\":{\"colorbar\":{\"outlinewidth\":0,\"ticks\":\"\"}}}],\"scattermapbox\":[{\"type\":\"scattermapbox\",\"marker\":{\"colorbar\":{\"outlinewidth\":0,\"ticks\":\"\"}}}],\"scatterternary\":[{\"type\":\"scatterternary\",\"marker\":{\"colorbar\":{\"outlinewidth\":0,\"ticks\":\"\"}}}],\"scattercarpet\":[{\"type\":\"scattercarpet\",\"marker\":{\"colorbar\":{\"outlinewidth\":0,\"ticks\":\"\"}}}],\"carpet\":[{\"aaxis\":{\"endlinecolor\":\"#2a3f5f\",\"gridcolor\":\"white\",\"linecolor\":\"white\",\"minorgridcolor\":\"white\",\"startlinecolor\":\"#2a3f5f\"},\"baxis\":{\"endlinecolor\":\"#2a3f5f\",\"gridcolor\":\"white\",\"linecolor\":\"white\",\"minorgridcolor\":\"white\",\"startlinecolor\":\"#2a3f5f\"},\"type\":\"carpet\"}],\"table\":[{\"cells\":{\"fill\":{\"color\":\"#EBF0F8\"},\"line\":{\"color\":\"white\"}},\"header\":{\"fill\":{\"color\":\"#C8D4E3\"},\"line\":{\"color\":\"white\"}},\"type\":\"table\"}],\"barpolar\":[{\"marker\":{\"line\":{\"color\":\"#E5ECF6\",\"width\":0.5},\"pattern\":{\"fillmode\":\"overlay\",\"size\":10,\"solidity\":0.2}},\"type\":\"barpolar\"}],\"pie\":[{\"automargin\":true,\"type\":\"pie\"}]},\"layout\":{\"autotypenumbers\":\"strict\",\"colorway\":[\"#636efa\",\"#EF553B\",\"#00cc96\",\"#ab63fa\",\"#FFA15A\",\"#19d3f3\",\"#FF6692\",\"#B6E880\",\"#FF97FF\",\"#FECB52\"],\"font\":{\"color\":\"#2a3f5f\"},\"hovermode\":\"closest\",\"hoverlabel\":{\"align\":\"left\"},\"paper_bgcolor\":\"white\",\"plot_bgcolor\":\"#E5ECF6\",\"polar\":{\"bgcolor\":\"#E5ECF6\",\"angularaxis\":{\"gridcolor\":\"white\",\"linecolor\":\"white\",\"ticks\":\"\"},\"radialaxis\":{\"gridcolor\":\"white\",\"linecolor\":\"white\",\"ticks\":\"\"}},\"ternary\":{\"bgcolor\":\"#E5ECF6\",\"aaxis\":{\"gridcolor\":\"white\",\"linecolor\":\"white\",\"ticks\":\"\"},\"baxis\":{\"gridcolor\":\"white\",\"linecolor\":\"white\",\"ticks\":\"\"},\"caxis\":{\"gridcolor\":\"white\",\"linecolor\":\"white\",\"ticks\":\"\"}},\"coloraxis\":{\"colorbar\":{\"outlinewidth\":0,\"ticks\":\"\"}},\"colorscale\":{\"sequential\":[[0.0,\"#0d0887\"],[0.1111111111111111,\"#46039f\"],[0.2222222222222222,\"#7201a8\"],[0.3333333333333333,\"#9c179e\"],[0.4444444444444444,\"#bd3786\"],[0.5555555555555556,\"#d8576b\"],[0.6666666666666666,\"#ed7953\"],[0.7777777777777778,\"#fb9f3a\"],[0.8888888888888888,\"#fdca26\"],[1.0,\"#f0f921\"]],\"sequentialminus\":[[0.0,\"#0d0887\"],[0.1111111111111111,\"#46039f\"],[0.2222222222222222,\"#7201a8\"],[0.3333333333333333,\"#9c179e\"],[0.4444444444444444,\"#bd3786\"],[0.5555555555555556,\"#d8576b\"],[0.6666666666666666,\"#ed7953\"],[0.7777777777777778,\"#fb9f3a\"],[0.8888888888888888,\"#fdca26\"],[1.0,\"#f0f921\"]],\"diverging\":[[0,\"#8e0152\"],[0.1,\"#c51b7d\"],[0.2,\"#de77ae\"],[0.3,\"#f1b6da\"],[0.4,\"#fde0ef\"],[0.5,\"#f7f7f7\"],[0.6,\"#e6f5d0\"],[0.7,\"#b8e186\"],[0.8,\"#7fbc41\"],[0.9,\"#4d9221\"],[1,\"#276419\"]]},\"xaxis\":{\"gridcolor\":\"white\",\"linecolor\":\"white\",\"ticks\":\"\",\"title\":{\"standoff\":15},\"zerolinecolor\":\"white\",\"automargin\":true,\"zerolinewidth\":2},\"yaxis\":{\"gridcolor\":\"white\",\"linecolor\":\"white\",\"ticks\":\"\",\"title\":{\"standoff\":15},\"zerolinecolor\":\"white\",\"automargin\":true,\"zerolinewidth\":2},\"scene\":{\"xaxis\":{\"backgroundcolor\":\"#E5ECF6\",\"gridcolor\":\"white\",\"linecolor\":\"white\",\"showbackground\":true,\"ticks\":\"\",\"zerolinecolor\":\"white\",\"gridwidth\":2},\"yaxis\":{\"backgroundcolor\":\"#E5ECF6\",\"gridcolor\":\"white\",\"linecolor\":\"white\",\"showbackground\":true,\"ticks\":\"\",\"zerolinecolor\":\"white\",\"gridwidth\":2},\"zaxis\":{\"backgroundcolor\":\"#E5ECF6\",\"gridcolor\":\"white\",\"linecolor\":\"white\",\"showbackground\":true,\"ticks\":\"\",\"zerolinecolor\":\"white\",\"gridwidth\":2}},\"shapedefaults\":{\"line\":{\"color\":\"#2a3f5f\"}},\"annotationdefaults\":{\"arrowcolor\":\"#2a3f5f\",\"arrowhead\":0,\"arrowwidth\":1},\"geo\":{\"bgcolor\":\"white\",\"landcolor\":\"#E5ECF6\",\"subunitcolor\":\"white\",\"showland\":true,\"showlakes\":true,\"lakecolor\":\"white\"},\"title\":{\"x\":0.05},\"mapbox\":{\"style\":\"light\"}}},\"mapbox\":{\"domain\":{\"x\":[0.0,1.0],\"y\":[0.0,1.0]},\"center\":{\"lat\":37.0902,\"lon\":-95.7129},\"zoom\":4,\"style\":\"open-street-map\",\"bounds\":{\"west\":-180,\"east\":-50,\"south\":20,\"north\":90}},\"coloraxis\":{\"colorbar\":{\"title\":{\"text\":\"YoY\",\"side\":\"right\"},\"ticksuffix\":\"%\",\"orientation\":\"h\",\"lenmode\":\"pixels\",\"len\":600,\"x\":0.3},\"colorscale\":[[0.0,\"#0d0887\"],[0.1111111111111111,\"#46039f\"],[0.2222222222222222,\"#7201a8\"],[0.3333333333333333,\"#9c179e\"],[0.4444444444444444,\"#bd3786\"],[0.5555555555555556,\"#d8576b\"],[0.6666666666666666,\"#ed7953\"],[0.7777777777777778,\"#fb9f3a\"],[0.8888888888888888,\"#fdca26\"],[1.0,\"#f0f921\"]]},\"legend\":{\"tracegroupgap\":0,\"itemsizing\":\"constant\"},\"title\":{\"text\":\"Year-over-year change in median monthy apartment rent for one bedroom apartments from 2021 to 2022\",\"x\":0.2},\"height\":800,\"width\":1250,\"margin\":{\"r\":0,\"t\":0,\"l\":0,\"b\":0}},                        {\"responsive\": true}                    ).then(function(){\n",
              "                            \n",
              "var gd = document.getElementById('bf21ae0f-e475-45cd-af7b-aa8ca8b35b17');\n",
              "var x = new MutationObserver(function (mutations, observer) {{\n",
              "        var display = window.getComputedStyle(gd).display;\n",
              "        if (!display || display === 'none') {{\n",
              "            console.log([gd, 'removed!']);\n",
              "            Plotly.purge(gd);\n",
              "            observer.disconnect();\n",
              "        }}\n",
              "}});\n",
              "\n",
              "// Listen for the removal of the full notebook cells\n",
              "var notebookContainer = gd.closest('#notebook-container');\n",
              "if (notebookContainer) {{\n",
              "    x.observe(notebookContainer, {childList: true});\n",
              "}}\n",
              "\n",
              "// Listen for the clearing of the current output cell\n",
              "var outputEl = gd.closest('.output');\n",
              "if (outputEl) {{\n",
              "    x.observe(outputEl, {childList: true});\n",
              "}}\n",
              "\n",
              "                        })                };                            </script>        </div>\n",
              "</body>\n",
              "</html>"
            ]
          },
          "metadata": {}
        }
      ]
    },
    {
      "cell_type": "markdown",
      "source": [
        "##### *Rent Increased The Most In Cities with the Lowest Monthly Rent*\n",
        "\n",
        "Phoenix, had the highest growth in rent for one bedroom apartments in 2022, where rent jumped 34.46% YOY. It also had the third lowest median rent, \\$1,467, after Nashville (\\$1,245) and Austin (\\$1,386) which experienced the second (13.18%) and third (12.14) highest growth respectively.\n",
        "\n",
        "\n",
        "San Francisco experienced the slowest growth, with rent only growing 1.25%, which also had the highest monthly rent ($2,665). New York had the second lowest growth (5.65%) and the third highest median rent (\\$2,170) followed by Boston, which had third lowest growth (10.67%) and second highest median rent (\\$2,198)."
      ],
      "metadata": {
        "id": "iDzSkGkEX0zs"
      }
    },
    {
      "cell_type": "code",
      "source": [
        "colors = [\"#7e1e59\",\"#66c2a5\",\"#ea9675\",\"#263655\",\"#17becf\",\"#ffe579\",\"#add0d8\",\"#1ab048\",\"#e78ac3\",\"#668aaa\"]\n",
        "sns.set_palette(sns.color_palette(colors))\n",
        "\n",
        "f = sns.catplot(data=yearly_df, x ='Bedrooms', y='YoY', kind='bar', col = 'Year', hue ='City',\n",
        "            col_wrap= 1, sharex = False, height=5, aspect = 2)\n",
        "\n",
        "f.despine(left=True)\n",
        "f.fig.suptitle(\"U.S. Apartment Rent Price YOY\", y=1.05)\n",
        "f.set_titles(\"Apartment Rent Price YoY for: {col_name}\")\n",
        "f.set_axis_labels('Bedrooms','YoY (%)')\n",
        "f.set_xticklabels(rotation = 'horizontal')\n",
        "sns.move_legend(f, \"center right\",frameon=False, bbox_to_anchor = (1.1,0.9))\n",
        "\n",
        "plt.show()"
      ],
      "metadata": {
        "id": "eoAjLUVXsL5m",
        "colab": {
          "base_uri": "https://localhost:8080/",
          "height": 1000
        },
        "outputId": "d96bac22-bfe3-4d5a-8021-75bfbb742103"
      },
      "execution_count": null,
      "outputs": [
        {
          "output_type": "display_data",
          "data": {
            "text/plain": [
              "<Figure size 892.525x1440 with 4 Axes>"
            ],
            "image/png": "[encoded data removed]"
          },
          "metadata": {}
        }
      ]
    },
    {
      "cell_type": "markdown",
      "source": [
        "####Description of Key Findings for HUD dataset\n",
        "##### Before the pandemic, from 2018 to 2019, rental price changes across bedroom types were approximately 5-23% for each of the top 10 cities selected for analysis; Boston had the highest price change and Chicago had the lowest price change. As the pandemic began, from 2019 to 2020, the price changes ranged from approximately –10% for Seattle, across all bedroom types, to approximately 11% for Sacramento. As the pandemic progressed from 2020 to 2021, the price changes declined significantly for Sacramento with a 10% decline. Additionally, Los Angeles experienced the second highest rent price decrease with an approximately –1% decline across all bedroom types which implies that it may have experienced a population decline resulting in a decrease in demand for rentals. From 2021 to 2022, Phoenix showed an over 30% increase in its rental price change, across all bedroom types, which suggests that there may have been a large increase in the population of residents seeking rental units which drove up the prices. In addition, San Francisco continued its decline in the 2-4 bedroom type category which hints at the possibility that larger families moved out of San Francisco leading to a decrease in rental prices for the 2-4 bedroom category. \n"
      ],
      "metadata": {
        "id": "qMyvQN7f-ixE"
      }
    },
    {
      "cell_type": "markdown",
      "source": [
        "### 5.   Has the inflation rate affected housing inventory? "
      ],
      "metadata": {
        "id": "e4xziNF04WZU"
      }
    },
    {
      "cell_type": "markdown",
      "source": [
        "### 6.   How has the cost of consumer goods changed? "
      ],
      "metadata": {
        "id": "CTsWHC-x4XF5"
      }
    },
    {
      "cell_type": "markdown",
      "source": [
        "Inflation rates are calculated using the Consumer Price Index (CPI)measures for the period of 2019-2022 (non-seasonaly adjusted). The CPI measures utilized, include the changes in prices paid by consumers for goods and services and reflects spending patterns for all urban consumers. The all urban consumer group represents about 93 percent of the total U.S. population.\n",
        "\n",
        "The rates for consumer spending are based on prices of food, clothing, housing, fuels, transportation, healthcare, and other goods and services that people buy for day-to-day living.\n",
        "Prior to the pandemic (2019 thru early 2020), most of the cities in our sample reflected decreases in annual inflation rates (except for Sacramento which reflected a steady increase in the cost of goods and services). As a result of the impacts on the economy due to the pandemic, the cost of consumer goods and services increased steadily each year, reaching its highest peak thus far in 2022. \n",
        "Phoenix, Arizona showed the highest increase in inflation. Prior to the pandemic the annual inflation rate for Phoenix was 2.9%. By December 2022 it had grown to 11.5%, an increase of over 8.6%. This rate is higher than the United States average of 8%. Austin, Texas reflected the 2nd highest inflation rate of our selected cities, going from 1.4% pre-pandemic to 8,6% post pandemic. Most other cities in our population kept pace at or below the US average of 8% from 2019-2022, except for Seattle which landed at 9% and Austin and Nashville which were both 8.6% post-pandemic. Chicago reflected the lowest rate of inflation overall, landing at 4.2% post-pandemic.\n"
      ],
      "metadata": {
        "id": "H4Ou5dzAS42K"
      }
    },
    {
      "cell_type": "code",
      "source": [
        "\n",
        "inflation_df.dropna(axis=1, inplace=True)\n"
      ],
      "metadata": {
        "id": "dS30z0m34pDL"
      },
      "execution_count": null,
      "outputs": []
    },
    {
      "cell_type": "code",
      "source": [
        "fig = px.line(inflation_df, \n",
        "              x=\"Year\",\n",
        "              y=\"Annual Inflation\", \n",
        "              color=\"City\", \n",
        "              template= 'ygridoff'\n",
        "              )\n",
        "\n",
        "fig.update_traces(\n",
        "    mode=\"markers+lines\", \n",
        "    hovertemplate=None\n",
        ")\n",
        "\n",
        "fig.update_xaxes(dtick=1)\n",
        "\n",
        "fig.update_layout(\n",
        "    title=dict(\n",
        "        text=\"Annual Inflation by City vs US\",\n",
        "        x=0.5,\n",
        "        y=0.95,\n",
        "        xanchor=\"center\",\n",
        "        yanchor=\"top\"\n",
        "    ),\n",
        "    yaxis_ticksuffix=\"%\",\n",
        "    hovermode='x unified')\n",
        "\n",
        "fig.show()"
      ],
      "metadata": {
        "colab": {
          "base_uri": "https://localhost:8080/",
          "height": 542
        },
        "id": "R-vmJtWkO-b5",
        "outputId": "c499718e-f0ee-4fe3-dafd-046ddbfa9556"
      },
      "execution_count": null,
      "outputs": [
        {
          "output_type": "display_data",
          "data": {
            "text/html": [
              "<html>\n",
              "<head><meta charset=\"utf-8\" /></head>\n",
              "<body>\n",
              "    <div>            <script src=\"https://cdnjs.cloudflare.com/ajax/libs/mathjax/2.7.5/MathJax.js?config=TeX-AMS-MML_SVG\"></script><script type=\"text/javascript\">if (window.MathJax && window.MathJax.Hub && window.MathJax.Hub.Config) {window.MathJax.Hub.Config({SVG: {font: \"STIX-Web\"}});}</script>                <script type=\"text/javascript\">window.PlotlyConfig = {MathJaxConfig: 'local'};</script>\n",
              "        <script src=\"https://cdn.plot.ly/plotly-2.16.1.min.js\"></script>                <div id=\"33068128-f8a3-457c-a313-8890a4a7926e\" class=\"plotly-graph-div\" style=\"height:525px; width:100%;\"></div>            <script type=\"text/javascript\">                                    window.PLOTLYENV=window.PLOTLYENV || {};                                    if (document.getElementById(\"33068128-f8a3-457c-a313-8890a4a7926e\")) {                    Plotly.newPlot(                        \"33068128-f8a3-457c-a313-8890a4a7926e\",                        [{\"legendgroup\":\"US\",\"line\":{\"color\":\"#1F77B4\",\"dash\":\"solid\"},\"marker\":{\"symbol\":\"circle\"},\"mode\":\"markers+lines\",\"name\":\"US\",\"orientation\":\"v\",\"showlegend\":true,\"x\":[2019,2020,2021,2022],\"xaxis\":\"x\",\"y\":[1.8,1.2,4.7,8.0],\"yaxis\":\"y\",\"type\":\"scatter\"},{\"legendgroup\":\"Austin\",\"line\":{\"color\":\"#FF7F0E\",\"dash\":\"solid\"},\"marker\":{\"symbol\":\"circle\"},\"mode\":\"markers+lines\",\"name\":\"Austin\",\"orientation\":\"v\",\"showlegend\":true,\"x\":[2019,2020,2021,2022],\"xaxis\":\"x\",\"y\":[1.4,1.0,5.1,8.6],\"yaxis\":\"y\",\"type\":\"scatter\"},{\"legendgroup\":\"Boston\",\"line\":{\"color\":\"#2CA02C\",\"dash\":\"solid\"},\"marker\":{\"symbol\":\"circle\"},\"mode\":\"markers+lines\",\"name\":\"Boston\",\"orientation\":\"v\",\"showlegend\":true,\"x\":[2019,2020,2021,2022],\"xaxis\":\"x\",\"y\":[1.9,1.1,3.3,7.1],\"yaxis\":\"y\",\"type\":\"scatter\"},{\"legendgroup\":\"Chicago\",\"line\":{\"color\":\"#D62728\",\"dash\":\"solid\"},\"marker\":{\"symbol\":\"circle\"},\"mode\":\"markers+lines\",\"name\":\"Chicago\",\"orientation\":\"v\",\"showlegend\":true,\"x\":[2019,2020,2021,2022],\"xaxis\":\"x\",\"y\":[1.8,1.5,1.1,4.2],\"yaxis\":\"y\",\"type\":\"scatter\"},{\"legendgroup\":\"Los Angeles\",\"line\":{\"color\":\"#9467BD\",\"dash\":\"solid\"},\"marker\":{\"symbol\":\"circle\"},\"mode\":\"markers+lines\",\"name\":\"Los Angeles\",\"orientation\":\"v\",\"showlegend\":true,\"x\":[2019,2020,2021,2022],\"xaxis\":\"x\",\"y\":[7.6,1.6,3.8,7.4],\"yaxis\":\"y\",\"type\":\"scatter\"},{\"legendgroup\":\"Nashville\",\"line\":{\"color\":\"#8C564B\",\"dash\":\"solid\"},\"marker\":{\"symbol\":\"circle\"},\"mode\":\"markers+lines\",\"name\":\"Nashville\",\"orientation\":\"v\",\"showlegend\":true,\"x\":[2019,2020,2021,2022],\"xaxis\":\"x\",\"y\":[3.5,1.0,3.7,8.6],\"yaxis\":\"y\",\"type\":\"scatter\"},{\"legendgroup\":\"New York\",\"line\":{\"color\":\"#E377C2\",\"dash\":\"solid\"},\"marker\":{\"symbol\":\"circle\"},\"mode\":\"markers+lines\",\"name\":\"New York\",\"orientation\":\"v\",\"showlegend\":true,\"x\":[2019,2020,2021,2022],\"xaxis\":\"x\",\"y\":[1.7,1.7,3.3,6.1],\"yaxis\":\"y\",\"type\":\"scatter\"},{\"legendgroup\":\"Phoenix\",\"line\":{\"color\":\"#7F7F7F\",\"dash\":\"solid\"},\"marker\":{\"symbol\":\"circle\"},\"mode\":\"markers+lines\",\"name\":\"Phoenix\",\"orientation\":\"v\",\"showlegend\":true,\"x\":[2019,2020,2021,2022],\"xaxis\":\"x\",\"y\":[2.9,2.0,5.0,11.5],\"yaxis\":\"y\",\"type\":\"scatter\"},{\"legendgroup\":\"San Francisco\",\"line\":{\"color\":\"#BCBD22\",\"dash\":\"solid\"},\"marker\":{\"symbol\":\"circle\"},\"mode\":\"markers+lines\",\"name\":\"San Francisco\",\"orientation\":\"v\",\"showlegend\":true,\"x\":[2019,2020,2021,2022],\"xaxis\":\"x\",\"y\":[3.3,1.7,3.2,5.6],\"yaxis\":\"y\",\"type\":\"scatter\"},{\"legendgroup\":\"Sacremento\",\"line\":{\"color\":\"#17BECF\",\"dash\":\"solid\"},\"marker\":{\"symbol\":\"circle\"},\"mode\":\"markers+lines\",\"name\":\"Sacremento\",\"orientation\":\"v\",\"showlegend\":true,\"x\":[2019,2020,2021,2022],\"xaxis\":\"x\",\"y\":[2.7,4.2,4.5,8.0],\"yaxis\":\"y\",\"type\":\"scatter\"},{\"legendgroup\":\"Seattle\",\"line\":{\"color\":\"#1F77B4\",\"dash\":\"solid\"},\"marker\":{\"symbol\":\"circle\"},\"mode\":\"markers+lines\",\"name\":\"Seattle\",\"orientation\":\"v\",\"showlegend\":true,\"x\":[2019,2020,2021,2022],\"xaxis\":\"x\",\"y\":[2.5,1.7,4.6,9.0],\"yaxis\":\"y\",\"type\":\"scatter\"}],                        {\"template\":{\"data\":{\"pie\":[{\"automargin\":true,\"type\":\"pie\"}]},\"layout\":{\"yaxis\":{\"showgrid\":false}}},\"xaxis\":{\"anchor\":\"y\",\"domain\":[0.0,1.0],\"title\":{\"text\":\"Year\"},\"dtick\":1},\"yaxis\":{\"anchor\":\"x\",\"domain\":[0.0,1.0],\"title\":{\"text\":\"Annual Inflation\"},\"ticksuffix\":\"%\"},\"legend\":{\"title\":{\"text\":\"City\"},\"tracegroupgap\":0},\"margin\":{\"t\":60},\"title\":{\"text\":\"Annual Inflation by City vs US\",\"x\":0.5,\"y\":0.95,\"xanchor\":\"center\",\"yanchor\":\"top\"},\"hovermode\":\"x unified\"},                        {\"responsive\": true}                    ).then(function(){\n",
              "                            \n",
              "var gd = document.getElementById('33068128-f8a3-457c-a313-8890a4a7926e');\n",
              "var x = new MutationObserver(function (mutations, observer) {{\n",
              "        var display = window.getComputedStyle(gd).display;\n",
              "        if (!display || display === 'none') {{\n",
              "            console.log([gd, 'removed!']);\n",
              "            Plotly.purge(gd);\n",
              "            observer.disconnect();\n",
              "        }}\n",
              "}});\n",
              "\n",
              "// Listen for the removal of the full notebook cells\n",
              "var notebookContainer = gd.closest('#notebook-container');\n",
              "if (notebookContainer) {{\n",
              "    x.observe(notebookContainer, {childList: true});\n",
              "}}\n",
              "\n",
              "// Listen for the clearing of the current output cell\n",
              "var outputEl = gd.closest('.output');\n",
              "if (outputEl) {{\n",
              "    x.observe(outputEl, {childList: true});\n",
              "}}\n",
              "\n",
              "                        })                };                            </script>        </div>\n",
              "</body>\n",
              "</html>"
            ]
          },
          "metadata": {}
        }
      ]
    },
    {
      "cell_type": "code",
      "source": [],
      "metadata": {
        "id": "4LzV-MHkO-C_"
      },
      "execution_count": null,
      "outputs": []
    },
    {
      "cell_type": "markdown",
      "source": [
        "### 7.   Has the inflation rate affected housing inventory? (Askek)"
      ],
      "metadata": {
        "id": "0l12CoWAPn6B"
      }
    },
    {
      "cell_type": "markdown",
      "source": [
        "#### Data Processing"
      ],
      "metadata": {
        "id": "kEycr2fRbp0T"
      }
    },
    {
      "cell_type": "code",
      "source": [
        "target_cities = ['New York, NY', 'Chicago, IL', 'Boston, MA', 'Seattle, WA', 'San Francisco, CA', 'Sacramento, CA', 'Austin, TX', 'Los Angeles, CA', 'Nashville, TN', 'Phoenix, AZ']"
      ],
      "metadata": {
        "id": "WXVX0rTDXao8"
      },
      "execution_count": 13,
      "outputs": []
    },
    {
      "cell_type": "code",
      "source": [
        "inventory = df_iv[df_iv.RegionName.isin(target_cities)]"
      ],
      "metadata": {
        "id": "6eXhWZHXXaf8"
      },
      "execution_count": 21,
      "outputs": []
    },
    {
      "cell_type": "markdown",
      "source": [
        "There are two null values for Nashville, TN"
      ],
      "metadata": {
        "id": "CtzHmVk-md7L"
      }
    },
    {
      "cell_type": "code",
      "source": [
        "inventory[inventory.isnull().any(axis=1)]"
      ],
      "metadata": {
        "colab": {
          "base_uri": "https://localhost:8080/",
          "height": 189
        },
        "id": "l-mAuRvWljuM",
        "outputId": "375699d7-8432-4f3e-acf1-5334ee507695"
      },
      "execution_count": 22,
      "outputs": [
        {
          "output_type": "execute_result",
          "data": {
            "text/plain": [
              "    RegionID  SizeRank     RegionName RegionType StateName  2018-01-31  \\\n",
              "36    394902        36  Nashville, TN        msa        TN      6402.0   \n",
              "\n",
              "    2018-02-28  2018-03-31  2018-04-30  2018-05-31  ...  2022-02-28  \\\n",
              "36      6597.0      7513.0      8153.0      8756.0  ...      3419.0   \n",
              "\n",
              "    2022-03-31  2022-04-30  2022-05-31  2022-06-30  2022-07-31  2022-08-31  \\\n",
              "36      4089.0      4792.0      5545.0      6571.0      7495.0      7830.0   \n",
              "\n",
              "    2022-09-30  2022-10-31  2022-11-30  \n",
              "36      7742.0      7744.0      7163.0  \n",
              "\n",
              "[1 rows x 64 columns]"
            ],
            "text/html": [
              "\n",
              "  <div id=\"df-006009ac-de07-4847-a299-6a22703d4a42\">\n",
              "    <div class=\"colab-df-container\">\n",
              "      <div>\n",
              "<style scoped>\n",
              "    .dataframe tbody tr th:only-of-type {\n",
              "        vertical-align: middle;\n",
              "    }\n",
              "\n",
              "    .dataframe tbody tr th {\n",
              "        vertical-align: top;\n",
              "    }\n",
              "\n",
              "    .dataframe thead th {\n",
              "        text-align: right;\n",
              "    }\n",
              "</style>\n",
              "<table border=\"1\" class=\"dataframe\">\n",
              "  <thead>\n",
              "    <tr style=\"text-align: right;\">\n",
              "      <th></th>\n",
              "      <th>RegionID</th>\n",
              "      <th>SizeRank</th>\n",
              "      <th>RegionName</th>\n",
              "      <th>RegionType</th>\n",
              "      <th>StateName</th>\n",
              "      <th>2018-01-31</th>\n",
              "      <th>2018-02-28</th>\n",
              "      <th>2018-03-31</th>\n",
              "      <th>2018-04-30</th>\n",
              "      <th>2018-05-31</th>\n",
              "      <th>...</th>\n",
              "      <th>2022-02-28</th>\n",
              "      <th>2022-03-31</th>\n",
              "      <th>2022-04-30</th>\n",
              "      <th>2022-05-31</th>\n",
              "      <th>2022-06-30</th>\n",
              "      <th>2022-07-31</th>\n",
              "      <th>2022-08-31</th>\n",
              "      <th>2022-09-30</th>\n",
              "      <th>2022-10-31</th>\n",
              "      <th>2022-11-30</th>\n",
              "    </tr>\n",
              "  </thead>\n",
              "  <tbody>\n",
              "    <tr>\n",
              "      <th>36</th>\n",
              "      <td>394902</td>\n",
              "      <td>36</td>\n",
              "      <td>Nashville, TN</td>\n",
              "      <td>msa</td>\n",
              "      <td>TN</td>\n",
              "      <td>6402.0</td>\n",
              "      <td>6597.0</td>\n",
              "      <td>7513.0</td>\n",
              "      <td>8153.0</td>\n",
              "      <td>8756.0</td>\n",
              "      <td>...</td>\n",
              "      <td>3419.0</td>\n",
              "      <td>4089.0</td>\n",
              "      <td>4792.0</td>\n",
              "      <td>5545.0</td>\n",
              "      <td>6571.0</td>\n",
              "      <td>7495.0</td>\n",
              "      <td>7830.0</td>\n",
              "      <td>7742.0</td>\n",
              "      <td>7744.0</td>\n",
              "      <td>7163.0</td>\n",
              "    </tr>\n",
              "  </tbody>\n",
              "</table>\n",
              "<p>1 rows × 64 columns</p>\n",
              "</div>\n",
              "      <button class=\"colab-df-convert\" onclick=\"convertToInteractive('df-006009ac-de07-4847-a299-6a22703d4a42')\"\n",
              "              title=\"Convert this dataframe to an interactive table.\"\n",
              "              style=\"display:none;\">\n",
              "        \n",
              "  <svg xmlns=\"http://www.w3.org/2000/svg\" height=\"24px\"viewBox=\"0 0 24 24\"\n",
              "       width=\"24px\">\n",
              "    <path d=\"M0 0h24v24H0V0z\" fill=\"none\"/>\n",
              "    <path d=\"M18.56 5.44l.94 2.06.94-2.06 2.06-.94-2.06-.94-.94-2.06-.94 2.06-2.06.94zm-11 1L8.5 8.5l.94-2.06 2.06-.94-2.06-.94L8.5 2.5l-.94 2.06-2.06.94zm10 10l.94 2.06.94-2.06 2.06-.94-2.06-.94-.94-2.06-.94 2.06-2.06.94z\"/><path d=\"M17.41 7.96l-1.37-1.37c-.4-.4-.92-.59-1.43-.59-.52 0-1.04.2-1.43.59L10.3 9.45l-7.72 7.72c-.78.78-.78 2.05 0 2.83L4 21.41c.39.39.9.59 1.41.59.51 0 1.02-.2 1.41-.59l7.78-7.78 2.81-2.81c.8-.78.8-2.07 0-2.86zM5.41 20L4 18.59l7.72-7.72 1.47 1.35L5.41 20z\"/>\n",
              "  </svg>\n",
              "      </button>\n",
              "      \n",
              "  <style>\n",
              "    .colab-df-container {\n",
              "      display:flex;\n",
              "      flex-wrap:wrap;\n",
              "      gap: 12px;\n",
              "    }\n",
              "\n",
              "    .colab-df-convert {\n",
              "      background-color: #E8F0FE;\n",
              "      border: none;\n",
              "      border-radius: 50%;\n",
              "      cursor: pointer;\n",
              "      display: none;\n",
              "      fill: #1967D2;\n",
              "      height: 32px;\n",
              "      padding: 0 0 0 0;\n",
              "      width: 32px;\n",
              "    }\n",
              "\n",
              "    .colab-df-convert:hover {\n",
              "      background-color: #E2EBFA;\n",
              "      box-shadow: 0px 1px 2px rgba(60, 64, 67, 0.3), 0px 1px 3px 1px rgba(60, 64, 67, 0.15);\n",
              "      fill: #174EA6;\n",
              "    }\n",
              "\n",
              "    [theme=dark] .colab-df-convert {\n",
              "      background-color: #3B4455;\n",
              "      fill: #D2E3FC;\n",
              "    }\n",
              "\n",
              "    [theme=dark] .colab-df-convert:hover {\n",
              "      background-color: #434B5C;\n",
              "      box-shadow: 0px 1px 3px 1px rgba(0, 0, 0, 0.15);\n",
              "      filter: drop-shadow(0px 1px 2px rgba(0, 0, 0, 0.3));\n",
              "      fill: #FFFFFF;\n",
              "    }\n",
              "  </style>\n",
              "\n",
              "      <script>\n",
              "        const buttonEl =\n",
              "          document.querySelector('#df-006009ac-de07-4847-a299-6a22703d4a42 button.colab-df-convert');\n",
              "        buttonEl.style.display =\n",
              "          google.colab.kernel.accessAllowed ? 'block' : 'none';\n",
              "\n",
              "        async function convertToInteractive(key) {\n",
              "          const element = document.querySelector('#df-006009ac-de07-4847-a299-6a22703d4a42');\n",
              "          const dataTable =\n",
              "            await google.colab.kernel.invokeFunction('convertToInteractive',\n",
              "                                                     [key], {});\n",
              "          if (!dataTable) return;\n",
              "\n",
              "          const docLinkHtml = 'Like what you see? Visit the ' +\n",
              "            '<a target=\"_blank\" href=https://colab.research.google.com/notebooks/data_table.ipynb>data table notebook</a>'\n",
              "            + ' to learn more about interactive tables.';\n",
              "          element.innerHTML = '';\n",
              "          dataTable['output_type'] = 'display_data';\n",
              "          await google.colab.output.renderOutput(dataTable, element);\n",
              "          const docLink = document.createElement('div');\n",
              "          docLink.innerHTML = docLinkHtml;\n",
              "          element.appendChild(docLink);\n",
              "        }\n",
              "      </script>\n",
              "    </div>\n",
              "  </div>\n",
              "  "
            ]
          },
          "metadata": {},
          "execution_count": 22
        }
      ]
    },
    {
      "cell_type": "code",
      "source": [
        "average_2021_inventory = (inventory.loc[36,'2021-01-31'] + inventory.loc[36,'2021-04-30'] + inventory.loc[36,'2021-05-31'] + inventory.loc[36,'2021-06-30'] + inventory.loc[36,'2021-07-31'] + inventory.loc[36,'2021-08-31'] + inventory.loc[36,'2021-09-30'] + inventory.loc[36,'2021-10-31'] + inventory.loc[36,'2021-11-30'] + inventory.loc[36,'2021-12-31'])/10"
      ],
      "metadata": {
        "id": "O6XXUTFCXaX8"
      },
      "execution_count": 23,
      "outputs": []
    },
    {
      "cell_type": "code",
      "source": [
        "inventory.loc[36,'2021-02-28'] = average_2021_inventory\n",
        "inventory.loc[36,'2021-03-31'] = average_2021_inventory"
      ],
      "metadata": {
        "id": "PXPYrvFVP8mQ"
      },
      "execution_count": 24,
      "outputs": []
    },
    {
      "cell_type": "code",
      "source": [
        "inventory"
      ],
      "metadata": {
        "colab": {
          "base_uri": "https://localhost:8080/",
          "height": 471
        },
        "id": "FRLs6Iu5XaPs",
        "outputId": "7b76d6e7-4303-4aa4-b463-d8be0894a226"
      },
      "execution_count": 25,
      "outputs": [
        {
          "output_type": "execute_result",
          "data": {
            "text/plain": [
              "    RegionID  SizeRank         RegionName RegionType StateName  2018-01-31  \\\n",
              "1     394913         1       New York, NY        msa        NY     66530.0   \n",
              "2     753899         2    Los Angeles, CA        msa        CA     19893.0   \n",
              "3     394463         3        Chicago, IL        msa        IL     34633.0   \n",
              "10    394976        10        Phoenix, AZ        msa        AZ     25768.0   \n",
              "11    394404        11         Boston, MA        msa        MA      7993.0   \n",
              "12    395057        12  San Francisco, CA        msa        CA      4111.0   \n",
              "15    395078        15        Seattle, WA        msa        WA      6630.0   \n",
              "26    395045        26     Sacramento, CA        msa        CA      5518.0   \n",
              "29    394355        29         Austin, TX        msa        TX      6704.0   \n",
              "36    394902        36      Nashville, TN        msa        TN      6402.0   \n",
              "\n",
              "    2018-02-28  2018-03-31  2018-04-30  2018-05-31  ...  2022-02-28  \\\n",
              "1      74575.0     80016.0     86445.0     91131.0  ...     42563.0   \n",
              "2      21994.0     24106.0     25253.0     27455.0  ...     13916.0   \n",
              "3      37046.0     44063.0     45649.0     47560.0  ...     21130.0   \n",
              "10     26865.0     28519.0     28333.0     27669.0  ...     14058.0   \n",
              "11      8777.0     10432.0     12821.0     15297.0  ...      5614.0   \n",
              "12      5277.0      6589.0      7224.0      8162.0  ...      5659.0   \n",
              "15      6640.0      8592.0      9599.0     12253.0  ...      5186.0   \n",
              "26      5822.0      6791.0      7421.0      8460.0  ...      3918.0   \n",
              "29      7149.0      8322.0      9361.0     10047.0  ...      5067.0   \n",
              "36      6597.0      7513.0      8153.0      8756.0  ...      3419.0   \n",
              "\n",
              "    2022-03-31  2022-04-30  2022-05-31  2022-06-30  2022-07-31  2022-08-31  \\\n",
              "1      48488.0     50278.0     54828.0     57774.0     57781.0     55530.0   \n",
              "2      15848.0     16511.0     18495.0     20270.0     21782.0     22018.0   \n",
              "3      24765.0     26083.0     28480.0     30780.0     31504.0     31121.0   \n",
              "10     15182.0     16057.0     18350.0     21274.0     23816.0     25343.0   \n",
              "11      8202.0      9292.0     10982.0     13248.0     10684.0     10018.0   \n",
              "12      7189.0      7643.0      8389.0      9215.0      9534.0      9152.0   \n",
              "15      7356.0      8297.0      9990.0     11461.0     12432.0     11930.0   \n",
              "26      4804.0      5366.0      6271.0      6875.0      7599.0      7779.0   \n",
              "29      6246.0      7536.0      9256.0     11359.0     12535.0     12785.0   \n",
              "36      4089.0      4792.0      5545.0      6571.0      7495.0      7830.0   \n",
              "\n",
              "    2022-09-30  2022-10-31  2022-11-30  \n",
              "1      55297.0     52890.0     48361.0  \n",
              "2      20697.0     20120.0     18273.0  \n",
              "3      29720.0     28587.0     24954.0  \n",
              "10     25104.0     25025.0     23087.0  \n",
              "11     10396.0     10219.0      8594.0  \n",
              "12      8848.0      8555.0      6974.0  \n",
              "15     11187.0     10215.0      8330.0  \n",
              "26      7164.0      6685.0      5713.0  \n",
              "29     12509.0     11986.0     10755.0  \n",
              "36      7742.0      7744.0      7163.0  \n",
              "\n",
              "[10 rows x 64 columns]"
            ],
            "text/html": [
              "\n",
              "  <div id=\"df-12bf60bf-65e0-4ecf-923b-ee5a3884118b\">\n",
              "    <div class=\"colab-df-container\">\n",
              "      <div>\n",
              "<style scoped>\n",
              "    .dataframe tbody tr th:only-of-type {\n",
              "        vertical-align: middle;\n",
              "    }\n",
              "\n",
              "    .dataframe tbody tr th {\n",
              "        vertical-align: top;\n",
              "    }\n",
              "\n",
              "    .dataframe thead th {\n",
              "        text-align: right;\n",
              "    }\n",
              "</style>\n",
              "<table border=\"1\" class=\"dataframe\">\n",
              "  <thead>\n",
              "    <tr style=\"text-align: right;\">\n",
              "      <th></th>\n",
              "      <th>RegionID</th>\n",
              "      <th>SizeRank</th>\n",
              "      <th>RegionName</th>\n",
              "      <th>RegionType</th>\n",
              "      <th>StateName</th>\n",
              "      <th>2018-01-31</th>\n",
              "      <th>2018-02-28</th>\n",
              "      <th>2018-03-31</th>\n",
              "      <th>2018-04-30</th>\n",
              "      <th>2018-05-31</th>\n",
              "      <th>...</th>\n",
              "      <th>2022-02-28</th>\n",
              "      <th>2022-03-31</th>\n",
              "      <th>2022-04-30</th>\n",
              "      <th>2022-05-31</th>\n",
              "      <th>2022-06-30</th>\n",
              "      <th>2022-07-31</th>\n",
              "      <th>2022-08-31</th>\n",
              "      <th>2022-09-30</th>\n",
              "      <th>2022-10-31</th>\n",
              "      <th>2022-11-30</th>\n",
              "    </tr>\n",
              "  </thead>\n",
              "  <tbody>\n",
              "    <tr>\n",
              "      <th>1</th>\n",
              "      <td>394913</td>\n",
              "      <td>1</td>\n",
              "      <td>New York, NY</td>\n",
              "      <td>msa</td>\n",
              "      <td>NY</td>\n",
              "      <td>66530.0</td>\n",
              "      <td>74575.0</td>\n",
              "      <td>80016.0</td>\n",
              "      <td>86445.0</td>\n",
              "      <td>91131.0</td>\n",
              "      <td>...</td>\n",
              "      <td>42563.0</td>\n",
              "      <td>48488.0</td>\n",
              "      <td>50278.0</td>\n",
              "      <td>54828.0</td>\n",
              "      <td>57774.0</td>\n",
              "      <td>57781.0</td>\n",
              "      <td>55530.0</td>\n",
              "      <td>55297.0</td>\n",
              "      <td>52890.0</td>\n",
              "      <td>48361.0</td>\n",
              "    </tr>\n",
              "    <tr>\n",
              "      <th>2</th>\n",
              "      <td>753899</td>\n",
              "      <td>2</td>\n",
              "      <td>Los Angeles, CA</td>\n",
              "      <td>msa</td>\n",
              "      <td>CA</td>\n",
              "      <td>19893.0</td>\n",
              "      <td>21994.0</td>\n",
              "      <td>24106.0</td>\n",
              "      <td>25253.0</td>\n",
              "      <td>27455.0</td>\n",
              "      <td>...</td>\n",
              "      <td>13916.0</td>\n",
              "      <td>15848.0</td>\n",
              "      <td>16511.0</td>\n",
              "      <td>18495.0</td>\n",
              "      <td>20270.0</td>\n",
              "      <td>21782.0</td>\n",
              "      <td>22018.0</td>\n",
              "      <td>20697.0</td>\n",
              "      <td>20120.0</td>\n",
              "      <td>18273.0</td>\n",
              "    </tr>\n",
              "    <tr>\n",
              "      <th>3</th>\n",
              "      <td>394463</td>\n",
              "      <td>3</td>\n",
              "      <td>Chicago, IL</td>\n",
              "      <td>msa</td>\n",
              "      <td>IL</td>\n",
              "      <td>34633.0</td>\n",
              "      <td>37046.0</td>\n",
              "      <td>44063.0</td>\n",
              "      <td>45649.0</td>\n",
              "      <td>47560.0</td>\n",
              "      <td>...</td>\n",
              "      <td>21130.0</td>\n",
              "      <td>24765.0</td>\n",
              "      <td>26083.0</td>\n",
              "      <td>28480.0</td>\n",
              "      <td>30780.0</td>\n",
              "      <td>31504.0</td>\n",
              "      <td>31121.0</td>\n",
              "      <td>29720.0</td>\n",
              "      <td>28587.0</td>\n",
              "      <td>24954.0</td>\n",
              "    </tr>\n",
              "    <tr>\n",
              "      <th>10</th>\n",
              "      <td>394976</td>\n",
              "      <td>10</td>\n",
              "      <td>Phoenix, AZ</td>\n",
              "      <td>msa</td>\n",
              "      <td>AZ</td>\n",
              "      <td>25768.0</td>\n",
              "      <td>26865.0</td>\n",
              "      <td>28519.0</td>\n",
              "      <td>28333.0</td>\n",
              "      <td>27669.0</td>\n",
              "      <td>...</td>\n",
              "      <td>14058.0</td>\n",
              "      <td>15182.0</td>\n",
              "      <td>16057.0</td>\n",
              "      <td>18350.0</td>\n",
              "      <td>21274.0</td>\n",
              "      <td>23816.0</td>\n",
              "      <td>25343.0</td>\n",
              "      <td>25104.0</td>\n",
              "      <td>25025.0</td>\n",
              "      <td>23087.0</td>\n",
              "    </tr>\n",
              "    <tr>\n",
              "      <th>11</th>\n",
              "      <td>394404</td>\n",
              "      <td>11</td>\n",
              "      <td>Boston, MA</td>\n",
              "      <td>msa</td>\n",
              "      <td>MA</td>\n",
              "      <td>7993.0</td>\n",
              "      <td>8777.0</td>\n",
              "      <td>10432.0</td>\n",
              "      <td>12821.0</td>\n",
              "      <td>15297.0</td>\n",
              "      <td>...</td>\n",
              "      <td>5614.0</td>\n",
              "      <td>8202.0</td>\n",
              "      <td>9292.0</td>\n",
              "      <td>10982.0</td>\n",
              "      <td>13248.0</td>\n",
              "      <td>10684.0</td>\n",
              "      <td>10018.0</td>\n",
              "      <td>10396.0</td>\n",
              "      <td>10219.0</td>\n",
              "      <td>8594.0</td>\n",
              "    </tr>\n",
              "    <tr>\n",
              "      <th>12</th>\n",
              "      <td>395057</td>\n",
              "      <td>12</td>\n",
              "      <td>San Francisco, CA</td>\n",
              "      <td>msa</td>\n",
              "      <td>CA</td>\n",
              "      <td>4111.0</td>\n",
              "      <td>5277.0</td>\n",
              "      <td>6589.0</td>\n",
              "      <td>7224.0</td>\n",
              "      <td>8162.0</td>\n",
              "      <td>...</td>\n",
              "      <td>5659.0</td>\n",
              "      <td>7189.0</td>\n",
              "      <td>7643.0</td>\n",
              "      <td>8389.0</td>\n",
              "      <td>9215.0</td>\n",
              "      <td>9534.0</td>\n",
              "      <td>9152.0</td>\n",
              "      <td>8848.0</td>\n",
              "      <td>8555.0</td>\n",
              "      <td>6974.0</td>\n",
              "    </tr>\n",
              "    <tr>\n",
              "      <th>15</th>\n",
              "      <td>395078</td>\n",
              "      <td>15</td>\n",
              "      <td>Seattle, WA</td>\n",
              "      <td>msa</td>\n",
              "      <td>WA</td>\n",
              "      <td>6630.0</td>\n",
              "      <td>6640.0</td>\n",
              "      <td>8592.0</td>\n",
              "      <td>9599.0</td>\n",
              "      <td>12253.0</td>\n",
              "      <td>...</td>\n",
              "      <td>5186.0</td>\n",
              "      <td>7356.0</td>\n",
              "      <td>8297.0</td>\n",
              "      <td>9990.0</td>\n",
              "      <td>11461.0</td>\n",
              "      <td>12432.0</td>\n",
              "      <td>11930.0</td>\n",
              "      <td>11187.0</td>\n",
              "      <td>10215.0</td>\n",
              "      <td>8330.0</td>\n",
              "    </tr>\n",
              "    <tr>\n",
              "      <th>26</th>\n",
              "      <td>395045</td>\n",
              "      <td>26</td>\n",
              "      <td>Sacramento, CA</td>\n",
              "      <td>msa</td>\n",
              "      <td>CA</td>\n",
              "      <td>5518.0</td>\n",
              "      <td>5822.0</td>\n",
              "      <td>6791.0</td>\n",
              "      <td>7421.0</td>\n",
              "      <td>8460.0</td>\n",
              "      <td>...</td>\n",
              "      <td>3918.0</td>\n",
              "      <td>4804.0</td>\n",
              "      <td>5366.0</td>\n",
              "      <td>6271.0</td>\n",
              "      <td>6875.0</td>\n",
              "      <td>7599.0</td>\n",
              "      <td>7779.0</td>\n",
              "      <td>7164.0</td>\n",
              "      <td>6685.0</td>\n",
              "      <td>5713.0</td>\n",
              "    </tr>\n",
              "    <tr>\n",
              "      <th>29</th>\n",
              "      <td>394355</td>\n",
              "      <td>29</td>\n",
              "      <td>Austin, TX</td>\n",
              "      <td>msa</td>\n",
              "      <td>TX</td>\n",
              "      <td>6704.0</td>\n",
              "      <td>7149.0</td>\n",
              "      <td>8322.0</td>\n",
              "      <td>9361.0</td>\n",
              "      <td>10047.0</td>\n",
              "      <td>...</td>\n",
              "      <td>5067.0</td>\n",
              "      <td>6246.0</td>\n",
              "      <td>7536.0</td>\n",
              "      <td>9256.0</td>\n",
              "      <td>11359.0</td>\n",
              "      <td>12535.0</td>\n",
              "      <td>12785.0</td>\n",
              "      <td>12509.0</td>\n",
              "      <td>11986.0</td>\n",
              "      <td>10755.0</td>\n",
              "    </tr>\n",
              "    <tr>\n",
              "      <th>36</th>\n",
              "      <td>394902</td>\n",
              "      <td>36</td>\n",
              "      <td>Nashville, TN</td>\n",
              "      <td>msa</td>\n",
              "      <td>TN</td>\n",
              "      <td>6402.0</td>\n",
              "      <td>6597.0</td>\n",
              "      <td>7513.0</td>\n",
              "      <td>8153.0</td>\n",
              "      <td>8756.0</td>\n",
              "      <td>...</td>\n",
              "      <td>3419.0</td>\n",
              "      <td>4089.0</td>\n",
              "      <td>4792.0</td>\n",
              "      <td>5545.0</td>\n",
              "      <td>6571.0</td>\n",
              "      <td>7495.0</td>\n",
              "      <td>7830.0</td>\n",
              "      <td>7742.0</td>\n",
              "      <td>7744.0</td>\n",
              "      <td>7163.0</td>\n",
              "    </tr>\n",
              "  </tbody>\n",
              "</table>\n",
              "<p>10 rows × 64 columns</p>\n",
              "</div>\n",
              "      <button class=\"colab-df-convert\" onclick=\"convertToInteractive('df-12bf60bf-65e0-4ecf-923b-ee5a3884118b')\"\n",
              "              title=\"Convert this dataframe to an interactive table.\"\n",
              "              style=\"display:none;\">\n",
              "        \n",
              "  <svg xmlns=\"http://www.w3.org/2000/svg\" height=\"24px\"viewBox=\"0 0 24 24\"\n",
              "       width=\"24px\">\n",
              "    <path d=\"M0 0h24v24H0V0z\" fill=\"none\"/>\n",
              "    <path d=\"M18.56 5.44l.94 2.06.94-2.06 2.06-.94-2.06-.94-.94-2.06-.94 2.06-2.06.94zm-11 1L8.5 8.5l.94-2.06 2.06-.94-2.06-.94L8.5 2.5l-.94 2.06-2.06.94zm10 10l.94 2.06.94-2.06 2.06-.94-2.06-.94-.94-2.06-.94 2.06-2.06.94z\"/><path d=\"M17.41 7.96l-1.37-1.37c-.4-.4-.92-.59-1.43-.59-.52 0-1.04.2-1.43.59L10.3 9.45l-7.72 7.72c-.78.78-.78 2.05 0 2.83L4 21.41c.39.39.9.59 1.41.59.51 0 1.02-.2 1.41-.59l7.78-7.78 2.81-2.81c.8-.78.8-2.07 0-2.86zM5.41 20L4 18.59l7.72-7.72 1.47 1.35L5.41 20z\"/>\n",
              "  </svg>\n",
              "      </button>\n",
              "      \n",
              "  <style>\n",
              "    .colab-df-container {\n",
              "      display:flex;\n",
              "      flex-wrap:wrap;\n",
              "      gap: 12px;\n",
              "    }\n",
              "\n",
              "    .colab-df-convert {\n",
              "      background-color: #E8F0FE;\n",
              "      border: none;\n",
              "      border-radius: 50%;\n",
              "      cursor: pointer;\n",
              "      display: none;\n",
              "      fill: #1967D2;\n",
              "      height: 32px;\n",
              "      padding: 0 0 0 0;\n",
              "      width: 32px;\n",
              "    }\n",
              "\n",
              "    .colab-df-convert:hover {\n",
              "      background-color: #E2EBFA;\n",
              "      box-shadow: 0px 1px 2px rgba(60, 64, 67, 0.3), 0px 1px 3px 1px rgba(60, 64, 67, 0.15);\n",
              "      fill: #174EA6;\n",
              "    }\n",
              "\n",
              "    [theme=dark] .colab-df-convert {\n",
              "      background-color: #3B4455;\n",
              "      fill: #D2E3FC;\n",
              "    }\n",
              "\n",
              "    [theme=dark] .colab-df-convert:hover {\n",
              "      background-color: #434B5C;\n",
              "      box-shadow: 0px 1px 3px 1px rgba(0, 0, 0, 0.15);\n",
              "      filter: drop-shadow(0px 1px 2px rgba(0, 0, 0, 0.3));\n",
              "      fill: #FFFFFF;\n",
              "    }\n",
              "  </style>\n",
              "\n",
              "      <script>\n",
              "        const buttonEl =\n",
              "          document.querySelector('#df-12bf60bf-65e0-4ecf-923b-ee5a3884118b button.colab-df-convert');\n",
              "        buttonEl.style.display =\n",
              "          google.colab.kernel.accessAllowed ? 'block' : 'none';\n",
              "\n",
              "        async function convertToInteractive(key) {\n",
              "          const element = document.querySelector('#df-12bf60bf-65e0-4ecf-923b-ee5a3884118b');\n",
              "          const dataTable =\n",
              "            await google.colab.kernel.invokeFunction('convertToInteractive',\n",
              "                                                     [key], {});\n",
              "          if (!dataTable) return;\n",
              "\n",
              "          const docLinkHtml = 'Like what you see? Visit the ' +\n",
              "            '<a target=\"_blank\" href=https://colab.research.google.com/notebooks/data_table.ipynb>data table notebook</a>'\n",
              "            + ' to learn more about interactive tables.';\n",
              "          element.innerHTML = '';\n",
              "          dataTable['output_type'] = 'display_data';\n",
              "          await google.colab.output.renderOutput(dataTable, element);\n",
              "          const docLink = document.createElement('div');\n",
              "          docLink.innerHTML = docLinkHtml;\n",
              "          element.appendChild(docLink);\n",
              "        }\n",
              "      </script>\n",
              "    </div>\n",
              "  </div>\n",
              "  "
            ]
          },
          "metadata": {},
          "execution_count": 25
        }
      ]
    },
    {
      "cell_type": "markdown",
      "source": [
        "#### Feature Engineering"
      ],
      "metadata": {
        "id": "iVlXwppMjKnV"
      }
    },
    {
      "cell_type": "markdown",
      "source": [
        "We will create new columns for the total yearly available inventory for each city."
      ],
      "metadata": {
        "id": "CjOsKqgZlHVm"
      }
    },
    {
      "cell_type": "code",
      "source": [
        "inventory['2019'] = inventory['2019-01-31'] + inventory['2019-02-28'] + inventory['2019-03-31'] + inventory['2019-04-30'] + inventory['2019-05-31'] + inventory['2019-06-30'] + inventory['2019-07-31'] + inventory['2019-08-31'] + inventory['2019-09-30'] + inventory['2019-10-31'] + inventory['2019-11-30'] + inventory['2019-12-31']\n",
        "inventory['2020'] = inventory['2020-01-31'] + inventory['2020-02-29'] + inventory['2020-03-31'] + inventory['2020-04-30'] + inventory['2020-05-31'] + inventory['2020-06-30'] + inventory['2020-07-31'] + inventory['2020-08-31'] + inventory['2020-09-30'] + inventory['2020-10-31'] + inventory['2020-11-30'] + inventory['2020-12-31']\n",
        "inventory['2021'] = inventory['2021-01-31'] + inventory['2019-02-28'] + inventory['2019-03-31'] + inventory['2021-04-30'] + inventory['2021-05-31'] + inventory['2021-06-30'] + inventory['2021-07-31'] + inventory['2021-08-31'] + inventory['2021-09-30'] + inventory['2021-10-31'] + inventory['2021-11-30'] + inventory['2021-12-31']"
      ],
      "metadata": {
        "id": "B6WVTEDlXaFL"
      },
      "execution_count": 26,
      "outputs": []
    },
    {
      "cell_type": "code",
      "source": [
        "df_inventory = inventory[['RegionName','2019', '2020', '2021']].sort_values('RegionName')\n",
        "df_inventory"
      ],
      "metadata": {
        "id": "H-eeYq8nXZ2c",
        "colab": {
          "base_uri": "https://localhost:8080/",
          "height": 363
        },
        "outputId": "9670d747-d29f-4969-c54d-349c3674ed4c"
      },
      "execution_count": 31,
      "outputs": [
        {
          "output_type": "execute_result",
          "data": {
            "text/plain": [
              "           RegionName       2019      2020      2021\n",
              "29         Austin, TX   106149.0   84909.0   96489.0\n",
              "11         Boston, MA   168782.0  134717.0  124184.0\n",
              "3         Chicago, IL   555309.0  467283.0  432121.0\n",
              "2     Los Angeles, CA   339261.0  272180.0  249626.0\n",
              "36      Nashville, TN   112912.0   96715.0   68186.0\n",
              "1        New York, NY  1044733.0  894191.0  790992.0\n",
              "10        Phoenix, AZ   288366.0  233425.0  223355.0\n",
              "26     Sacramento, CA    92896.0   71413.0   65852.0\n",
              "12  San Francisco, CA    95712.0   90071.0   89644.0\n",
              "15        Seattle, WA   129015.0  101765.0  100511.0"
            ],
            "text/html": [
              "\n",
              "  <div id=\"df-110dd14f-0bdf-45e0-99ac-7efed9313b53\">\n",
              "    <div class=\"colab-df-container\">\n",
              "      <div>\n",
              "<style scoped>\n",
              "    .dataframe tbody tr th:only-of-type {\n",
              "        vertical-align: middle;\n",
              "    }\n",
              "\n",
              "    .dataframe tbody tr th {\n",
              "        vertical-align: top;\n",
              "    }\n",
              "\n",
              "    .dataframe thead th {\n",
              "        text-align: right;\n",
              "    }\n",
              "</style>\n",
              "<table border=\"1\" class=\"dataframe\">\n",
              "  <thead>\n",
              "    <tr style=\"text-align: right;\">\n",
              "      <th></th>\n",
              "      <th>RegionName</th>\n",
              "      <th>2019</th>\n",
              "      <th>2020</th>\n",
              "      <th>2021</th>\n",
              "    </tr>\n",
              "  </thead>\n",
              "  <tbody>\n",
              "    <tr>\n",
              "      <th>29</th>\n",
              "      <td>Austin, TX</td>\n",
              "      <td>106149.0</td>\n",
              "      <td>84909.0</td>\n",
              "      <td>96489.0</td>\n",
              "    </tr>\n",
              "    <tr>\n",
              "      <th>11</th>\n",
              "      <td>Boston, MA</td>\n",
              "      <td>168782.0</td>\n",
              "      <td>134717.0</td>\n",
              "      <td>124184.0</td>\n",
              "    </tr>\n",
              "    <tr>\n",
              "      <th>3</th>\n",
              "      <td>Chicago, IL</td>\n",
              "      <td>555309.0</td>\n",
              "      <td>467283.0</td>\n",
              "      <td>432121.0</td>\n",
              "    </tr>\n",
              "    <tr>\n",
              "      <th>2</th>\n",
              "      <td>Los Angeles, CA</td>\n",
              "      <td>339261.0</td>\n",
              "      <td>272180.0</td>\n",
              "      <td>249626.0</td>\n",
              "    </tr>\n",
              "    <tr>\n",
              "      <th>36</th>\n",
              "      <td>Nashville, TN</td>\n",
              "      <td>112912.0</td>\n",
              "      <td>96715.0</td>\n",
              "      <td>68186.0</td>\n",
              "    </tr>\n",
              "    <tr>\n",
              "      <th>1</th>\n",
              "      <td>New York, NY</td>\n",
              "      <td>1044733.0</td>\n",
              "      <td>894191.0</td>\n",
              "      <td>790992.0</td>\n",
              "    </tr>\n",
              "    <tr>\n",
              "      <th>10</th>\n",
              "      <td>Phoenix, AZ</td>\n",
              "      <td>288366.0</td>\n",
              "      <td>233425.0</td>\n",
              "      <td>223355.0</td>\n",
              "    </tr>\n",
              "    <tr>\n",
              "      <th>26</th>\n",
              "      <td>Sacramento, CA</td>\n",
              "      <td>92896.0</td>\n",
              "      <td>71413.0</td>\n",
              "      <td>65852.0</td>\n",
              "    </tr>\n",
              "    <tr>\n",
              "      <th>12</th>\n",
              "      <td>San Francisco, CA</td>\n",
              "      <td>95712.0</td>\n",
              "      <td>90071.0</td>\n",
              "      <td>89644.0</td>\n",
              "    </tr>\n",
              "    <tr>\n",
              "      <th>15</th>\n",
              "      <td>Seattle, WA</td>\n",
              "      <td>129015.0</td>\n",
              "      <td>101765.0</td>\n",
              "      <td>100511.0</td>\n",
              "    </tr>\n",
              "  </tbody>\n",
              "</table>\n",
              "</div>\n",
              "      <button class=\"colab-df-convert\" onclick=\"convertToInteractive('df-110dd14f-0bdf-45e0-99ac-7efed9313b53')\"\n",
              "              title=\"Convert this dataframe to an interactive table.\"\n",
              "              style=\"display:none;\">\n",
              "        \n",
              "  <svg xmlns=\"http://www.w3.org/2000/svg\" height=\"24px\"viewBox=\"0 0 24 24\"\n",
              "       width=\"24px\">\n",
              "    <path d=\"M0 0h24v24H0V0z\" fill=\"none\"/>\n",
              "    <path d=\"M18.56 5.44l.94 2.06.94-2.06 2.06-.94-2.06-.94-.94-2.06-.94 2.06-2.06.94zm-11 1L8.5 8.5l.94-2.06 2.06-.94-2.06-.94L8.5 2.5l-.94 2.06-2.06.94zm10 10l.94 2.06.94-2.06 2.06-.94-2.06-.94-.94-2.06-.94 2.06-2.06.94z\"/><path d=\"M17.41 7.96l-1.37-1.37c-.4-.4-.92-.59-1.43-.59-.52 0-1.04.2-1.43.59L10.3 9.45l-7.72 7.72c-.78.78-.78 2.05 0 2.83L4 21.41c.39.39.9.59 1.41.59.51 0 1.02-.2 1.41-.59l7.78-7.78 2.81-2.81c.8-.78.8-2.07 0-2.86zM5.41 20L4 18.59l7.72-7.72 1.47 1.35L5.41 20z\"/>\n",
              "  </svg>\n",
              "      </button>\n",
              "      \n",
              "  <style>\n",
              "    .colab-df-container {\n",
              "      display:flex;\n",
              "      flex-wrap:wrap;\n",
              "      gap: 12px;\n",
              "    }\n",
              "\n",
              "    .colab-df-convert {\n",
              "      background-color: #E8F0FE;\n",
              "      border: none;\n",
              "      border-radius: 50%;\n",
              "      cursor: pointer;\n",
              "      display: none;\n",
              "      fill: #1967D2;\n",
              "      height: 32px;\n",
              "      padding: 0 0 0 0;\n",
              "      width: 32px;\n",
              "    }\n",
              "\n",
              "    .colab-df-convert:hover {\n",
              "      background-color: #E2EBFA;\n",
              "      box-shadow: 0px 1px 2px rgba(60, 64, 67, 0.3), 0px 1px 3px 1px rgba(60, 64, 67, 0.15);\n",
              "      fill: #174EA6;\n",
              "    }\n",
              "\n",
              "    [theme=dark] .colab-df-convert {\n",
              "      background-color: #3B4455;\n",
              "      fill: #D2E3FC;\n",
              "    }\n",
              "\n",
              "    [theme=dark] .colab-df-convert:hover {\n",
              "      background-color: #434B5C;\n",
              "      box-shadow: 0px 1px 3px 1px rgba(0, 0, 0, 0.15);\n",
              "      filter: drop-shadow(0px 1px 2px rgba(0, 0, 0, 0.3));\n",
              "      fill: #FFFFFF;\n",
              "    }\n",
              "  </style>\n",
              "\n",
              "      <script>\n",
              "        const buttonEl =\n",
              "          document.querySelector('#df-110dd14f-0bdf-45e0-99ac-7efed9313b53 button.colab-df-convert');\n",
              "        buttonEl.style.display =\n",
              "          google.colab.kernel.accessAllowed ? 'block' : 'none';\n",
              "\n",
              "        async function convertToInteractive(key) {\n",
              "          const element = document.querySelector('#df-110dd14f-0bdf-45e0-99ac-7efed9313b53');\n",
              "          const dataTable =\n",
              "            await google.colab.kernel.invokeFunction('convertToInteractive',\n",
              "                                                     [key], {});\n",
              "          if (!dataTable) return;\n",
              "\n",
              "          const docLinkHtml = 'Like what you see? Visit the ' +\n",
              "            '<a target=\"_blank\" href=https://colab.research.google.com/notebooks/data_table.ipynb>data table notebook</a>'\n",
              "            + ' to learn more about interactive tables.';\n",
              "          element.innerHTML = '';\n",
              "          dataTable['output_type'] = 'display_data';\n",
              "          await google.colab.output.renderOutput(dataTable, element);\n",
              "          const docLink = document.createElement('div');\n",
              "          docLink.innerHTML = docLinkHtml;\n",
              "          element.appendChild(docLink);\n",
              "        }\n",
              "      </script>\n",
              "    </div>\n",
              "  </div>\n",
              "  "
            ]
          },
          "metadata": {},
          "execution_count": 31
        }
      ]
    },
    {
      "cell_type": "code",
      "source": [
        "df_inflation = df_infc[['City','2019', '2020', '2021']].sort_values('City')\n",
        "df_inflation"
      ],
      "metadata": {
        "colab": {
          "base_uri": "https://localhost:8080/",
          "height": 363
        },
        "id": "uA-CP8F5QSGg",
        "outputId": "5373fe43-d83b-4e6a-a958-686d0a1edcf7"
      },
      "execution_count": 30,
      "outputs": [
        {
          "output_type": "execute_result",
          "data": {
            "text/plain": [
              "                City  2019  2020  2021\n",
              "0         Austin, TX   1.4   1.0   5.1\n",
              "1         Boston, MA   1.9   1.1   3.3\n",
              "2        Chicago, IL   1.8   1.5   1.1\n",
              "3    Los Angeles, CA   7.6   1.6   3.8\n",
              "4      Nashville, TN   3.5   1.0   3.7\n",
              "5       New York, NY   1.7   1.7   3.3\n",
              "6        Phoenix, AZ   2.9   2.0   5.0\n",
              "8     Sacramento, CA   2.7   4.2   4.5\n",
              "7  San Francisco, CA   3.3   1.7   3.2\n",
              "9        Seattle, WA   2.5   1.7   4.6"
            ],
            "text/html": [
              "\n",
              "  <div id=\"df-b054a863-b63d-4d0d-a05c-7f7567631f59\">\n",
              "    <div class=\"colab-df-container\">\n",
              "      <div>\n",
              "<style scoped>\n",
              "    .dataframe tbody tr th:only-of-type {\n",
              "        vertical-align: middle;\n",
              "    }\n",
              "\n",
              "    .dataframe tbody tr th {\n",
              "        vertical-align: top;\n",
              "    }\n",
              "\n",
              "    .dataframe thead th {\n",
              "        text-align: right;\n",
              "    }\n",
              "</style>\n",
              "<table border=\"1\" class=\"dataframe\">\n",
              "  <thead>\n",
              "    <tr style=\"text-align: right;\">\n",
              "      <th></th>\n",
              "      <th>City</th>\n",
              "      <th>2019</th>\n",
              "      <th>2020</th>\n",
              "      <th>2021</th>\n",
              "    </tr>\n",
              "  </thead>\n",
              "  <tbody>\n",
              "    <tr>\n",
              "      <th>0</th>\n",
              "      <td>Austin, TX</td>\n",
              "      <td>1.4</td>\n",
              "      <td>1.0</td>\n",
              "      <td>5.1</td>\n",
              "    </tr>\n",
              "    <tr>\n",
              "      <th>1</th>\n",
              "      <td>Boston, MA</td>\n",
              "      <td>1.9</td>\n",
              "      <td>1.1</td>\n",
              "      <td>3.3</td>\n",
              "    </tr>\n",
              "    <tr>\n",
              "      <th>2</th>\n",
              "      <td>Chicago, IL</td>\n",
              "      <td>1.8</td>\n",
              "      <td>1.5</td>\n",
              "      <td>1.1</td>\n",
              "    </tr>\n",
              "    <tr>\n",
              "      <th>3</th>\n",
              "      <td>Los Angeles, CA</td>\n",
              "      <td>7.6</td>\n",
              "      <td>1.6</td>\n",
              "      <td>3.8</td>\n",
              "    </tr>\n",
              "    <tr>\n",
              "      <th>4</th>\n",
              "      <td>Nashville, TN</td>\n",
              "      <td>3.5</td>\n",
              "      <td>1.0</td>\n",
              "      <td>3.7</td>\n",
              "    </tr>\n",
              "    <tr>\n",
              "      <th>5</th>\n",
              "      <td>New York, NY</td>\n",
              "      <td>1.7</td>\n",
              "      <td>1.7</td>\n",
              "      <td>3.3</td>\n",
              "    </tr>\n",
              "    <tr>\n",
              "      <th>6</th>\n",
              "      <td>Phoenix, AZ</td>\n",
              "      <td>2.9</td>\n",
              "      <td>2.0</td>\n",
              "      <td>5.0</td>\n",
              "    </tr>\n",
              "    <tr>\n",
              "      <th>8</th>\n",
              "      <td>Sacramento, CA</td>\n",
              "      <td>2.7</td>\n",
              "      <td>4.2</td>\n",
              "      <td>4.5</td>\n",
              "    </tr>\n",
              "    <tr>\n",
              "      <th>7</th>\n",
              "      <td>San Francisco, CA</td>\n",
              "      <td>3.3</td>\n",
              "      <td>1.7</td>\n",
              "      <td>3.2</td>\n",
              "    </tr>\n",
              "    <tr>\n",
              "      <th>9</th>\n",
              "      <td>Seattle, WA</td>\n",
              "      <td>2.5</td>\n",
              "      <td>1.7</td>\n",
              "      <td>4.6</td>\n",
              "    </tr>\n",
              "  </tbody>\n",
              "</table>\n",
              "</div>\n",
              "      <button class=\"colab-df-convert\" onclick=\"convertToInteractive('df-b054a863-b63d-4d0d-a05c-7f7567631f59')\"\n",
              "              title=\"Convert this dataframe to an interactive table.\"\n",
              "              style=\"display:none;\">\n",
              "        \n",
              "  <svg xmlns=\"http://www.w3.org/2000/svg\" height=\"24px\"viewBox=\"0 0 24 24\"\n",
              "       width=\"24px\">\n",
              "    <path d=\"M0 0h24v24H0V0z\" fill=\"none\"/>\n",
              "    <path d=\"M18.56 5.44l.94 2.06.94-2.06 2.06-.94-2.06-.94-.94-2.06-.94 2.06-2.06.94zm-11 1L8.5 8.5l.94-2.06 2.06-.94-2.06-.94L8.5 2.5l-.94 2.06-2.06.94zm10 10l.94 2.06.94-2.06 2.06-.94-2.06-.94-.94-2.06-.94 2.06-2.06.94z\"/><path d=\"M17.41 7.96l-1.37-1.37c-.4-.4-.92-.59-1.43-.59-.52 0-1.04.2-1.43.59L10.3 9.45l-7.72 7.72c-.78.78-.78 2.05 0 2.83L4 21.41c.39.39.9.59 1.41.59.51 0 1.02-.2 1.41-.59l7.78-7.78 2.81-2.81c.8-.78.8-2.07 0-2.86zM5.41 20L4 18.59l7.72-7.72 1.47 1.35L5.41 20z\"/>\n",
              "  </svg>\n",
              "      </button>\n",
              "      \n",
              "  <style>\n",
              "    .colab-df-container {\n",
              "      display:flex;\n",
              "      flex-wrap:wrap;\n",
              "      gap: 12px;\n",
              "    }\n",
              "\n",
              "    .colab-df-convert {\n",
              "      background-color: #E8F0FE;\n",
              "      border: none;\n",
              "      border-radius: 50%;\n",
              "      cursor: pointer;\n",
              "      display: none;\n",
              "      fill: #1967D2;\n",
              "      height: 32px;\n",
              "      padding: 0 0 0 0;\n",
              "      width: 32px;\n",
              "    }\n",
              "\n",
              "    .colab-df-convert:hover {\n",
              "      background-color: #E2EBFA;\n",
              "      box-shadow: 0px 1px 2px rgba(60, 64, 67, 0.3), 0px 1px 3px 1px rgba(60, 64, 67, 0.15);\n",
              "      fill: #174EA6;\n",
              "    }\n",
              "\n",
              "    [theme=dark] .colab-df-convert {\n",
              "      background-color: #3B4455;\n",
              "      fill: #D2E3FC;\n",
              "    }\n",
              "\n",
              "    [theme=dark] .colab-df-convert:hover {\n",
              "      background-color: #434B5C;\n",
              "      box-shadow: 0px 1px 3px 1px rgba(0, 0, 0, 0.15);\n",
              "      filter: drop-shadow(0px 1px 2px rgba(0, 0, 0, 0.3));\n",
              "      fill: #FFFFFF;\n",
              "    }\n",
              "  </style>\n",
              "\n",
              "      <script>\n",
              "        const buttonEl =\n",
              "          document.querySelector('#df-b054a863-b63d-4d0d-a05c-7f7567631f59 button.colab-df-convert');\n",
              "        buttonEl.style.display =\n",
              "          google.colab.kernel.accessAllowed ? 'block' : 'none';\n",
              "\n",
              "        async function convertToInteractive(key) {\n",
              "          const element = document.querySelector('#df-b054a863-b63d-4d0d-a05c-7f7567631f59');\n",
              "          const dataTable =\n",
              "            await google.colab.kernel.invokeFunction('convertToInteractive',\n",
              "                                                     [key], {});\n",
              "          if (!dataTable) return;\n",
              "\n",
              "          const docLinkHtml = 'Like what you see? Visit the ' +\n",
              "            '<a target=\"_blank\" href=https://colab.research.google.com/notebooks/data_table.ipynb>data table notebook</a>'\n",
              "            + ' to learn more about interactive tables.';\n",
              "          element.innerHTML = '';\n",
              "          dataTable['output_type'] = 'display_data';\n",
              "          await google.colab.output.renderOutput(dataTable, element);\n",
              "          const docLink = document.createElement('div');\n",
              "          docLink.innerHTML = docLinkHtml;\n",
              "          element.appendChild(docLink);\n",
              "        }\n",
              "      </script>\n",
              "    </div>\n",
              "  </div>\n",
              "  "
            ]
          },
          "metadata": {},
          "execution_count": 30
        }
      ]
    },
    {
      "cell_type": "markdown",
      "source": [
        "#### Correlation between inflation rate and housing inventory"
      ],
      "metadata": {
        "id": "4UGoNXYKuPIo"
      }
    },
    {
      "cell_type": "code",
      "source": [
        "# We combine the two dataframes in a single one\n",
        "combo = pd.merge(df_inflation,df_inventory, left_on = 'City', right_on = 'RegionName', suffixes = ['_inflation', '_inventory']).set_index('City').drop('RegionName', axis = 1).reset_index()\n",
        "combo"
      ],
      "metadata": {
        "id": "pviF7YrzuaWP",
        "colab": {
          "base_uri": "https://localhost:8080/",
          "height": 363
        },
        "outputId": "024f1eb5-eef9-4259-b496-085a2006926e"
      },
      "execution_count": 33,
      "outputs": [
        {
          "output_type": "execute_result",
          "data": {
            "text/plain": [
              "                City  2019_inflation  2020_inflation  2021_inflation  \\\n",
              "0         Austin, TX             1.4             1.0             5.1   \n",
              "1         Boston, MA             1.9             1.1             3.3   \n",
              "2        Chicago, IL             1.8             1.5             1.1   \n",
              "3    Los Angeles, CA             7.6             1.6             3.8   \n",
              "4      Nashville, TN             3.5             1.0             3.7   \n",
              "5       New York, NY             1.7             1.7             3.3   \n",
              "6        Phoenix, AZ             2.9             2.0             5.0   \n",
              "7     Sacramento, CA             2.7             4.2             4.5   \n",
              "8  San Francisco, CA             3.3             1.7             3.2   \n",
              "9        Seattle, WA             2.5             1.7             4.6   \n",
              "\n",
              "   2019_inventory  2020_inventory  2021_inventory  \n",
              "0        106149.0         84909.0         96489.0  \n",
              "1        168782.0        134717.0        124184.0  \n",
              "2        555309.0        467283.0        432121.0  \n",
              "3        339261.0        272180.0        249626.0  \n",
              "4        112912.0         96715.0         68186.0  \n",
              "5       1044733.0        894191.0        790992.0  \n",
              "6        288366.0        233425.0        223355.0  \n",
              "7         92896.0         71413.0         65852.0  \n",
              "8         95712.0         90071.0         89644.0  \n",
              "9        129015.0        101765.0        100511.0  "
            ],
            "text/html": [
              "\n",
              "  <div id=\"df-a3d7108d-213c-4783-8325-5cd664f0b651\">\n",
              "    <div class=\"colab-df-container\">\n",
              "      <div>\n",
              "<style scoped>\n",
              "    .dataframe tbody tr th:only-of-type {\n",
              "        vertical-align: middle;\n",
              "    }\n",
              "\n",
              "    .dataframe tbody tr th {\n",
              "        vertical-align: top;\n",
              "    }\n",
              "\n",
              "    .dataframe thead th {\n",
              "        text-align: right;\n",
              "    }\n",
              "</style>\n",
              "<table border=\"1\" class=\"dataframe\">\n",
              "  <thead>\n",
              "    <tr style=\"text-align: right;\">\n",
              "      <th></th>\n",
              "      <th>City</th>\n",
              "      <th>2019_inflation</th>\n",
              "      <th>2020_inflation</th>\n",
              "      <th>2021_inflation</th>\n",
              "      <th>2019_inventory</th>\n",
              "      <th>2020_inventory</th>\n",
              "      <th>2021_inventory</th>\n",
              "    </tr>\n",
              "  </thead>\n",
              "  <tbody>\n",
              "    <tr>\n",
              "      <th>0</th>\n",
              "      <td>Austin, TX</td>\n",
              "      <td>1.4</td>\n",
              "      <td>1.0</td>\n",
              "      <td>5.1</td>\n",
              "      <td>106149.0</td>\n",
              "      <td>84909.0</td>\n",
              "      <td>96489.0</td>\n",
              "    </tr>\n",
              "    <tr>\n",
              "      <th>1</th>\n",
              "      <td>Boston, MA</td>\n",
              "      <td>1.9</td>\n",
              "      <td>1.1</td>\n",
              "      <td>3.3</td>\n",
              "      <td>168782.0</td>\n",
              "      <td>134717.0</td>\n",
              "      <td>124184.0</td>\n",
              "    </tr>\n",
              "    <tr>\n",
              "      <th>2</th>\n",
              "      <td>Chicago, IL</td>\n",
              "      <td>1.8</td>\n",
              "      <td>1.5</td>\n",
              "      <td>1.1</td>\n",
              "      <td>555309.0</td>\n",
              "      <td>467283.0</td>\n",
              "      <td>432121.0</td>\n",
              "    </tr>\n",
              "    <tr>\n",
              "      <th>3</th>\n",
              "      <td>Los Angeles, CA</td>\n",
              "      <td>7.6</td>\n",
              "      <td>1.6</td>\n",
              "      <td>3.8</td>\n",
              "      <td>339261.0</td>\n",
              "      <td>272180.0</td>\n",
              "      <td>249626.0</td>\n",
              "    </tr>\n",
              "    <tr>\n",
              "      <th>4</th>\n",
              "      <td>Nashville, TN</td>\n",
              "      <td>3.5</td>\n",
              "      <td>1.0</td>\n",
              "      <td>3.7</td>\n",
              "      <td>112912.0</td>\n",
              "      <td>96715.0</td>\n",
              "      <td>68186.0</td>\n",
              "    </tr>\n",
              "    <tr>\n",
              "      <th>5</th>\n",
              "      <td>New York, NY</td>\n",
              "      <td>1.7</td>\n",
              "      <td>1.7</td>\n",
              "      <td>3.3</td>\n",
              "      <td>1044733.0</td>\n",
              "      <td>894191.0</td>\n",
              "      <td>790992.0</td>\n",
              "    </tr>\n",
              "    <tr>\n",
              "      <th>6</th>\n",
              "      <td>Phoenix, AZ</td>\n",
              "      <td>2.9</td>\n",
              "      <td>2.0</td>\n",
              "      <td>5.0</td>\n",
              "      <td>288366.0</td>\n",
              "      <td>233425.0</td>\n",
              "      <td>223355.0</td>\n",
              "    </tr>\n",
              "    <tr>\n",
              "      <th>7</th>\n",
              "      <td>Sacramento, CA</td>\n",
              "      <td>2.7</td>\n",
              "      <td>4.2</td>\n",
              "      <td>4.5</td>\n",
              "      <td>92896.0</td>\n",
              "      <td>71413.0</td>\n",
              "      <td>65852.0</td>\n",
              "    </tr>\n",
              "    <tr>\n",
              "      <th>8</th>\n",
              "      <td>San Francisco, CA</td>\n",
              "      <td>3.3</td>\n",
              "      <td>1.7</td>\n",
              "      <td>3.2</td>\n",
              "      <td>95712.0</td>\n",
              "      <td>90071.0</td>\n",
              "      <td>89644.0</td>\n",
              "    </tr>\n",
              "    <tr>\n",
              "      <th>9</th>\n",
              "      <td>Seattle, WA</td>\n",
              "      <td>2.5</td>\n",
              "      <td>1.7</td>\n",
              "      <td>4.6</td>\n",
              "      <td>129015.0</td>\n",
              "      <td>101765.0</td>\n",
              "      <td>100511.0</td>\n",
              "    </tr>\n",
              "  </tbody>\n",
              "</table>\n",
              "</div>\n",
              "      <button class=\"colab-df-convert\" onclick=\"convertToInteractive('df-a3d7108d-213c-4783-8325-5cd664f0b651')\"\n",
              "              title=\"Convert this dataframe to an interactive table.\"\n",
              "              style=\"display:none;\">\n",
              "        \n",
              "  <svg xmlns=\"http://www.w3.org/2000/svg\" height=\"24px\"viewBox=\"0 0 24 24\"\n",
              "       width=\"24px\">\n",
              "    <path d=\"M0 0h24v24H0V0z\" fill=\"none\"/>\n",
              "    <path d=\"M18.56 5.44l.94 2.06.94-2.06 2.06-.94-2.06-.94-.94-2.06-.94 2.06-2.06.94zm-11 1L8.5 8.5l.94-2.06 2.06-.94-2.06-.94L8.5 2.5l-.94 2.06-2.06.94zm10 10l.94 2.06.94-2.06 2.06-.94-2.06-.94-.94-2.06-.94 2.06-2.06.94z\"/><path d=\"M17.41 7.96l-1.37-1.37c-.4-.4-.92-.59-1.43-.59-.52 0-1.04.2-1.43.59L10.3 9.45l-7.72 7.72c-.78.78-.78 2.05 0 2.83L4 21.41c.39.39.9.59 1.41.59.51 0 1.02-.2 1.41-.59l7.78-7.78 2.81-2.81c.8-.78.8-2.07 0-2.86zM5.41 20L4 18.59l7.72-7.72 1.47 1.35L5.41 20z\"/>\n",
              "  </svg>\n",
              "      </button>\n",
              "      \n",
              "  <style>\n",
              "    .colab-df-container {\n",
              "      display:flex;\n",
              "      flex-wrap:wrap;\n",
              "      gap: 12px;\n",
              "    }\n",
              "\n",
              "    .colab-df-convert {\n",
              "      background-color: #E8F0FE;\n",
              "      border: none;\n",
              "      border-radius: 50%;\n",
              "      cursor: pointer;\n",
              "      display: none;\n",
              "      fill: #1967D2;\n",
              "      height: 32px;\n",
              "      padding: 0 0 0 0;\n",
              "      width: 32px;\n",
              "    }\n",
              "\n",
              "    .colab-df-convert:hover {\n",
              "      background-color: #E2EBFA;\n",
              "      box-shadow: 0px 1px 2px rgba(60, 64, 67, 0.3), 0px 1px 3px 1px rgba(60, 64, 67, 0.15);\n",
              "      fill: #174EA6;\n",
              "    }\n",
              "\n",
              "    [theme=dark] .colab-df-convert {\n",
              "      background-color: #3B4455;\n",
              "      fill: #D2E3FC;\n",
              "    }\n",
              "\n",
              "    [theme=dark] .colab-df-convert:hover {\n",
              "      background-color: #434B5C;\n",
              "      box-shadow: 0px 1px 3px 1px rgba(0, 0, 0, 0.15);\n",
              "      filter: drop-shadow(0px 1px 2px rgba(0, 0, 0, 0.3));\n",
              "      fill: #FFFFFF;\n",
              "    }\n",
              "  </style>\n",
              "\n",
              "      <script>\n",
              "        const buttonEl =\n",
              "          document.querySelector('#df-a3d7108d-213c-4783-8325-5cd664f0b651 button.colab-df-convert');\n",
              "        buttonEl.style.display =\n",
              "          google.colab.kernel.accessAllowed ? 'block' : 'none';\n",
              "\n",
              "        async function convertToInteractive(key) {\n",
              "          const element = document.querySelector('#df-a3d7108d-213c-4783-8325-5cd664f0b651');\n",
              "          const dataTable =\n",
              "            await google.colab.kernel.invokeFunction('convertToInteractive',\n",
              "                                                     [key], {});\n",
              "          if (!dataTable) return;\n",
              "\n",
              "          const docLinkHtml = 'Like what you see? Visit the ' +\n",
              "            '<a target=\"_blank\" href=https://colab.research.google.com/notebooks/data_table.ipynb>data table notebook</a>'\n",
              "            + ' to learn more about interactive tables.';\n",
              "          element.innerHTML = '';\n",
              "          dataTable['output_type'] = 'display_data';\n",
              "          await google.colab.output.renderOutput(dataTable, element);\n",
              "          const docLink = document.createElement('div');\n",
              "          docLink.innerHTML = docLinkHtml;\n",
              "          element.appendChild(docLink);\n",
              "        }\n",
              "      </script>\n",
              "    </div>\n",
              "  </div>\n",
              "  "
            ]
          },
          "metadata": {},
          "execution_count": 33
        }
      ]
    },
    {
      "cell_type": "code",
      "source": [
        "# We plot both the inflation and inventory by city\n",
        "combo.plot(x='City', y = ['2019_inflation', '2020_inflation', '2021_inflation'], kind='bar', figsize=(8,5))\n",
        "combo.plot(x='City', y = ['2019_inventory', '2020_inventory', '2021_inventory'], kind='bar', figsize=(8,5))"
      ],
      "metadata": {
        "id": "xy1ZyvBluaHR",
        "colab": {
          "base_uri": "https://localhost:8080/",
          "height": 985
        },
        "outputId": "da6a3595-e43c-42a4-ac80-f87a893c52ea"
      },
      "execution_count": 34,
      "outputs": [
        {
          "output_type": "execute_result",
          "data": {
            "text/plain": [
              "<matplotlib.axes._subplots.AxesSubplot at 0x7f40929fa4f0>"
            ]
          },
          "metadata": {},
          "execution_count": 34
        },
        {
          "output_type": "display_data",
          "data": {
            "text/plain": [
              "<Figure size 576x360 with 1 Axes>"
            ],
            "image/png": "[encoded data removed]"
          },
          "metadata": {
            "needs_background": "light"
          }
        },
        {
          "output_type": "display_data",
          "data": {
            "text/plain": [
              "<Figure size 576x360 with 1 Axes>"
            ],
            "image/png": "[encoded data removed]"
          },
          "metadata": {
            "needs_background": "light"
          }
        }
      ]
    },
    {
      "cell_type": "markdown",
      "source": [
        "The single house inventory has been decreasing between 2019 and 2021 while the inflation rate has mostly been increasing over the timespan. We conclude there seems to be a limited negative corelation here between the inflation and the single house inventory."
      ],
      "metadata": {
        "id": "86AL8ZuaRNfF"
      }
    },
    {
      "cell_type": "code",
      "source": [],
      "metadata": {
        "id": "2TVR2kfyR8Z0"
      },
      "execution_count": null,
      "outputs": []
    }
  ]
}