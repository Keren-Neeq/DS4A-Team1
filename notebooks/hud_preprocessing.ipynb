{
 "cells": [
  {
   "cell_type": "markdown",
   "id": "5db1fb3d",
   "metadata": {},
   "source": [
    "### Preprocessing and Cleaning for hud.csv"
   ]
  },
  {
   "cell_type": "markdown",
   "id": "5eb08b6c",
   "metadata": {},
   "source": [
    "#### Import Libraries"
   ]
  },
  {
   "cell_type": "code",
   "execution_count": 2,
   "id": "128dc007",
   "metadata": {},
   "outputs": [],
   "source": [
    "import warnings\n",
    "import numpy as np\n",
    "import pandas as pd\n",
    "import plotly.express as px\n",
    "\n",
    "\n",
    "warnings.filterwarnings(\"ignore\")"
   ]
  },
  {
   "cell_type": "markdown",
   "id": "892c035c",
   "metadata": {},
   "source": [
    "#### Import Data"
   ]
  },
  {
   "cell_type": "code",
   "execution_count": null,
   "id": "5d4b3dcb",
   "metadata": {},
   "outputs": [],
   "source": [
    "us_cities = pd.read_csv(\"https://raw.githubusercontent.com/plotly/datasets/master/us-cities-top-1k.csv\")"
   ]
  },
  {
   "cell_type": "code",
   "execution_count": null,
   "id": "205e540f",
   "metadata": {},
   "outputs": [],
   "source": [
    "us_cities.head()"
   ]
  },
  {
   "cell_type": "code",
   "execution_count": null,
   "id": "5b8dc5c0",
   "metadata": {},
   "outputs": [],
   "source": [
    "hud_df = pd.read_csv('../data/hud/hud_yearly.csv')"
   ]
  },
  {
   "cell_type": "code",
   "execution_count": null,
   "id": "d132d625",
   "metadata": {},
   "outputs": [],
   "source": [
    "hud_df"
   ]
  },
  {
   "cell_type": "code",
   "execution_count": null,
   "id": "999583b8",
   "metadata": {},
   "outputs": [],
   "source": [
    "hud_df.sample(5, random_state=24)"
   ]
  },
  {
   "cell_type": "markdown",
   "id": "0ac79e1a",
   "metadata": {},
   "source": [
    "#### Clean \"us_cities\" data\n",
    "Replace states with abbreviations"
   ]
  },
  {
   "cell_type": "code",
   "execution_count": null,
   "id": "9eac9d63",
   "metadata": {},
   "outputs": [],
   "source": [
    "states = {\n",
    "    'Alaska': 'AK',\n",
    "    'Alabama': 'AL',\n",
    "    'Arkansas': 'AR',\n",
    "    'Arizona': 'AZ',\n",
    "    'California': 'CA',\n",
    "    'Colorado': 'CO',\n",
    "    'Connecticut': 'CT',\n",
    "    'District of Columbia': 'DC',\n",
    "    'Delaware': 'DE',\n",
    "    'Florida': 'FL',\n",
    "    'Georgia': 'GA',\n",
    "    'Hawaii': 'HI',\n",
    "    'Iowa': 'IA',\n",
    "    'Idaho': 'ID',\n",
    "    'Illinois': 'IL',\n",
    "    'Indiana': 'IN',\n",
    "    'Kansas': 'KS',\n",
    "    'Kentucky': 'KY',\n",
    "    'Louisiana': 'LA',\n",
    "    'Massachusetts': 'MA',\n",
    "    'Maryland':'MD',\n",
    "    'Maine': 'ME',\n",
    "    'Michigan': 'MI',\n",
    "    'Minnesota':'MN',\n",
    "    'Missouri': 'MO',\n",
    "    'Mississippi': 'MS',\n",
    "    'Montana': 'MT',\n",
    "    'North Carolina': 'NC',\n",
    "    'North Dakota': 'ND',\n",
    "    'Nebraska': 'NE',\n",
    "    'New Hampshire': 'NH',\n",
    "    'New Jersey': 'NJ',\n",
    "    'New Mexico': 'NM',\n",
    "    'Nevada': 'NV',\n",
    "    'New York': 'NY',\n",
    "    'Ohio': 'OH',\n",
    "    'Oklahoma': 'OK',\n",
    "    'Oregon':'OR',\n",
    "    'Pennsylvania': 'PA',\n",
    "    'Rhode Island': 'RI',\n",
    "    'South Carolina':'SC',\n",
    "    'South Dakota': 'SD',\n",
    "    'Tennessee': 'TN',\n",
    "    'Texas':'TX',\n",
    "    'Utah': 'UT',\n",
    "    'Virginia': 'VA',\n",
    "    'Vermont': 'VT',\n",
    "    'Washington': 'WA',\n",
    "    'Wisconsin': 'WI',\n",
    "    'West Virginia': 'WV',\n",
    "    'Wyoming': 'WY'\n",
    "}"
   ]
  },
  {
   "cell_type": "code",
   "execution_count": null,
   "id": "87d602e8",
   "metadata": {},
   "outputs": [],
   "source": [
    "us_cities[\"State\"] = us_cities[\"State\"].map(states)"
   ]
  },
  {
   "cell_type": "code",
   "execution_count": null,
   "id": "bdad29b9",
   "metadata": {},
   "outputs": [],
   "source": [
    "us_cities.sort_values(by=[\"State\", \"City\"], inplace=True)"
   ]
  },
  {
   "cell_type": "code",
   "execution_count": null,
   "id": "a8992605",
   "metadata": {},
   "outputs": [],
   "source": [
    "us_cities.reset_index(drop=True, inplace=True)"
   ]
  },
  {
   "cell_type": "code",
   "execution_count": null,
   "id": "fa653023",
   "metadata": {},
   "outputs": [],
   "source": [
    "us_cities = us_cities[[\"City\", \"State\", \"lat\", \"lon\"]]"
   ]
  },
  {
   "cell_type": "code",
   "execution_count": null,
   "id": "3f4e6648",
   "metadata": {},
   "outputs": [],
   "source": [
    "us_cities.head()"
   ]
  },
  {
   "cell_type": "code",
   "execution_count": null,
   "id": "a4df8e6b",
   "metadata": {},
   "outputs": [],
   "source": [
    "us_cities.sample(5, random_state=24)"
   ]
  },
  {
   "cell_type": "markdown",
   "id": "3cc95839",
   "metadata": {},
   "source": [
    "#### Clean \"hud_df\"\n",
    "Reshape data from wide to long format"
   ]
  },
  {
   "cell_type": "code",
   "execution_count": null,
   "id": "1e5190a0",
   "metadata": {},
   "outputs": [],
   "source": [
    "hud_df.rename(columns={'Change': '1Y', \n",
    "                       '2Y Change': '2Y', \n",
    "                       '3Y Change': '3Y', \n",
    "                       '4Y Change': '4Y'}, \n",
    "              inplace=True)"
   ]
  },
  {
   "cell_type": "code",
   "execution_count": null,
   "id": "c6a5b4a6",
   "metadata": {},
   "outputs": [],
   "source": [
    "# reshape data\n",
    "hud_df = pd.melt(hud_df,\n",
    "                 id_vars=['City', 'State', 'Bedrooms', 'Year', 'Avg Rent',\n",
    "                          'YoY', 'Yo2Y', 'Yo3Y', 'Yo4Y'],\n",
    "                 var_name='Yearly Difference', \n",
    "                 value_vars=['1Y', '2Y', '3Y', '4Y'],\n",
    "                 value_name='Price Change')\n",
    "\n",
    "hud_df = pd.melt(hud_df,\n",
    "                 id_vars=['City', 'State', 'Bedrooms', 'Year', 'Avg Rent',\n",
    "                          'Yearly Difference', 'Price Change'],\n",
    "                 var_name='Growth',\n",
    "                 value_vars=['YoY', 'Yo2Y', 'Yo3Y', 'Yo4Y'],\n",
    "                 value_name='Percent Change')"
   ]
  },
  {
   "cell_type": "code",
   "execution_count": null,
   "id": "492e7b91",
   "metadata": {},
   "outputs": [],
   "source": [
    "hud_df.sample(5, random_state=24)"
   ]
  },
  {
   "cell_type": "markdown",
   "id": "3c08e092",
   "metadata": {},
   "source": [
    "###### Drop missing and duplicate values\n",
    "1. Drop missing values\n",
    "2. Identify duplicate values and remove them from dataset"
   ]
  },
  {
   "cell_type": "code",
   "execution_count": null,
   "id": "5f88ebfb",
   "metadata": {},
   "outputs": [],
   "source": [
    "# Drop missing and duplicate values\n",
    "hud_df.dropna(inplace=True)\n",
    "hud_df.drop_duplicates(inplace=True)"
   ]
  },
  {
   "cell_type": "markdown",
   "id": "618ee299",
   "metadata": {},
   "source": [
    "Create new column **is_duplicate** to flag duplicate values in **Yearly Difference** and **Growth** columns. \n",
    "Duplicates values are those where values for **Yearly Difference** and **Growth** don't match, i.e. **4Y** and **Yo2Y**."
   ]
  },
  {
   "cell_type": "code",
   "execution_count": null,
   "id": "189cf3ee",
   "metadata": {},
   "outputs": [],
   "source": [
    "# Create \"is_duplicate\" column flagging duplicate values\n",
    "\n",
    "conditions = [\n",
    "    (hud_df['Yearly Difference'] == '1Y') & (hud_df['Growth'] != 'YoY'), \n",
    "    (hud_df['Yearly Difference'] == '2Y') & (hud_df['Growth'] != 'Yo2Y'),\n",
    "    (hud_df['Yearly Difference'] == '3Y') & (hud_df['Growth'] != 'Yo3Y'), \n",
    "    (hud_df['Yearly Difference'] == '4Y') & (hud_df['Growth'] != 'Yo4Y')\n",
    "    ]\n",
    "              \n",
    "values = ['Yes', \n",
    "          'Yes', \n",
    "          'Yes', \n",
    "          'Yes']\n",
    "\n",
    "hud_df['is_duplicate'] = np.select(conditions, values, default=\"No\")"
   ]
  },
  {
   "cell_type": "code",
   "execution_count": null,
   "id": "4aa461f4",
   "metadata": {},
   "outputs": [],
   "source": [
    "hud_df.sample(5, random_state=24)"
   ]
  },
  {
   "cell_type": "code",
   "execution_count": null,
   "id": "cd0862c9",
   "metadata": {},
   "outputs": [],
   "source": [
    "# Remove duplicate values from dataset\n",
    "hud_df = hud_df[hud_df['is_duplicate'] == 'No']"
   ]
  },
  {
   "cell_type": "code",
   "execution_count": null,
   "id": "65f0b9eb",
   "metadata": {},
   "outputs": [],
   "source": [
    "hud_df.reset_index(drop=True, inplace=True)"
   ]
  },
  {
   "cell_type": "code",
   "execution_count": null,
   "id": "7750952c",
   "metadata": {},
   "outputs": [],
   "source": [
    "hud_df.sample(5, random_state=24)"
   ]
  },
  {
   "cell_type": "markdown",
   "id": "313b54d1",
   "metadata": {},
   "source": [
    "###### Preprocess dataset by:\n",
    "1. Creating **Time Range** column\n",
    "2. Converting numbers in **Price Change** from float to int\n",
    "3. Removing columns that are unnecessary for analysis"
   ]
  },
  {
   "cell_type": "code",
   "execution_count": null,
   "id": "a2384594",
   "metadata": {},
   "outputs": [],
   "source": [
    "# Identify time ranges and create \"Time Range\" column\n",
    "\n",
    "conditions = [\n",
    "    (hud_df['Year'] == 2019) & (hud_df['Yearly Difference'] == '1Y') & (hud_df['Growth'] == 'YoY'), \n",
    "    (hud_df['Year'] == 2020) & (hud_df['Yearly Difference'] == '1Y') & (hud_df['Growth'] == 'YoY'),\n",
    "    (hud_df['Year'] == 2020) & (hud_df['Yearly Difference'] == '2Y') & (hud_df['Growth'] == 'Yo2Y'), \n",
    "    (hud_df['Year'] == 2021) & (hud_df['Yearly Difference'] == '1Y') & (hud_df['Growth'] == 'YoY'),\n",
    "    (hud_df['Year'] == 2021) & (hud_df['Yearly Difference'] == '2Y') & (hud_df['Growth'] == 'Yo2Y'),\n",
    "    (hud_df['Year'] == 2021) & (hud_df['Yearly Difference'] == '3Y') & (hud_df['Growth'] == 'Yo3Y'),\n",
    "    (hud_df['Year'] == 2022) & (hud_df['Yearly Difference'] == '1Y') & (hud_df['Growth'] == 'YoY'),\n",
    "    (hud_df['Year'] == 2022) & (hud_df['Yearly Difference'] == '2Y') & (hud_df['Growth'] == 'Yo2Y'),\n",
    "    (hud_df['Year'] == 2022) & (hud_df['Yearly Difference'] == '3Y') & (hud_df['Growth'] == 'Yo3Y'),\n",
    "    (hud_df['Year'] == 2022) & (hud_df['Yearly Difference'] == '4Y') & (hud_df['Growth'] == 'Yo4Y')\n",
    "    ]\n",
    "              \n",
    "values = ['2018 to 2019', \n",
    "          '2019 to 2020', \n",
    "          '2018 to 2020', \n",
    "          '2020 to 2021',\n",
    "          '2019 to 2021',\n",
    "          '2018 to 2021',\n",
    "          '2021 to 2022',\n",
    "          '2020 to 2022',\n",
    "          '2019 to 2022',\n",
    "          '2018 to 2022']\n",
    "\n",
    "hud_df['Time Range'] = np.select(conditions, values, default=\"Unknown\")"
   ]
  },
  {
   "cell_type": "code",
   "execution_count": null,
   "id": "3c86f4d7",
   "metadata": {},
   "outputs": [],
   "source": [
    "hud_df.sample(5, random_state=24)"
   ]
  },
  {
   "cell_type": "code",
   "execution_count": null,
   "id": "96ea5d3c",
   "metadata": {},
   "outputs": [],
   "source": [
    "# Convert numbers from float to int\n",
    "hud_df['Price Change'] = hud_df['Price Change'].astype('int')"
   ]
  },
  {
   "cell_type": "code",
   "execution_count": null,
   "id": "3ecc7b65",
   "metadata": {},
   "outputs": [],
   "source": [
    "# Remove unnecessary columns\n",
    "\n",
    "hud_df = hud_df[['City', 'State', 'Bedrooms', 'Year', 'Time Range', \n",
    "                 'Growth', 'Avg Rent', 'Price Change', 'Percent Change']]"
   ]
  },
  {
   "cell_type": "code",
   "execution_count": null,
   "id": "3e412c5b",
   "metadata": {},
   "outputs": [],
   "source": [
    "hud_df.head()"
   ]
  },
  {
   "cell_type": "markdown",
   "id": "ea23ddc3",
   "metadata": {},
   "source": [
    "#### Combine \"hud_df\" and \"us_cities\""
   ]
  },
  {
   "cell_type": "code",
   "execution_count": null,
   "id": "33674bc9",
   "metadata": {},
   "outputs": [],
   "source": [
    "hud_df = pd.merge(hud_df, us_cities, on=[\"City\", \"State\"], how=\"left\")"
   ]
  },
  {
   "cell_type": "code",
   "execution_count": null,
   "id": "e5ffd890",
   "metadata": {},
   "outputs": [],
   "source": [
    "hud_df = hud_df[[\"City\", \"State\", \"lat\", \"lon\",\n",
    "                 \"Bedrooms\", \"Year\", \"Time Range\", \"Growth\",\n",
    "                 \"Avg Rent\", \"Price Change\", \"Percent Change\"]]"
   ]
  },
  {
   "cell_type": "code",
   "execution_count": null,
   "id": "d921c185",
   "metadata": {},
   "outputs": [],
   "source": [
    "hud_df.head()"
   ]
  },
  {
   "cell_type": "code",
   "execution_count": null,
   "id": "6dcb5f5e",
   "metadata": {},
   "outputs": [],
   "source": [
    "hud_df.to_csv('../data/hud/hud_final.csv', index=False)"
   ]
  },
  {
   "cell_type": "markdown",
   "id": "46317723",
   "metadata": {},
   "source": [
    "### Hud_yearly Cleaning"
   ]
  },
  {
   "cell_type": "code",
   "execution_count": 13,
   "id": "88e6c3ba",
   "metadata": {},
   "outputs": [],
   "source": [
    "hud_df = pd.read_csv('../data/hud/hud_final.csv', parse_dates=[\"Year\"])"
   ]
  },
  {
   "cell_type": "code",
   "execution_count": 14,
   "id": "e9a452c6",
   "metadata": {},
   "outputs": [
    {
     "data": {
      "text/html": [
       "<div>\n",
       "<style scoped>\n",
       "    .dataframe tbody tr th:only-of-type {\n",
       "        vertical-align: middle;\n",
       "    }\n",
       "\n",
       "    .dataframe tbody tr th {\n",
       "        vertical-align: top;\n",
       "    }\n",
       "\n",
       "    .dataframe thead th {\n",
       "        text-align: right;\n",
       "    }\n",
       "</style>\n",
       "<table border=\"1\" class=\"dataframe\">\n",
       "  <thead>\n",
       "    <tr style=\"text-align: right;\">\n",
       "      <th></th>\n",
       "      <th>City</th>\n",
       "      <th>State</th>\n",
       "      <th>lat</th>\n",
       "      <th>lon</th>\n",
       "      <th>Bedrooms</th>\n",
       "      <th>Year</th>\n",
       "      <th>Time Range</th>\n",
       "      <th>Growth</th>\n",
       "      <th>Avg Rent</th>\n",
       "      <th>Price Change</th>\n",
       "      <th>Percent Change</th>\n",
       "    </tr>\n",
       "  </thead>\n",
       "  <tbody>\n",
       "    <tr>\n",
       "      <th>0</th>\n",
       "      <td>Phoenix</td>\n",
       "      <td>AZ</td>\n",
       "      <td>33.448377</td>\n",
       "      <td>-112.074037</td>\n",
       "      <td>studio</td>\n",
       "      <td>2019-01-01</td>\n",
       "      <td>2018 to 2019</td>\n",
       "      <td>YoY</td>\n",
       "      <td>847</td>\n",
       "      <td>103</td>\n",
       "      <td>13.84</td>\n",
       "    </tr>\n",
       "    <tr>\n",
       "      <th>1</th>\n",
       "      <td>Los Angeles</td>\n",
       "      <td>CA</td>\n",
       "      <td>34.052234</td>\n",
       "      <td>-118.243685</td>\n",
       "      <td>studio</td>\n",
       "      <td>2019-01-01</td>\n",
       "      <td>2018 to 2019</td>\n",
       "      <td>YoY</td>\n",
       "      <td>1279</td>\n",
       "      <td>121</td>\n",
       "      <td>10.45</td>\n",
       "    </tr>\n",
       "    <tr>\n",
       "      <th>2</th>\n",
       "      <td>Sacramento</td>\n",
       "      <td>CA</td>\n",
       "      <td>38.581572</td>\n",
       "      <td>-121.494400</td>\n",
       "      <td>studio</td>\n",
       "      <td>2019-01-01</td>\n",
       "      <td>2018 to 2019</td>\n",
       "      <td>YoY</td>\n",
       "      <td>952</td>\n",
       "      <td>99</td>\n",
       "      <td>11.61</td>\n",
       "    </tr>\n",
       "    <tr>\n",
       "      <th>3</th>\n",
       "      <td>San Francisco</td>\n",
       "      <td>CA</td>\n",
       "      <td>37.774929</td>\n",
       "      <td>-122.419415</td>\n",
       "      <td>studio</td>\n",
       "      <td>2019-01-01</td>\n",
       "      <td>2018 to 2019</td>\n",
       "      <td>YoY</td>\n",
       "      <td>2197</td>\n",
       "      <td>375</td>\n",
       "      <td>20.58</td>\n",
       "    </tr>\n",
       "    <tr>\n",
       "      <th>4</th>\n",
       "      <td>Chicago</td>\n",
       "      <td>IL</td>\n",
       "      <td>41.878114</td>\n",
       "      <td>-87.629798</td>\n",
       "      <td>studio</td>\n",
       "      <td>2019-01-01</td>\n",
       "      <td>2018 to 2019</td>\n",
       "      <td>YoY</td>\n",
       "      <td>956</td>\n",
       "      <td>41</td>\n",
       "      <td>4.48</td>\n",
       "    </tr>\n",
       "  </tbody>\n",
       "</table>\n",
       "</div>"
      ],
      "text/plain": [
       "            City State        lat         lon Bedrooms       Year  \\\n",
       "0        Phoenix    AZ  33.448377 -112.074037   studio 2019-01-01   \n",
       "1    Los Angeles    CA  34.052234 -118.243685   studio 2019-01-01   \n",
       "2     Sacramento    CA  38.581572 -121.494400   studio 2019-01-01   \n",
       "3  San Francisco    CA  37.774929 -122.419415   studio 2019-01-01   \n",
       "4        Chicago    IL  41.878114  -87.629798   studio 2019-01-01   \n",
       "\n",
       "     Time Range Growth  Avg Rent  Price Change  Percent Change  \n",
       "0  2018 to 2019    YoY       847           103           13.84  \n",
       "1  2018 to 2019    YoY      1279           121           10.45  \n",
       "2  2018 to 2019    YoY       952            99           11.61  \n",
       "3  2018 to 2019    YoY      2197           375           20.58  \n",
       "4  2018 to 2019    YoY       956            41            4.48  "
      ]
     },
     "execution_count": 14,
     "metadata": {},
     "output_type": "execute_result"
    }
   ],
   "source": [
    "hud_df.head()"
   ]
  },
  {
   "cell_type": "code",
   "execution_count": 15,
   "id": "8f6a7b6d",
   "metadata": {},
   "outputs": [
    {
     "data": {
      "text/html": [
       "<div>\n",
       "<style scoped>\n",
       "    .dataframe tbody tr th:only-of-type {\n",
       "        vertical-align: middle;\n",
       "    }\n",
       "\n",
       "    .dataframe tbody tr th {\n",
       "        vertical-align: top;\n",
       "    }\n",
       "\n",
       "    .dataframe thead th {\n",
       "        text-align: right;\n",
       "    }\n",
       "</style>\n",
       "<table border=\"1\" class=\"dataframe\">\n",
       "  <thead>\n",
       "    <tr style=\"text-align: right;\">\n",
       "      <th></th>\n",
       "      <th>City</th>\n",
       "      <th>State</th>\n",
       "      <th>lat</th>\n",
       "      <th>lon</th>\n",
       "      <th>Bedrooms</th>\n",
       "      <th>Year</th>\n",
       "      <th>Time Range</th>\n",
       "      <th>Growth</th>\n",
       "      <th>Avg Rent</th>\n",
       "      <th>Price Change</th>\n",
       "      <th>Percent Change</th>\n",
       "    </tr>\n",
       "  </thead>\n",
       "  <tbody>\n",
       "    <tr>\n",
       "      <th>71</th>\n",
       "      <td>Los Angeles</td>\n",
       "      <td>CA</td>\n",
       "      <td>34.052234</td>\n",
       "      <td>-118.243685</td>\n",
       "      <td>1</td>\n",
       "      <td>2022-01-01</td>\n",
       "      <td>2021 to 2022</td>\n",
       "      <td>YoY</td>\n",
       "      <td>1747</td>\n",
       "      <td>143</td>\n",
       "      <td>8.92</td>\n",
       "    </tr>\n",
       "    <tr>\n",
       "      <th>65</th>\n",
       "      <td>Boston</td>\n",
       "      <td>MA</td>\n",
       "      <td>42.360082</td>\n",
       "      <td>-71.058880</td>\n",
       "      <td>1</td>\n",
       "      <td>2021-01-01</td>\n",
       "      <td>2020 to 2021</td>\n",
       "      <td>YoY</td>\n",
       "      <td>1986</td>\n",
       "      <td>62</td>\n",
       "      <td>3.22</td>\n",
       "    </tr>\n",
       "    <tr>\n",
       "      <th>79</th>\n",
       "      <td>Seattle</td>\n",
       "      <td>WA</td>\n",
       "      <td>47.606209</td>\n",
       "      <td>-122.332071</td>\n",
       "      <td>1</td>\n",
       "      <td>2022-01-01</td>\n",
       "      <td>2021 to 2022</td>\n",
       "      <td>YoY</td>\n",
       "      <td>1881</td>\n",
       "      <td>142</td>\n",
       "      <td>8.17</td>\n",
       "    </tr>\n",
       "    <tr>\n",
       "      <th>42</th>\n",
       "      <td>Sacramento</td>\n",
       "      <td>CA</td>\n",
       "      <td>38.581572</td>\n",
       "      <td>-121.494400</td>\n",
       "      <td>1</td>\n",
       "      <td>2019-01-01</td>\n",
       "      <td>2018 to 2019</td>\n",
       "      <td>YoY</td>\n",
       "      <td>1072</td>\n",
       "      <td>104</td>\n",
       "      <td>10.74</td>\n",
       "    </tr>\n",
       "    <tr>\n",
       "      <th>45</th>\n",
       "      <td>Boston</td>\n",
       "      <td>MA</td>\n",
       "      <td>42.360082</td>\n",
       "      <td>-71.058880</td>\n",
       "      <td>1</td>\n",
       "      <td>2019-01-01</td>\n",
       "      <td>2018 to 2019</td>\n",
       "      <td>YoY</td>\n",
       "      <td>1900</td>\n",
       "      <td>339</td>\n",
       "      <td>21.72</td>\n",
       "    </tr>\n",
       "  </tbody>\n",
       "</table>\n",
       "</div>"
      ],
      "text/plain": [
       "           City State        lat         lon Bedrooms       Year  \\\n",
       "71  Los Angeles    CA  34.052234 -118.243685        1 2022-01-01   \n",
       "65       Boston    MA  42.360082  -71.058880        1 2021-01-01   \n",
       "79      Seattle    WA  47.606209 -122.332071        1 2022-01-01   \n",
       "42   Sacramento    CA  38.581572 -121.494400        1 2019-01-01   \n",
       "45       Boston    MA  42.360082  -71.058880        1 2019-01-01   \n",
       "\n",
       "      Time Range Growth  Avg Rent  Price Change  Percent Change  \n",
       "71  2021 to 2022    YoY      1747           143            8.92  \n",
       "65  2020 to 2021    YoY      1986            62            3.22  \n",
       "79  2021 to 2022    YoY      1881           142            8.17  \n",
       "42  2018 to 2019    YoY      1072           104           10.74  \n",
       "45  2018 to 2019    YoY      1900           339           21.72  "
      ]
     },
     "execution_count": 15,
     "metadata": {},
     "output_type": "execute_result"
    }
   ],
   "source": [
    "onebd = hud_df.query(\"Bedrooms=='1' and Growth=='YoY'\" )\n",
    "onebd.sample(5, random_state=24)"
   ]
  },
  {
   "cell_type": "code",
   "execution_count": 16,
   "id": "54f30f71",
   "metadata": {},
   "outputs": [],
   "source": [
    "onebd = hud_df.query(\"Bedrooms=='1' and Growth=='YoY'\" )\n",
    "onebd[\"Year\"] = onebd[\"Year\"].dt.strftime(\"%Y\")"
   ]
  },
  {
   "cell_type": "code",
   "execution_count": 17,
   "id": "5cda3010",
   "metadata": {},
   "outputs": [
    {
     "data": {
      "text/html": [
       "<div>\n",
       "<style scoped>\n",
       "    .dataframe tbody tr th:only-of-type {\n",
       "        vertical-align: middle;\n",
       "    }\n",
       "\n",
       "    .dataframe tbody tr th {\n",
       "        vertical-align: top;\n",
       "    }\n",
       "\n",
       "    .dataframe thead th {\n",
       "        text-align: right;\n",
       "    }\n",
       "</style>\n",
       "<table border=\"1\" class=\"dataframe\">\n",
       "  <thead>\n",
       "    <tr style=\"text-align: right;\">\n",
       "      <th></th>\n",
       "      <th>City</th>\n",
       "      <th>State</th>\n",
       "      <th>lat</th>\n",
       "      <th>lon</th>\n",
       "      <th>Bedrooms</th>\n",
       "      <th>Year</th>\n",
       "      <th>Time Range</th>\n",
       "      <th>Growth</th>\n",
       "      <th>Avg Rent</th>\n",
       "      <th>Price Change</th>\n",
       "      <th>Percent Change</th>\n",
       "    </tr>\n",
       "  </thead>\n",
       "  <tbody>\n",
       "    <tr>\n",
       "      <th>71</th>\n",
       "      <td>Los Angeles</td>\n",
       "      <td>CA</td>\n",
       "      <td>34.052234</td>\n",
       "      <td>-118.243685</td>\n",
       "      <td>1</td>\n",
       "      <td>2022</td>\n",
       "      <td>2021 to 2022</td>\n",
       "      <td>YoY</td>\n",
       "      <td>1747</td>\n",
       "      <td>143</td>\n",
       "      <td>8.92</td>\n",
       "    </tr>\n",
       "    <tr>\n",
       "      <th>65</th>\n",
       "      <td>Boston</td>\n",
       "      <td>MA</td>\n",
       "      <td>42.360082</td>\n",
       "      <td>-71.058880</td>\n",
       "      <td>1</td>\n",
       "      <td>2021</td>\n",
       "      <td>2020 to 2021</td>\n",
       "      <td>YoY</td>\n",
       "      <td>1986</td>\n",
       "      <td>62</td>\n",
       "      <td>3.22</td>\n",
       "    </tr>\n",
       "    <tr>\n",
       "      <th>79</th>\n",
       "      <td>Seattle</td>\n",
       "      <td>WA</td>\n",
       "      <td>47.606209</td>\n",
       "      <td>-122.332071</td>\n",
       "      <td>1</td>\n",
       "      <td>2022</td>\n",
       "      <td>2021 to 2022</td>\n",
       "      <td>YoY</td>\n",
       "      <td>1881</td>\n",
       "      <td>142</td>\n",
       "      <td>8.17</td>\n",
       "    </tr>\n",
       "    <tr>\n",
       "      <th>42</th>\n",
       "      <td>Sacramento</td>\n",
       "      <td>CA</td>\n",
       "      <td>38.581572</td>\n",
       "      <td>-121.494400</td>\n",
       "      <td>1</td>\n",
       "      <td>2019</td>\n",
       "      <td>2018 to 2019</td>\n",
       "      <td>YoY</td>\n",
       "      <td>1072</td>\n",
       "      <td>104</td>\n",
       "      <td>10.74</td>\n",
       "    </tr>\n",
       "    <tr>\n",
       "      <th>45</th>\n",
       "      <td>Boston</td>\n",
       "      <td>MA</td>\n",
       "      <td>42.360082</td>\n",
       "      <td>-71.058880</td>\n",
       "      <td>1</td>\n",
       "      <td>2019</td>\n",
       "      <td>2018 to 2019</td>\n",
       "      <td>YoY</td>\n",
       "      <td>1900</td>\n",
       "      <td>339</td>\n",
       "      <td>21.72</td>\n",
       "    </tr>\n",
       "  </tbody>\n",
       "</table>\n",
       "</div>"
      ],
      "text/plain": [
       "           City State        lat         lon Bedrooms  Year    Time Range  \\\n",
       "71  Los Angeles    CA  34.052234 -118.243685        1  2022  2021 to 2022   \n",
       "65       Boston    MA  42.360082  -71.058880        1  2021  2020 to 2021   \n",
       "79      Seattle    WA  47.606209 -122.332071        1  2022  2021 to 2022   \n",
       "42   Sacramento    CA  38.581572 -121.494400        1  2019  2018 to 2019   \n",
       "45       Boston    MA  42.360082  -71.058880        1  2019  2018 to 2019   \n",
       "\n",
       "   Growth  Avg Rent  Price Change  Percent Change  \n",
       "71    YoY      1747           143            8.92  \n",
       "65    YoY      1986            62            3.22  \n",
       "79    YoY      1881           142            8.17  \n",
       "42    YoY      1072           104           10.74  \n",
       "45    YoY      1900           339           21.72  "
      ]
     },
     "execution_count": 17,
     "metadata": {},
     "output_type": "execute_result"
    }
   ],
   "source": [
    "onebd.sample(5, random_state=24)"
   ]
  },
  {
   "cell_type": "code",
   "execution_count": 39,
   "id": "247db908",
   "metadata": {},
   "outputs": [
    {
     "data": {
      "application/vnd.plotly.v1+json": {
       "config": {
        "plotlyServerURL": "https://plot.ly"
       },
       "data": [
        {
         "customdata": [
          [
           48
          ],
          [
           78
          ],
          [
           24
          ],
          [
           150
          ]
         ],
         "legendgroup": "Austin",
         "line": {
          "color": "#1F77B4",
          "dash": "solid"
         },
         "marker": {
          "symbol": "circle"
         },
         "mode": "markers+lines",
         "name": "Austin",
         "orientation": "v",
         "showlegend": true,
         "type": "scatter",
         "x": [
          "2019",
          "2020",
          "2021",
          "2022"
         ],
         "xaxis": "x",
         "y": [
          4.42,
          6.88,
          1.98,
          12.14
         ],
         "yaxis": "y"
        },
        {
         "customdata": [
          [
           339
          ],
          [
           24
          ],
          [
           62
          ],
          [
           212
          ]
         ],
         "legendgroup": "Boston",
         "line": {
          "color": "#FF7F0E",
          "dash": "solid"
         },
         "marker": {
          "symbol": "circle"
         },
         "mode": "markers+lines",
         "name": "Boston",
         "orientation": "v",
         "showlegend": true,
         "type": "scatter",
         "x": [
          "2019",
          "2020",
          "2021",
          "2022"
         ],
         "xaxis": "x",
         "y": [
          21.72,
          1.26,
          3.22,
          10.67
         ],
         "yaxis": "y"
        },
        {
         "customdata": [
          [
           32
          ],
          [
           46
          ],
          [
           39
          ],
          [
           94
          ]
         ],
         "legendgroup": "Chicago",
         "line": {
          "color": "#2CA02C",
          "dash": "solid"
         },
         "marker": {
          "symbol": "circle"
         },
         "mode": "markers+lines",
         "name": "Chicago",
         "orientation": "v",
         "showlegend": true,
         "type": "scatter",
         "x": [
          "2019",
          "2020",
          "2021",
          "2022"
         ],
         "xaxis": "x",
         "y": [
          3.07,
          4.28,
          3.48,
          8.1
         ],
         "yaxis": "y"
        },
        {
         "customdata": [
          [
           133
          ],
          [
           88
          ],
          [
           -1
          ],
          [
           143
          ]
         ],
         "legendgroup": "Los Angeles",
         "line": {
          "color": "#D62728",
          "dash": "solid"
         },
         "marker": {
          "symbol": "circle"
         },
         "mode": "markers+lines",
         "name": "Los Angeles",
         "orientation": "v",
         "showlegend": true,
         "type": "scatter",
         "x": [
          "2019",
          "2020",
          "2021",
          "2022"
         ],
         "xaxis": "x",
         "y": [
          9.61,
          5.8,
          -0.06,
          8.92
         ],
         "yaxis": "y"
        },
        {
         "customdata": [
          [
           46
          ],
          [
           74
          ],
          [
           69
          ],
          [
           145
          ]
         ],
         "legendgroup": "Nashville",
         "line": {
          "color": "#9467BD",
          "dash": "solid"
         },
         "marker": {
          "symbol": "circle"
         },
         "mode": "markers+lines",
         "name": "Nashville",
         "orientation": "v",
         "showlegend": true,
         "type": "scatter",
         "x": [
          "2019",
          "2020",
          "2021",
          "2022"
         ],
         "xaxis": "x",
         "y": [
          5.05,
          7.73,
          6.69,
          13.18
         ],
         "yaxis": "y"
        },
        {
         "customdata": [
          [
           115
          ],
          [
           87
          ],
          [
           253
          ],
          [
           116
          ]
         ],
         "legendgroup": "New York",
         "line": {
          "color": "#8C564B",
          "dash": "solid"
         },
         "marker": {
          "symbol": "circle"
         },
         "mode": "markers+lines",
         "name": "New York",
         "orientation": "v",
         "showlegend": true,
         "type": "scatter",
         "x": [
          "2019",
          "2020",
          "2021",
          "2022"
         ],
         "xaxis": "x",
         "y": [
          7.19,
          5.08,
          14.05,
          5.65
         ],
         "yaxis": "y"
        },
        {
         "customdata": [
          [
           90
          ],
          [
           74
          ],
          [
           59
          ],
          [
           376
          ]
         ],
         "legendgroup": "Phoenix",
         "line": {
          "color": "#E377C2",
          "dash": "solid"
         },
         "marker": {
          "symbol": "circle"
         },
         "mode": "markers+lines",
         "name": "Phoenix",
         "orientation": "v",
         "showlegend": true,
         "type": "scatter",
         "x": [
          "2019",
          "2020",
          "2021",
          "2022"
         ],
         "xaxis": "x",
         "y": [
          10.37,
          7.72,
          5.72,
          34.46
         ],
         "yaxis": "y"
        },
        {
         "customdata": [
          [
           104
          ],
          [
           116
          ],
          [
           40
          ],
          [
           172
          ]
         ],
         "legendgroup": "Sacramento",
         "line": {
          "color": "#7F7F7F",
          "dash": "solid"
         },
         "marker": {
          "symbol": "circle"
         },
         "mode": "markers+lines",
         "name": "Sacramento",
         "orientation": "v",
         "showlegend": true,
         "type": "scatter",
         "x": [
          "2019",
          "2020",
          "2021",
          "2022"
         ],
         "xaxis": "x",
         "y": [
          10.74,
          10.82,
          3.37,
          14.01
         ],
         "yaxis": "y"
        },
        {
         "customdata": [
          [
           465
          ],
          [
           203
          ],
          [
           -292
          ],
          [
           34
          ]
         ],
         "legendgroup": "San Francisco",
         "line": {
          "color": "#BCBD22",
          "dash": "solid"
         },
         "marker": {
          "symbol": "circle"
         },
         "mode": "markers+lines",
         "name": "San Francisco",
         "orientation": "v",
         "showlegend": true,
         "type": "scatter",
         "x": [
          "2019",
          "2020",
          "2021",
          "2022"
         ],
         "xaxis": "x",
         "y": [
          20.62,
          7.46,
          -9.99,
          1.29
         ],
         "yaxis": "y"
        },
        {
         "customdata": [
          [
           184
          ],
          [
           -142
          ],
          [
           140
          ],
          [
           142
          ]
         ],
         "legendgroup": "Seattle",
         "line": {
          "color": "#17BECF",
          "dash": "solid"
         },
         "marker": {
          "symbol": "circle"
         },
         "mode": "markers+lines",
         "name": "Seattle",
         "orientation": "v",
         "showlegend": true,
         "type": "scatter",
         "x": [
          "2019",
          "2020",
          "2021",
          "2022"
         ],
         "xaxis": "x",
         "y": [
          11.82,
          -8.16,
          8.76,
          8.17
         ],
         "yaxis": "y"
        }
       ],
       "layout": {
        "hovermode": "x unified",
        "legend": {
         "title": {
          "text": "City"
         },
         "tracegroupgap": 0
        },
        "margin": {
         "t": 60
        },
        "template": {
         "data": {
          "pie": [
           {
            "automargin": true,
            "type": "pie"
           }
          ]
         },
         "layout": {
          "yaxis": {
           "showgrid": false
          }
         }
        },
        "title": {
         "text": "Year-over-year change in median monthly one bedroom apartment rent",
         "x": 0.5,
         "xanchor": "center",
         "y": 0.95,
         "yanchor": "top"
        },
        "xaxis": {
         "anchor": "y",
         "domain": [
          0,
          1
         ],
         "dtick": 1,
         "title": {
          "text": "Year"
         }
        },
        "yaxis": {
         "anchor": "x",
         "domain": [
          0,
          1
         ],
         "ticksuffix": "%",
         "title": {
          "text": "YoY"
         }
        }
       }
      },
      "text/html": [
       "<div>                            <div id=\"78671fab-5105-4d5e-b844-3c6220485c9b\" class=\"plotly-graph-div\" style=\"height:525px; width:100%;\"></div>            <script type=\"text/javascript\">                require([\"plotly\"], function(Plotly) {                    window.PLOTLYENV=window.PLOTLYENV || {};                                    if (document.getElementById(\"78671fab-5105-4d5e-b844-3c6220485c9b\")) {                    Plotly.newPlot(                        \"78671fab-5105-4d5e-b844-3c6220485c9b\",                        [{\"customdata\":[[48],[78],[24],[150]],\"legendgroup\":\"Austin\",\"line\":{\"color\":\"#1F77B4\",\"dash\":\"solid\"},\"marker\":{\"symbol\":\"circle\"},\"mode\":\"markers+lines\",\"name\":\"Austin\",\"orientation\":\"v\",\"showlegend\":true,\"x\":[\"2019\",\"2020\",\"2021\",\"2022\"],\"xaxis\":\"x\",\"y\":[4.42,6.88,1.98,12.14],\"yaxis\":\"y\",\"type\":\"scatter\"},{\"customdata\":[[339],[24],[62],[212]],\"legendgroup\":\"Boston\",\"line\":{\"color\":\"#FF7F0E\",\"dash\":\"solid\"},\"marker\":{\"symbol\":\"circle\"},\"mode\":\"markers+lines\",\"name\":\"Boston\",\"orientation\":\"v\",\"showlegend\":true,\"x\":[\"2019\",\"2020\",\"2021\",\"2022\"],\"xaxis\":\"x\",\"y\":[21.72,1.26,3.22,10.67],\"yaxis\":\"y\",\"type\":\"scatter\"},{\"customdata\":[[32],[46],[39],[94]],\"legendgroup\":\"Chicago\",\"line\":{\"color\":\"#2CA02C\",\"dash\":\"solid\"},\"marker\":{\"symbol\":\"circle\"},\"mode\":\"markers+lines\",\"name\":\"Chicago\",\"orientation\":\"v\",\"showlegend\":true,\"x\":[\"2019\",\"2020\",\"2021\",\"2022\"],\"xaxis\":\"x\",\"y\":[3.07,4.28,3.48,8.1],\"yaxis\":\"y\",\"type\":\"scatter\"},{\"customdata\":[[133],[88],[-1],[143]],\"legendgroup\":\"Los Angeles\",\"line\":{\"color\":\"#D62728\",\"dash\":\"solid\"},\"marker\":{\"symbol\":\"circle\"},\"mode\":\"markers+lines\",\"name\":\"Los Angeles\",\"orientation\":\"v\",\"showlegend\":true,\"x\":[\"2019\",\"2020\",\"2021\",\"2022\"],\"xaxis\":\"x\",\"y\":[9.61,5.8,-0.06,8.92],\"yaxis\":\"y\",\"type\":\"scatter\"},{\"customdata\":[[46],[74],[69],[145]],\"legendgroup\":\"Nashville\",\"line\":{\"color\":\"#9467BD\",\"dash\":\"solid\"},\"marker\":{\"symbol\":\"circle\"},\"mode\":\"markers+lines\",\"name\":\"Nashville\",\"orientation\":\"v\",\"showlegend\":true,\"x\":[\"2019\",\"2020\",\"2021\",\"2022\"],\"xaxis\":\"x\",\"y\":[5.05,7.73,6.69,13.18],\"yaxis\":\"y\",\"type\":\"scatter\"},{\"customdata\":[[115],[87],[253],[116]],\"legendgroup\":\"New York\",\"line\":{\"color\":\"#8C564B\",\"dash\":\"solid\"},\"marker\":{\"symbol\":\"circle\"},\"mode\":\"markers+lines\",\"name\":\"New York\",\"orientation\":\"v\",\"showlegend\":true,\"x\":[\"2019\",\"2020\",\"2021\",\"2022\"],\"xaxis\":\"x\",\"y\":[7.19,5.08,14.05,5.65],\"yaxis\":\"y\",\"type\":\"scatter\"},{\"customdata\":[[90],[74],[59],[376]],\"legendgroup\":\"Phoenix\",\"line\":{\"color\":\"#E377C2\",\"dash\":\"solid\"},\"marker\":{\"symbol\":\"circle\"},\"mode\":\"markers+lines\",\"name\":\"Phoenix\",\"orientation\":\"v\",\"showlegend\":true,\"x\":[\"2019\",\"2020\",\"2021\",\"2022\"],\"xaxis\":\"x\",\"y\":[10.37,7.72,5.72,34.46],\"yaxis\":\"y\",\"type\":\"scatter\"},{\"customdata\":[[104],[116],[40],[172]],\"legendgroup\":\"Sacramento\",\"line\":{\"color\":\"#7F7F7F\",\"dash\":\"solid\"},\"marker\":{\"symbol\":\"circle\"},\"mode\":\"markers+lines\",\"name\":\"Sacramento\",\"orientation\":\"v\",\"showlegend\":true,\"x\":[\"2019\",\"2020\",\"2021\",\"2022\"],\"xaxis\":\"x\",\"y\":[10.74,10.82,3.37,14.01],\"yaxis\":\"y\",\"type\":\"scatter\"},{\"customdata\":[[465],[203],[-292],[34]],\"legendgroup\":\"San Francisco\",\"line\":{\"color\":\"#BCBD22\",\"dash\":\"solid\"},\"marker\":{\"symbol\":\"circle\"},\"mode\":\"markers+lines\",\"name\":\"San Francisco\",\"orientation\":\"v\",\"showlegend\":true,\"x\":[\"2019\",\"2020\",\"2021\",\"2022\"],\"xaxis\":\"x\",\"y\":[20.62,7.46,-9.99,1.29],\"yaxis\":\"y\",\"type\":\"scatter\"},{\"customdata\":[[184],[-142],[140],[142]],\"legendgroup\":\"Seattle\",\"line\":{\"color\":\"#17BECF\",\"dash\":\"solid\"},\"marker\":{\"symbol\":\"circle\"},\"mode\":\"markers+lines\",\"name\":\"Seattle\",\"orientation\":\"v\",\"showlegend\":true,\"x\":[\"2019\",\"2020\",\"2021\",\"2022\"],\"xaxis\":\"x\",\"y\":[11.82,-8.16,8.76,8.17],\"yaxis\":\"y\",\"type\":\"scatter\"}],                        {\"template\":{\"data\":{\"pie\":[{\"automargin\":true,\"type\":\"pie\"}]},\"layout\":{\"yaxis\":{\"showgrid\":false}}},\"xaxis\":{\"anchor\":\"y\",\"domain\":[0.0,1.0],\"title\":{\"text\":\"Year\"},\"dtick\":1},\"yaxis\":{\"anchor\":\"x\",\"domain\":[0.0,1.0],\"title\":{\"text\":\"YoY\"},\"ticksuffix\":\"%\"},\"legend\":{\"title\":{\"text\":\"City\"},\"tracegroupgap\":0},\"margin\":{\"t\":60},\"title\":{\"text\":\"Year-over-year change in median monthly one bedroom apartment rent\",\"x\":0.5,\"y\":0.95,\"xanchor\":\"center\",\"yanchor\":\"top\"},\"hovermode\":\"x unified\"},                        {\"responsive\": true}                    ).then(function(){\n",
       "                            \n",
       "var gd = document.getElementById('78671fab-5105-4d5e-b844-3c6220485c9b');\n",
       "var x = new MutationObserver(function (mutations, observer) {{\n",
       "        var display = window.getComputedStyle(gd).display;\n",
       "        if (!display || display === 'none') {{\n",
       "            console.log([gd, 'removed!']);\n",
       "            Plotly.purge(gd);\n",
       "            observer.disconnect();\n",
       "        }}\n",
       "}});\n",
       "\n",
       "// Listen for the removal of the full notebook cells\n",
       "var notebookContainer = gd.closest('#notebook-container');\n",
       "if (notebookContainer) {{\n",
       "    x.observe(notebookContainer, {childList: true});\n",
       "}}\n",
       "\n",
       "// Listen for the clearing of the current output cell\n",
       "var outputEl = gd.closest('.output');\n",
       "if (outputEl) {{\n",
       "    x.observe(outputEl, {childList: true});\n",
       "}}\n",
       "\n",
       "                        })                };                });            </script>        </div>"
      ]
     },
     "metadata": {},
     "output_type": "display_data"
    }
   ],
   "source": [
    "cities = sorted(onebd['City'].unique().tolist()) \n",
    "\n",
    "fig = px.line(onebd, \n",
    "              x=\"Year\",\n",
    "              y=\"Percent Change\", \n",
    "              color=\"City\", \n",
    "              custom_data=[\"Price Change\"], \n",
    "              category_orders={\"City\":cities},\n",
    "              labels={\"Percent Change\":\"YoY\"},\n",
    "              template= 'ygridoff'\n",
    "              )\n",
    "\n",
    "fig.update_traces(\n",
    "    mode=\"markers+lines\", \n",
    "    hovertemplate=None\n",
    ")\n",
    "\n",
    "fig.update_xaxes(dtick=1)\n",
    "\n",
    "fig.update_layout(\n",
    "    title=dict(\n",
    "        text=\"Year-over-year change in median monthly one bedroom apartment rent\",\n",
    "        x=0.5,\n",
    "        y=0.95,\n",
    "        xanchor=\"center\",\n",
    "        yanchor=\"top\"\n",
    "    ),\n",
    "    yaxis_ticksuffix=\"%\",\n",
    "    hovermode='x unified')\n",
    "\n",
    "fig.show()"
   ]
  },
  {
   "cell_type": "code",
   "execution_count": 55,
   "id": "3ce31207",
   "metadata": {},
   "outputs": [
    {
     "data": {
      "application/vnd.plotly.v1+json": {
       "config": {
        "plotlyServerURL": "https://plot.ly"
       },
       "data": [
        {
         "customdata": [
          [
           48
          ],
          [
           78
          ],
          [
           24
          ],
          [
           150
          ]
         ],
         "legendgroup": "Austin",
         "line": {
          "color": "#1F77B4",
          "dash": "solid"
         },
         "marker": {
          "symbol": "circle"
         },
         "mode": "markers+lines",
         "name": "Austin",
         "orientation": "v",
         "showlegend": true,
         "type": "scatter",
         "x": [
          "2019",
          "2020",
          "2021",
          "2022"
         ],
         "xaxis": "x",
         "y": [
          1134,
          1212,
          1236,
          1386
         ],
         "yaxis": "y"
        },
        {
         "customdata": [
          [
           339
          ],
          [
           24
          ],
          [
           62
          ],
          [
           212
          ]
         ],
         "legendgroup": "Boston",
         "line": {
          "color": "#FF7F0E",
          "dash": "solid"
         },
         "marker": {
          "symbol": "circle"
         },
         "mode": "markers+lines",
         "name": "Boston",
         "orientation": "v",
         "showlegend": true,
         "type": "scatter",
         "x": [
          "2019",
          "2020",
          "2021",
          "2022"
         ],
         "xaxis": "x",
         "y": [
          1900,
          1924,
          1986,
          2198
         ],
         "yaxis": "y"
        },
        {
         "customdata": [
          [
           32
          ],
          [
           46
          ],
          [
           39
          ],
          [
           94
          ]
         ],
         "legendgroup": "Chicago",
         "line": {
          "color": "#2CA02C",
          "dash": "solid"
         },
         "marker": {
          "symbol": "circle"
         },
         "mode": "markers+lines",
         "name": "Chicago",
         "orientation": "v",
         "showlegend": true,
         "type": "scatter",
         "x": [
          "2019",
          "2020",
          "2021",
          "2022"
         ],
         "xaxis": "x",
         "y": [
          1076,
          1122,
          1161,
          1255
         ],
         "yaxis": "y"
        },
        {
         "customdata": [
          [
           133
          ],
          [
           88
          ],
          [
           -1
          ],
          [
           143
          ]
         ],
         "legendgroup": "Los Angeles",
         "line": {
          "color": "#D62728",
          "dash": "solid"
         },
         "marker": {
          "symbol": "circle"
         },
         "mode": "markers+lines",
         "name": "Los Angeles",
         "orientation": "v",
         "showlegend": true,
         "type": "scatter",
         "x": [
          "2019",
          "2020",
          "2021",
          "2022"
         ],
         "xaxis": "x",
         "y": [
          1517,
          1605,
          1604,
          1747
         ],
         "yaxis": "y"
        },
        {
         "customdata": [
          [
           46
          ],
          [
           74
          ],
          [
           69
          ],
          [
           145
          ]
         ],
         "legendgroup": "Nashville",
         "line": {
          "color": "#9467BD",
          "dash": "solid"
         },
         "marker": {
          "symbol": "circle"
         },
         "mode": "markers+lines",
         "name": "Nashville",
         "orientation": "v",
         "showlegend": true,
         "type": "scatter",
         "x": [
          "2019",
          "2020",
          "2021",
          "2022"
         ],
         "xaxis": "x",
         "y": [
          957,
          1031,
          1100,
          1245
         ],
         "yaxis": "y"
        },
        {
         "customdata": [
          [
           115
          ],
          [
           87
          ],
          [
           253
          ],
          [
           116
          ]
         ],
         "legendgroup": "New York",
         "line": {
          "color": "#8C564B",
          "dash": "solid"
         },
         "marker": {
          "symbol": "circle"
         },
         "mode": "markers+lines",
         "name": "New York",
         "orientation": "v",
         "showlegend": true,
         "type": "scatter",
         "x": [
          "2019",
          "2020",
          "2021",
          "2022"
         ],
         "xaxis": "x",
         "y": [
          1714,
          1801,
          2054,
          2170
         ],
         "yaxis": "y"
        },
        {
         "customdata": [
          [
           90
          ],
          [
           74
          ],
          [
           59
          ],
          [
           376
          ]
         ],
         "legendgroup": "Phoenix",
         "line": {
          "color": "#E377C2",
          "dash": "solid"
         },
         "marker": {
          "symbol": "circle"
         },
         "mode": "markers+lines",
         "name": "Phoenix",
         "orientation": "v",
         "showlegend": true,
         "type": "scatter",
         "x": [
          "2019",
          "2020",
          "2021",
          "2022"
         ],
         "xaxis": "x",
         "y": [
          958,
          1032,
          1091,
          1467
         ],
         "yaxis": "y"
        },
        {
         "customdata": [
          [
           104
          ],
          [
           116
          ],
          [
           40
          ],
          [
           172
          ]
         ],
         "legendgroup": "Sacramento",
         "line": {
          "color": "#7F7F7F",
          "dash": "solid"
         },
         "marker": {
          "symbol": "circle"
         },
         "mode": "markers+lines",
         "name": "Sacramento",
         "orientation": "v",
         "showlegend": true,
         "type": "scatter",
         "x": [
          "2019",
          "2020",
          "2021",
          "2022"
         ],
         "xaxis": "x",
         "y": [
          1072,
          1188,
          1228,
          1400
         ],
         "yaxis": "y"
        },
        {
         "customdata": [
          [
           465
          ],
          [
           203
          ],
          [
           -292
          ],
          [
           34
          ]
         ],
         "legendgroup": "San Francisco",
         "line": {
          "color": "#BCBD22",
          "dash": "solid"
         },
         "marker": {
          "symbol": "circle"
         },
         "mode": "markers+lines",
         "name": "San Francisco",
         "orientation": "v",
         "showlegend": true,
         "type": "scatter",
         "x": [
          "2019",
          "2020",
          "2021",
          "2022"
         ],
         "xaxis": "x",
         "y": [
          2720,
          2923,
          2631,
          2665
         ],
         "yaxis": "y"
        },
        {
         "customdata": [
          [
           184
          ],
          [
           -142
          ],
          [
           140
          ],
          [
           142
          ]
         ],
         "legendgroup": "Seattle",
         "line": {
          "color": "#17BECF",
          "dash": "solid"
         },
         "marker": {
          "symbol": "circle"
         },
         "mode": "markers+lines",
         "name": "Seattle",
         "orientation": "v",
         "showlegend": true,
         "type": "scatter",
         "x": [
          "2019",
          "2020",
          "2021",
          "2022"
         ],
         "xaxis": "x",
         "y": [
          1741,
          1599,
          1739,
          1881
         ],
         "yaxis": "y"
        }
       ],
       "layout": {
        "hovermode": "x unified",
        "legend": {
         "title": {
          "text": "City"
         },
         "tracegroupgap": 0
        },
        "margin": {
         "t": 60
        },
        "template": {
         "data": {
          "pie": [
           {
            "automargin": true,
            "type": "pie"
           }
          ]
         },
         "layout": {
          "yaxis": {
           "showgrid": false
          }
         }
        },
        "title": {
         "text": "Median monthly rent for one bedroom apartments",
         "x": 0.5,
         "xanchor": "center",
         "y": 0.95,
         "yanchor": "top"
        },
        "xaxis": {
         "anchor": "y",
         "domain": [
          0,
          1
         ],
         "dtick": 1,
         "title": {
          "text": "Year"
         }
        },
        "yaxis": {
         "anchor": "x",
         "domain": [
          0,
          1
         ],
         "tickformat": "$",
         "title": {
          "text": "Median Monthly Rent"
         }
        }
       }
      },
      "text/html": [
       "<div>                            <div id=\"316815fe-eea3-4a54-9d14-98a93648869f\" class=\"plotly-graph-div\" style=\"height:525px; width:100%;\"></div>            <script type=\"text/javascript\">                require([\"plotly\"], function(Plotly) {                    window.PLOTLYENV=window.PLOTLYENV || {};                                    if (document.getElementById(\"316815fe-eea3-4a54-9d14-98a93648869f\")) {                    Plotly.newPlot(                        \"316815fe-eea3-4a54-9d14-98a93648869f\",                        [{\"customdata\":[[48],[78],[24],[150]],\"legendgroup\":\"Austin\",\"line\":{\"color\":\"#1F77B4\",\"dash\":\"solid\"},\"marker\":{\"symbol\":\"circle\"},\"mode\":\"markers+lines\",\"name\":\"Austin\",\"orientation\":\"v\",\"showlegend\":true,\"x\":[\"2019\",\"2020\",\"2021\",\"2022\"],\"xaxis\":\"x\",\"y\":[1134,1212,1236,1386],\"yaxis\":\"y\",\"type\":\"scatter\"},{\"customdata\":[[339],[24],[62],[212]],\"legendgroup\":\"Boston\",\"line\":{\"color\":\"#FF7F0E\",\"dash\":\"solid\"},\"marker\":{\"symbol\":\"circle\"},\"mode\":\"markers+lines\",\"name\":\"Boston\",\"orientation\":\"v\",\"showlegend\":true,\"x\":[\"2019\",\"2020\",\"2021\",\"2022\"],\"xaxis\":\"x\",\"y\":[1900,1924,1986,2198],\"yaxis\":\"y\",\"type\":\"scatter\"},{\"customdata\":[[32],[46],[39],[94]],\"legendgroup\":\"Chicago\",\"line\":{\"color\":\"#2CA02C\",\"dash\":\"solid\"},\"marker\":{\"symbol\":\"circle\"},\"mode\":\"markers+lines\",\"name\":\"Chicago\",\"orientation\":\"v\",\"showlegend\":true,\"x\":[\"2019\",\"2020\",\"2021\",\"2022\"],\"xaxis\":\"x\",\"y\":[1076,1122,1161,1255],\"yaxis\":\"y\",\"type\":\"scatter\"},{\"customdata\":[[133],[88],[-1],[143]],\"legendgroup\":\"Los Angeles\",\"line\":{\"color\":\"#D62728\",\"dash\":\"solid\"},\"marker\":{\"symbol\":\"circle\"},\"mode\":\"markers+lines\",\"name\":\"Los Angeles\",\"orientation\":\"v\",\"showlegend\":true,\"x\":[\"2019\",\"2020\",\"2021\",\"2022\"],\"xaxis\":\"x\",\"y\":[1517,1605,1604,1747],\"yaxis\":\"y\",\"type\":\"scatter\"},{\"customdata\":[[46],[74],[69],[145]],\"legendgroup\":\"Nashville\",\"line\":{\"color\":\"#9467BD\",\"dash\":\"solid\"},\"marker\":{\"symbol\":\"circle\"},\"mode\":\"markers+lines\",\"name\":\"Nashville\",\"orientation\":\"v\",\"showlegend\":true,\"x\":[\"2019\",\"2020\",\"2021\",\"2022\"],\"xaxis\":\"x\",\"y\":[957,1031,1100,1245],\"yaxis\":\"y\",\"type\":\"scatter\"},{\"customdata\":[[115],[87],[253],[116]],\"legendgroup\":\"New York\",\"line\":{\"color\":\"#8C564B\",\"dash\":\"solid\"},\"marker\":{\"symbol\":\"circle\"},\"mode\":\"markers+lines\",\"name\":\"New York\",\"orientation\":\"v\",\"showlegend\":true,\"x\":[\"2019\",\"2020\",\"2021\",\"2022\"],\"xaxis\":\"x\",\"y\":[1714,1801,2054,2170],\"yaxis\":\"y\",\"type\":\"scatter\"},{\"customdata\":[[90],[74],[59],[376]],\"legendgroup\":\"Phoenix\",\"line\":{\"color\":\"#E377C2\",\"dash\":\"solid\"},\"marker\":{\"symbol\":\"circle\"},\"mode\":\"markers+lines\",\"name\":\"Phoenix\",\"orientation\":\"v\",\"showlegend\":true,\"x\":[\"2019\",\"2020\",\"2021\",\"2022\"],\"xaxis\":\"x\",\"y\":[958,1032,1091,1467],\"yaxis\":\"y\",\"type\":\"scatter\"},{\"customdata\":[[104],[116],[40],[172]],\"legendgroup\":\"Sacramento\",\"line\":{\"color\":\"#7F7F7F\",\"dash\":\"solid\"},\"marker\":{\"symbol\":\"circle\"},\"mode\":\"markers+lines\",\"name\":\"Sacramento\",\"orientation\":\"v\",\"showlegend\":true,\"x\":[\"2019\",\"2020\",\"2021\",\"2022\"],\"xaxis\":\"x\",\"y\":[1072,1188,1228,1400],\"yaxis\":\"y\",\"type\":\"scatter\"},{\"customdata\":[[465],[203],[-292],[34]],\"legendgroup\":\"San Francisco\",\"line\":{\"color\":\"#BCBD22\",\"dash\":\"solid\"},\"marker\":{\"symbol\":\"circle\"},\"mode\":\"markers+lines\",\"name\":\"San Francisco\",\"orientation\":\"v\",\"showlegend\":true,\"x\":[\"2019\",\"2020\",\"2021\",\"2022\"],\"xaxis\":\"x\",\"y\":[2720,2923,2631,2665],\"yaxis\":\"y\",\"type\":\"scatter\"},{\"customdata\":[[184],[-142],[140],[142]],\"legendgroup\":\"Seattle\",\"line\":{\"color\":\"#17BECF\",\"dash\":\"solid\"},\"marker\":{\"symbol\":\"circle\"},\"mode\":\"markers+lines\",\"name\":\"Seattle\",\"orientation\":\"v\",\"showlegend\":true,\"x\":[\"2019\",\"2020\",\"2021\",\"2022\"],\"xaxis\":\"x\",\"y\":[1741,1599,1739,1881],\"yaxis\":\"y\",\"type\":\"scatter\"}],                        {\"template\":{\"data\":{\"pie\":[{\"automargin\":true,\"type\":\"pie\"}]},\"layout\":{\"yaxis\":{\"showgrid\":false}}},\"xaxis\":{\"anchor\":\"y\",\"domain\":[0.0,1.0],\"title\":{\"text\":\"Year\"},\"dtick\":1},\"yaxis\":{\"anchor\":\"x\",\"domain\":[0.0,1.0],\"title\":{\"text\":\"Median Monthly Rent\"},\"tickformat\":\"$\"},\"legend\":{\"title\":{\"text\":\"City\"},\"tracegroupgap\":0},\"margin\":{\"t\":60},\"title\":{\"text\":\"Median monthly rent for one bedroom apartments\",\"x\":0.5,\"y\":0.95,\"xanchor\":\"center\",\"yanchor\":\"top\"},\"hovermode\":\"x unified\"},                        {\"responsive\": true}                    ).then(function(){\n",
       "                            \n",
       "var gd = document.getElementById('316815fe-eea3-4a54-9d14-98a93648869f');\n",
       "var x = new MutationObserver(function (mutations, observer) {{\n",
       "        var display = window.getComputedStyle(gd).display;\n",
       "        if (!display || display === 'none') {{\n",
       "            console.log([gd, 'removed!']);\n",
       "            Plotly.purge(gd);\n",
       "            observer.disconnect();\n",
       "        }}\n",
       "}});\n",
       "\n",
       "// Listen for the removal of the full notebook cells\n",
       "var notebookContainer = gd.closest('#notebook-container');\n",
       "if (notebookContainer) {{\n",
       "    x.observe(notebookContainer, {childList: true});\n",
       "}}\n",
       "\n",
       "// Listen for the clearing of the current output cell\n",
       "var outputEl = gd.closest('.output');\n",
       "if (outputEl) {{\n",
       "    x.observe(outputEl, {childList: true});\n",
       "}}\n",
       "\n",
       "                        })                };                });            </script>        </div>"
      ]
     },
     "metadata": {},
     "output_type": "display_data"
    }
   ],
   "source": [
    "cities = sorted(onebd['City'].unique().tolist()) \n",
    "\n",
    "fig = px.line(onebd, \n",
    "              x=\"Year\",\n",
    "              y=\"Avg Rent\", \n",
    "              color=\"City\", \n",
    "              custom_data=[\"Price Change\"], \n",
    "              category_orders={\"City\":cities},\n",
    "              labels={\"Avg Rent\":\"Median Monthly Rent\"},\n",
    "              template= 'ygridoff'\n",
    "              )\n",
    "\n",
    "fig.update_traces(\n",
    "    mode=\"markers+lines\", \n",
    "    hovertemplate=None\n",
    ")\n",
    "\n",
    "fig.update_xaxes(dtick=1)\n",
    "\n",
    "fig.update_layout(\n",
    "    title=dict(\n",
    "        text=\"Median monthly rent for one bedroom apartments\",\n",
    "        x=0.5,\n",
    "        y=0.95,\n",
    "        xanchor=\"center\",\n",
    "        yanchor=\"top\"\n",
    "    ),\n",
    "    yaxis_tickformat=\"$\",\n",
    "    hovermode='x unified')\n",
    "\n",
    "fig.show()"
   ]
  },
  {
   "cell_type": "code",
   "execution_count": 56,
   "id": "db001a4e",
   "metadata": {},
   "outputs": [
    {
     "data": {
      "text/html": [
       "<div>\n",
       "<style scoped>\n",
       "    .dataframe tbody tr th:only-of-type {\n",
       "        vertical-align: middle;\n",
       "    }\n",
       "\n",
       "    .dataframe tbody tr th {\n",
       "        vertical-align: top;\n",
       "    }\n",
       "\n",
       "    .dataframe thead th {\n",
       "        text-align: right;\n",
       "    }\n",
       "</style>\n",
       "<table border=\"1\" class=\"dataframe\">\n",
       "  <thead>\n",
       "    <tr style=\"text-align: right;\">\n",
       "      <th></th>\n",
       "      <th>City</th>\n",
       "      <th>State</th>\n",
       "      <th>lat</th>\n",
       "      <th>lon</th>\n",
       "      <th>Bedrooms</th>\n",
       "      <th>Year</th>\n",
       "      <th>Time Range</th>\n",
       "      <th>Growth</th>\n",
       "      <th>Avg Rent</th>\n",
       "      <th>Price Change</th>\n",
       "      <th>Percent Change</th>\n",
       "    </tr>\n",
       "  </thead>\n",
       "  <tbody>\n",
       "    <tr>\n",
       "      <th>40</th>\n",
       "      <td>Phoenix</td>\n",
       "      <td>AZ</td>\n",
       "      <td>33.448377</td>\n",
       "      <td>-112.074037</td>\n",
       "      <td>1</td>\n",
       "      <td>2019</td>\n",
       "      <td>2018 to 2019</td>\n",
       "      <td>YoY</td>\n",
       "      <td>958</td>\n",
       "      <td>90</td>\n",
       "      <td>10.37</td>\n",
       "    </tr>\n",
       "    <tr>\n",
       "      <th>41</th>\n",
       "      <td>Los Angeles</td>\n",
       "      <td>CA</td>\n",
       "      <td>34.052234</td>\n",
       "      <td>-118.243685</td>\n",
       "      <td>1</td>\n",
       "      <td>2019</td>\n",
       "      <td>2018 to 2019</td>\n",
       "      <td>YoY</td>\n",
       "      <td>1517</td>\n",
       "      <td>133</td>\n",
       "      <td>9.61</td>\n",
       "    </tr>\n",
       "    <tr>\n",
       "      <th>42</th>\n",
       "      <td>Sacramento</td>\n",
       "      <td>CA</td>\n",
       "      <td>38.581572</td>\n",
       "      <td>-121.494400</td>\n",
       "      <td>1</td>\n",
       "      <td>2019</td>\n",
       "      <td>2018 to 2019</td>\n",
       "      <td>YoY</td>\n",
       "      <td>1072</td>\n",
       "      <td>104</td>\n",
       "      <td>10.74</td>\n",
       "    </tr>\n",
       "    <tr>\n",
       "      <th>43</th>\n",
       "      <td>San Francisco</td>\n",
       "      <td>CA</td>\n",
       "      <td>37.774929</td>\n",
       "      <td>-122.419415</td>\n",
       "      <td>1</td>\n",
       "      <td>2019</td>\n",
       "      <td>2018 to 2019</td>\n",
       "      <td>YoY</td>\n",
       "      <td>2720</td>\n",
       "      <td>465</td>\n",
       "      <td>20.62</td>\n",
       "    </tr>\n",
       "    <tr>\n",
       "      <th>44</th>\n",
       "      <td>Chicago</td>\n",
       "      <td>IL</td>\n",
       "      <td>41.878114</td>\n",
       "      <td>-87.629798</td>\n",
       "      <td>1</td>\n",
       "      <td>2019</td>\n",
       "      <td>2018 to 2019</td>\n",
       "      <td>YoY</td>\n",
       "      <td>1076</td>\n",
       "      <td>32</td>\n",
       "      <td>3.07</td>\n",
       "    </tr>\n",
       "  </tbody>\n",
       "</table>\n",
       "</div>"
      ],
      "text/plain": [
       "             City State        lat         lon Bedrooms  Year    Time Range  \\\n",
       "40        Phoenix    AZ  33.448377 -112.074037        1  2019  2018 to 2019   \n",
       "41    Los Angeles    CA  34.052234 -118.243685        1  2019  2018 to 2019   \n",
       "42     Sacramento    CA  38.581572 -121.494400        1  2019  2018 to 2019   \n",
       "43  San Francisco    CA  37.774929 -122.419415        1  2019  2018 to 2019   \n",
       "44        Chicago    IL  41.878114  -87.629798        1  2019  2018 to 2019   \n",
       "\n",
       "   Growth  Avg Rent  Price Change  Percent Change  \n",
       "40    YoY       958            90           10.37  \n",
       "41    YoY      1517           133            9.61  \n",
       "42    YoY      1072           104           10.74  \n",
       "43    YoY      2720           465           20.62  \n",
       "44    YoY      1076            32            3.07  "
      ]
     },
     "execution_count": 56,
     "metadata": {},
     "output_type": "execute_result"
    }
   ],
   "source": [
    "onebd.head()"
   ]
  },
  {
   "cell_type": "code",
   "execution_count": 57,
   "id": "7ce9ef44",
   "metadata": {},
   "outputs": [],
   "source": [
    "onebd22 = onebd.query(\"Bedrooms=='1' and Year=='2022'\")"
   ]
  },
  {
   "cell_type": "code",
   "execution_count": 58,
   "id": "001c18f0",
   "metadata": {},
   "outputs": [
    {
     "data": {
      "text/html": [
       "<div>\n",
       "<style scoped>\n",
       "    .dataframe tbody tr th:only-of-type {\n",
       "        vertical-align: middle;\n",
       "    }\n",
       "\n",
       "    .dataframe tbody tr th {\n",
       "        vertical-align: top;\n",
       "    }\n",
       "\n",
       "    .dataframe thead th {\n",
       "        text-align: right;\n",
       "    }\n",
       "</style>\n",
       "<table border=\"1\" class=\"dataframe\">\n",
       "  <thead>\n",
       "    <tr style=\"text-align: right;\">\n",
       "      <th></th>\n",
       "      <th>City</th>\n",
       "      <th>State</th>\n",
       "      <th>lat</th>\n",
       "      <th>lon</th>\n",
       "      <th>Bedrooms</th>\n",
       "      <th>Year</th>\n",
       "      <th>Time Range</th>\n",
       "      <th>Growth</th>\n",
       "      <th>Avg Rent</th>\n",
       "      <th>Price Change</th>\n",
       "      <th>Percent Change</th>\n",
       "    </tr>\n",
       "  </thead>\n",
       "  <tbody>\n",
       "    <tr>\n",
       "      <th>70</th>\n",
       "      <td>Phoenix</td>\n",
       "      <td>AZ</td>\n",
       "      <td>33.448377</td>\n",
       "      <td>-112.074037</td>\n",
       "      <td>1</td>\n",
       "      <td>2022</td>\n",
       "      <td>2021 to 2022</td>\n",
       "      <td>YoY</td>\n",
       "      <td>1467</td>\n",
       "      <td>376</td>\n",
       "      <td>34.46</td>\n",
       "    </tr>\n",
       "    <tr>\n",
       "      <th>71</th>\n",
       "      <td>Los Angeles</td>\n",
       "      <td>CA</td>\n",
       "      <td>34.052234</td>\n",
       "      <td>-118.243685</td>\n",
       "      <td>1</td>\n",
       "      <td>2022</td>\n",
       "      <td>2021 to 2022</td>\n",
       "      <td>YoY</td>\n",
       "      <td>1747</td>\n",
       "      <td>143</td>\n",
       "      <td>8.92</td>\n",
       "    </tr>\n",
       "    <tr>\n",
       "      <th>72</th>\n",
       "      <td>Sacramento</td>\n",
       "      <td>CA</td>\n",
       "      <td>38.581572</td>\n",
       "      <td>-121.494400</td>\n",
       "      <td>1</td>\n",
       "      <td>2022</td>\n",
       "      <td>2021 to 2022</td>\n",
       "      <td>YoY</td>\n",
       "      <td>1400</td>\n",
       "      <td>172</td>\n",
       "      <td>14.01</td>\n",
       "    </tr>\n",
       "    <tr>\n",
       "      <th>73</th>\n",
       "      <td>San Francisco</td>\n",
       "      <td>CA</td>\n",
       "      <td>37.774929</td>\n",
       "      <td>-122.419415</td>\n",
       "      <td>1</td>\n",
       "      <td>2022</td>\n",
       "      <td>2021 to 2022</td>\n",
       "      <td>YoY</td>\n",
       "      <td>2665</td>\n",
       "      <td>34</td>\n",
       "      <td>1.29</td>\n",
       "    </tr>\n",
       "    <tr>\n",
       "      <th>74</th>\n",
       "      <td>Chicago</td>\n",
       "      <td>IL</td>\n",
       "      <td>41.878114</td>\n",
       "      <td>-87.629798</td>\n",
       "      <td>1</td>\n",
       "      <td>2022</td>\n",
       "      <td>2021 to 2022</td>\n",
       "      <td>YoY</td>\n",
       "      <td>1255</td>\n",
       "      <td>94</td>\n",
       "      <td>8.10</td>\n",
       "    </tr>\n",
       "  </tbody>\n",
       "</table>\n",
       "</div>"
      ],
      "text/plain": [
       "             City State        lat         lon Bedrooms  Year    Time Range  \\\n",
       "70        Phoenix    AZ  33.448377 -112.074037        1  2022  2021 to 2022   \n",
       "71    Los Angeles    CA  34.052234 -118.243685        1  2022  2021 to 2022   \n",
       "72     Sacramento    CA  38.581572 -121.494400        1  2022  2021 to 2022   \n",
       "73  San Francisco    CA  37.774929 -122.419415        1  2022  2021 to 2022   \n",
       "74        Chicago    IL  41.878114  -87.629798        1  2022  2021 to 2022   \n",
       "\n",
       "   Growth  Avg Rent  Price Change  Percent Change  \n",
       "70    YoY      1467           376           34.46  \n",
       "71    YoY      1747           143            8.92  \n",
       "72    YoY      1400           172           14.01  \n",
       "73    YoY      2665            34            1.29  \n",
       "74    YoY      1255            94            8.10  "
      ]
     },
     "execution_count": 58,
     "metadata": {},
     "output_type": "execute_result"
    }
   ],
   "source": [
    "onebd22.head()"
   ]
  },
  {
   "cell_type": "code",
   "execution_count": 59,
   "id": "153b093c",
   "metadata": {},
   "outputs": [
    {
     "data": {
      "application/vnd.plotly.v1+json": {
       "config": {
        "plotlyServerURL": "https://plot.ly"
       },
       "data": [
        {
         "alignmentgroup": "True",
         "customdata": [
          [
           1344,
           339,
           "2022-01-01T00:00:00"
          ],
          [
           1534,
           150,
           "2022-01-01T00:00:00"
          ],
          [
           1277,
           169,
           "2022-01-01T00:00:00"
          ],
          [
           2156,
           41,
           "2022-01-01T00:00:00"
          ],
          [
           1158,
           99,
           "2022-01-01T00:00:00"
          ],
          [
           2025,
           222,
           "2022-01-01T00:00:00"
          ],
          [
           2123,
           105,
           "2022-01-01T00:00:00"
          ],
          [
           1218,
           139,
           "2022-01-01T00:00:00"
          ],
          [
           1253,
           161,
           "2022-01-01T00:00:00"
          ],
          [
           1829,
           155,
           "2022-01-01T00:00:00"
          ]
         ],
         "hovertemplate": "<b>%{y}</b><br><br>Year: %{customdata[2]}<br>Median Rent: %{customdata[0]:$,.0f}<br>Difference: %{customdata[1]:$,.0f}<br>YoY: %{x}<br><extra></extra>",
         "legendgroup": "studio",
         "marker": {
          "color": "#1F77B4",
          "pattern": {
           "shape": ""
          }
         },
         "name": "studio",
         "offsetgroup": "studio",
         "orientation": "h",
         "showlegend": true,
         "textposition": "auto",
         "type": "bar",
         "x": [
          33.73,
          10.84,
          15.25,
          1.94,
          9.35,
          12.31,
          5.2,
          12.88,
          14.74,
          9.26
         ],
         "xaxis": "x",
         "y": [
          "Phoenix",
          "Los Angeles",
          "Sacramento",
          "San Francisco",
          "Chicago",
          "Boston",
          "New York",
          "Nashville",
          "Austin",
          "Seattle"
         ],
         "yaxis": "y"
        },
        {
         "alignmentgroup": "True",
         "customdata": [
          [
           1467,
           376,
           "2022-01-01T00:00:00"
          ],
          [
           1747,
           143,
           "2022-01-01T00:00:00"
          ],
          [
           1400,
           172,
           "2022-01-01T00:00:00"
          ],
          [
           2665,
           34,
           "2022-01-01T00:00:00"
          ],
          [
           1255,
           94,
           "2022-01-01T00:00:00"
          ],
          [
           2198,
           212,
           "2022-01-01T00:00:00"
          ],
          [
           2170,
           116,
           "2022-01-01T00:00:00"
          ],
          [
           1245,
           145,
           "2022-01-01T00:00:00"
          ],
          [
           1386,
           150,
           "2022-01-01T00:00:00"
          ],
          [
           1881,
           142,
           "2022-01-01T00:00:00"
          ]
         ],
         "hovertemplate": "<b>%{y}</b><br><br>Year: %{customdata[2]}<br>Median Rent: %{customdata[0]:$,.0f}<br>Difference: %{customdata[1]:$,.0f}<br>YoY: %{x}<br><extra></extra>",
         "legendgroup": "1",
         "marker": {
          "color": "#FF7F0E",
          "pattern": {
           "shape": ""
          }
         },
         "name": "1",
         "offsetgroup": "1",
         "orientation": "h",
         "showlegend": true,
         "textposition": "auto",
         "type": "bar",
         "x": [
          34.46,
          8.92,
          14.01,
          1.29,
          8.1,
          10.67,
          5.65,
          13.18,
          12.14,
          8.17
         ],
         "xaxis": "x",
         "y": [
          "Phoenix",
          "Los Angeles",
          "Sacramento",
          "San Francisco",
          "Chicago",
          "Boston",
          "New York",
          "Nashville",
          "Austin",
          "Seattle"
         ],
         "yaxis": "y"
        },
        {
         "alignmentgroup": "True",
         "customdata": [
          [
           1740,
           429,
           "2022-01-01T00:00:00"
          ],
          [
           2222,
           178,
           "2022-01-01T00:00:00"
          ],
          [
           1756,
           213,
           "2022-01-01T00:00:00"
          ],
          [
           3188,
           -10,
           "2022-01-01T00:00:00"
          ],
          [
           1440,
           100,
           "2022-01-01T00:00:00"
          ],
          [
           2635,
           236,
           "2022-01-01T00:00:00"
          ],
          [
           2451,
           111,
           "2022-01-01T00:00:00"
          ],
          [
           1406,
           153,
           "2022-01-01T00:00:00"
          ],
          [
           1626,
           175,
           "2022-01-01T00:00:00"
          ],
          [
           2199,
           155,
           "2022-01-01T00:00:00"
          ]
         ],
         "hovertemplate": "<b>%{y}</b><br><br>Year: %{customdata[2]}<br>Median Rent: %{customdata[0]:$,.0f}<br>Difference: %{customdata[1]:$,.0f}<br>YoY: %{x}<br><extra></extra>",
         "legendgroup": "2",
         "marker": {
          "color": "#2CA02C",
          "pattern": {
           "shape": ""
          }
         },
         "name": "2",
         "offsetgroup": "2",
         "orientation": "h",
         "showlegend": true,
         "textposition": "auto",
         "type": "bar",
         "x": [
          32.72,
          8.71,
          13.8,
          -0.31,
          7.46,
          9.84,
          4.74,
          12.21,
          12.06,
          7.58
         ],
         "xaxis": "x",
         "y": [
          "Phoenix",
          "Los Angeles",
          "Sacramento",
          "San Francisco",
          "Chicago",
          "Boston",
          "New York",
          "Nashville",
          "Austin",
          "Seattle"
         ],
         "yaxis": "y"
        },
        {
         "alignmentgroup": "True",
         "customdata": [
          [
           2386,
           561,
           "2022-01-01T00:00:00"
          ],
          [
           2888,
           195,
           "2022-01-01T00:00:00"
          ],
          [
           2496,
           304,
           "2022-01-01T00:00:00"
          ],
          [
           3912,
           -199,
           "2022-01-01T00:00:00"
          ],
          [
           1827,
           130,
           "2022-01-01T00:00:00"
          ],
          [
           3207,
           241,
           "2022-01-01T00:00:00"
          ],
          [
           3078,
           126,
           "2022-01-01T00:00:00"
          ],
          [
           1758,
           171,
           "2022-01-01T00:00:00"
          ],
          [
           2088,
           221,
           "2022-01-01T00:00:00"
          ],
          [
           2953,
           157,
           "2022-01-01T00:00:00"
          ]
         ],
         "hovertemplate": "<b>%{y}</b><br><br>Year: %{customdata[2]}<br>Median Rent: %{customdata[0]:$,.0f}<br>Difference: %{customdata[1]:$,.0f}<br>YoY: %{x}<br><extra></extra>",
         "legendgroup": "3",
         "marker": {
          "color": "#D62728",
          "pattern": {
           "shape": ""
          }
         },
         "name": "3",
         "offsetgroup": "3",
         "orientation": "h",
         "showlegend": true,
         "textposition": "auto",
         "type": "bar",
         "x": [
          30.74,
          7.24,
          13.87,
          -4.84,
          7.66,
          8.13,
          4.27,
          10.78,
          11.84,
          5.62
         ],
         "xaxis": "x",
         "y": [
          "Phoenix",
          "Los Angeles",
          "Sacramento",
          "San Francisco",
          "Chicago",
          "Boston",
          "New York",
          "Nashville",
          "Austin",
          "Seattle"
         ],
         "yaxis": "y"
        },
        {
         "alignmentgroup": "True",
         "customdata": [
          [
           2716,
           638,
           "2022-01-01T00:00:00"
          ],
          [
           3170,
           237,
           "2022-01-01T00:00:00"
          ],
          [
           2907,
           282,
           "2022-01-01T00:00:00"
          ],
          [
           4283,
           -190,
           "2022-01-01T00:00:00"
          ],
          [
           2172,
           154,
           "2022-01-01T00:00:00"
          ],
          [
           3540,
           287,
           "2022-01-01T00:00:00"
          ],
          [
           3316,
           143,
           "2022-01-01T00:00:00"
          ],
          [
           2173,
           198,
           "2022-01-01T00:00:00"
          ],
          [
           2416,
           222,
           "2022-01-01T00:00:00"
          ],
          [
           3446,
           161,
           "2022-01-01T00:00:00"
          ]
         ],
         "hovertemplate": "<b>%{y}</b><br><br>Year: %{customdata[2]}<br>Median Rent: %{customdata[0]:$,.0f}<br>Difference: %{customdata[1]:$,.0f}<br>YoY: %{x}<br><extra></extra>",
         "legendgroup": "4",
         "marker": {
          "color": "#9467BD",
          "pattern": {
           "shape": ""
          }
         },
         "name": "4",
         "offsetgroup": "4",
         "orientation": "h",
         "showlegend": true,
         "textposition": "auto",
         "type": "bar",
         "x": [
          30.7,
          8.08,
          10.74,
          -4.25,
          7.63,
          8.82,
          4.51,
          10.03,
          10.12,
          4.9
         ],
         "xaxis": "x",
         "y": [
          "Phoenix",
          "Los Angeles",
          "Sacramento",
          "San Francisco",
          "Chicago",
          "Boston",
          "New York",
          "Nashville",
          "Austin",
          "Seattle"
         ],
         "yaxis": "y"
        }
       ],
       "layout": {
        "barmode": "group",
        "height": 700,
        "hoverlabel": {
         "font": {
          "family": "Rockwell",
          "size": 16
         }
        },
        "legend": {
         "title": {
          "text": "Bedrooms"
         },
         "tracegroupgap": 0
        },
        "margin": {
         "t": 60
        },
        "template": {
         "data": {
          "pie": [
           {
            "automargin": true,
            "type": "pie"
           }
          ]
         },
         "layout": {
          "yaxis": {
           "showgrid": false
          }
         }
        },
        "title": {
         "text": "Year-over-year change in median monthy apartment rent from 2021 to 2022 by apartment size",
         "x": 0.5,
         "xanchor": "center",
         "y": 0.95,
         "yanchor": "top"
        },
        "xaxis": {
         "anchor": "y",
         "domain": [
          0,
          1
         ],
         "ticksuffix": "%",
         "title": {
          "text": "YoY"
         }
        },
        "yaxis": {
         "anchor": "x",
         "categoryarray": [
          "Seattle",
          "San Francisco",
          "Sacramento",
          "Phoenix",
          "New York",
          "Nashville",
          "Los Angeles",
          "Chicago",
          "Boston",
          "Austin"
         ],
         "categoryorder": "array",
         "domain": [
          0,
          1
         ],
         "title": {
          "text": "City"
         }
        }
       }
      },
      "text/html": [
       "<div>                            <div id=\"68a71058-9ded-4665-a7b6-5228346a8aeb\" class=\"plotly-graph-div\" style=\"height:700px; width:100%;\"></div>            <script type=\"text/javascript\">                require([\"plotly\"], function(Plotly) {                    window.PLOTLYENV=window.PLOTLYENV || {};                                    if (document.getElementById(\"68a71058-9ded-4665-a7b6-5228346a8aeb\")) {                    Plotly.newPlot(                        \"68a71058-9ded-4665-a7b6-5228346a8aeb\",                        [{\"alignmentgroup\":\"True\",\"customdata\":[[1344,339,\"2022-01-01T00:00:00\"],[1534,150,\"2022-01-01T00:00:00\"],[1277,169,\"2022-01-01T00:00:00\"],[2156,41,\"2022-01-01T00:00:00\"],[1158,99,\"2022-01-01T00:00:00\"],[2025,222,\"2022-01-01T00:00:00\"],[2123,105,\"2022-01-01T00:00:00\"],[1218,139,\"2022-01-01T00:00:00\"],[1253,161,\"2022-01-01T00:00:00\"],[1829,155,\"2022-01-01T00:00:00\"]],\"hovertemplate\":\"<b>%{y}</b><br><br>Year: %{customdata[2]}<br>Median Rent: %{customdata[0]:$,.0f}<br>Difference: %{customdata[1]:$,.0f}<br>YoY: %{x}<br><extra></extra>\",\"legendgroup\":\"studio\",\"marker\":{\"color\":\"#1F77B4\",\"pattern\":{\"shape\":\"\"}},\"name\":\"studio\",\"offsetgroup\":\"studio\",\"orientation\":\"h\",\"showlegend\":true,\"textposition\":\"auto\",\"x\":[33.73,10.84,15.25,1.94,9.35,12.31,5.2,12.88,14.74,9.26],\"xaxis\":\"x\",\"y\":[\"Phoenix\",\"Los Angeles\",\"Sacramento\",\"San Francisco\",\"Chicago\",\"Boston\",\"New York\",\"Nashville\",\"Austin\",\"Seattle\"],\"yaxis\":\"y\",\"type\":\"bar\"},{\"alignmentgroup\":\"True\",\"customdata\":[[1467,376,\"2022-01-01T00:00:00\"],[1747,143,\"2022-01-01T00:00:00\"],[1400,172,\"2022-01-01T00:00:00\"],[2665,34,\"2022-01-01T00:00:00\"],[1255,94,\"2022-01-01T00:00:00\"],[2198,212,\"2022-01-01T00:00:00\"],[2170,116,\"2022-01-01T00:00:00\"],[1245,145,\"2022-01-01T00:00:00\"],[1386,150,\"2022-01-01T00:00:00\"],[1881,142,\"2022-01-01T00:00:00\"]],\"hovertemplate\":\"<b>%{y}</b><br><br>Year: %{customdata[2]}<br>Median Rent: %{customdata[0]:$,.0f}<br>Difference: %{customdata[1]:$,.0f}<br>YoY: %{x}<br><extra></extra>\",\"legendgroup\":\"1\",\"marker\":{\"color\":\"#FF7F0E\",\"pattern\":{\"shape\":\"\"}},\"name\":\"1\",\"offsetgroup\":\"1\",\"orientation\":\"h\",\"showlegend\":true,\"textposition\":\"auto\",\"x\":[34.46,8.92,14.01,1.29,8.1,10.67,5.65,13.18,12.14,8.17],\"xaxis\":\"x\",\"y\":[\"Phoenix\",\"Los Angeles\",\"Sacramento\",\"San Francisco\",\"Chicago\",\"Boston\",\"New York\",\"Nashville\",\"Austin\",\"Seattle\"],\"yaxis\":\"y\",\"type\":\"bar\"},{\"alignmentgroup\":\"True\",\"customdata\":[[1740,429,\"2022-01-01T00:00:00\"],[2222,178,\"2022-01-01T00:00:00\"],[1756,213,\"2022-01-01T00:00:00\"],[3188,-10,\"2022-01-01T00:00:00\"],[1440,100,\"2022-01-01T00:00:00\"],[2635,236,\"2022-01-01T00:00:00\"],[2451,111,\"2022-01-01T00:00:00\"],[1406,153,\"2022-01-01T00:00:00\"],[1626,175,\"2022-01-01T00:00:00\"],[2199,155,\"2022-01-01T00:00:00\"]],\"hovertemplate\":\"<b>%{y}</b><br><br>Year: %{customdata[2]}<br>Median Rent: %{customdata[0]:$,.0f}<br>Difference: %{customdata[1]:$,.0f}<br>YoY: %{x}<br><extra></extra>\",\"legendgroup\":\"2\",\"marker\":{\"color\":\"#2CA02C\",\"pattern\":{\"shape\":\"\"}},\"name\":\"2\",\"offsetgroup\":\"2\",\"orientation\":\"h\",\"showlegend\":true,\"textposition\":\"auto\",\"x\":[32.72,8.71,13.8,-0.31,7.46,9.84,4.74,12.21,12.06,7.58],\"xaxis\":\"x\",\"y\":[\"Phoenix\",\"Los Angeles\",\"Sacramento\",\"San Francisco\",\"Chicago\",\"Boston\",\"New York\",\"Nashville\",\"Austin\",\"Seattle\"],\"yaxis\":\"y\",\"type\":\"bar\"},{\"alignmentgroup\":\"True\",\"customdata\":[[2386,561,\"2022-01-01T00:00:00\"],[2888,195,\"2022-01-01T00:00:00\"],[2496,304,\"2022-01-01T00:00:00\"],[3912,-199,\"2022-01-01T00:00:00\"],[1827,130,\"2022-01-01T00:00:00\"],[3207,241,\"2022-01-01T00:00:00\"],[3078,126,\"2022-01-01T00:00:00\"],[1758,171,\"2022-01-01T00:00:00\"],[2088,221,\"2022-01-01T00:00:00\"],[2953,157,\"2022-01-01T00:00:00\"]],\"hovertemplate\":\"<b>%{y}</b><br><br>Year: %{customdata[2]}<br>Median Rent: %{customdata[0]:$,.0f}<br>Difference: %{customdata[1]:$,.0f}<br>YoY: %{x}<br><extra></extra>\",\"legendgroup\":\"3\",\"marker\":{\"color\":\"#D62728\",\"pattern\":{\"shape\":\"\"}},\"name\":\"3\",\"offsetgroup\":\"3\",\"orientation\":\"h\",\"showlegend\":true,\"textposition\":\"auto\",\"x\":[30.74,7.24,13.87,-4.84,7.66,8.13,4.27,10.78,11.84,5.62],\"xaxis\":\"x\",\"y\":[\"Phoenix\",\"Los Angeles\",\"Sacramento\",\"San Francisco\",\"Chicago\",\"Boston\",\"New York\",\"Nashville\",\"Austin\",\"Seattle\"],\"yaxis\":\"y\",\"type\":\"bar\"},{\"alignmentgroup\":\"True\",\"customdata\":[[2716,638,\"2022-01-01T00:00:00\"],[3170,237,\"2022-01-01T00:00:00\"],[2907,282,\"2022-01-01T00:00:00\"],[4283,-190,\"2022-01-01T00:00:00\"],[2172,154,\"2022-01-01T00:00:00\"],[3540,287,\"2022-01-01T00:00:00\"],[3316,143,\"2022-01-01T00:00:00\"],[2173,198,\"2022-01-01T00:00:00\"],[2416,222,\"2022-01-01T00:00:00\"],[3446,161,\"2022-01-01T00:00:00\"]],\"hovertemplate\":\"<b>%{y}</b><br><br>Year: %{customdata[2]}<br>Median Rent: %{customdata[0]:$,.0f}<br>Difference: %{customdata[1]:$,.0f}<br>YoY: %{x}<br><extra></extra>\",\"legendgroup\":\"4\",\"marker\":{\"color\":\"#9467BD\",\"pattern\":{\"shape\":\"\"}},\"name\":\"4\",\"offsetgroup\":\"4\",\"orientation\":\"h\",\"showlegend\":true,\"textposition\":\"auto\",\"x\":[30.7,8.08,10.74,-4.25,7.63,8.82,4.51,10.03,10.12,4.9],\"xaxis\":\"x\",\"y\":[\"Phoenix\",\"Los Angeles\",\"Sacramento\",\"San Francisco\",\"Chicago\",\"Boston\",\"New York\",\"Nashville\",\"Austin\",\"Seattle\"],\"yaxis\":\"y\",\"type\":\"bar\"}],                        {\"template\":{\"data\":{\"pie\":[{\"automargin\":true,\"type\":\"pie\"}]},\"layout\":{\"yaxis\":{\"showgrid\":false}}},\"xaxis\":{\"anchor\":\"y\",\"domain\":[0.0,1.0],\"title\":{\"text\":\"YoY\"},\"ticksuffix\":\"%\"},\"yaxis\":{\"anchor\":\"x\",\"domain\":[0.0,1.0],\"title\":{\"text\":\"City\"},\"categoryorder\":\"array\",\"categoryarray\":[\"Seattle\",\"San Francisco\",\"Sacramento\",\"Phoenix\",\"New York\",\"Nashville\",\"Los Angeles\",\"Chicago\",\"Boston\",\"Austin\"]},\"legend\":{\"title\":{\"text\":\"Bedrooms\"},\"tracegroupgap\":0},\"margin\":{\"t\":60},\"barmode\":\"group\",\"height\":700,\"title\":{\"text\":\"Year-over-year change in median monthy apartment rent from 2021 to 2022 by apartment size\",\"x\":0.5,\"y\":0.95,\"xanchor\":\"center\",\"yanchor\":\"top\"},\"hoverlabel\":{\"font\":{\"size\":16,\"family\":\"Rockwell\"}}},                        {\"responsive\": true}                    ).then(function(){\n",
       "                            \n",
       "var gd = document.getElementById('68a71058-9ded-4665-a7b6-5228346a8aeb');\n",
       "var x = new MutationObserver(function (mutations, observer) {{\n",
       "        var display = window.getComputedStyle(gd).display;\n",
       "        if (!display || display === 'none') {{\n",
       "            console.log([gd, 'removed!']);\n",
       "            Plotly.purge(gd);\n",
       "            observer.disconnect();\n",
       "        }}\n",
       "}});\n",
       "\n",
       "// Listen for the removal of the full notebook cells\n",
       "var notebookContainer = gd.closest('#notebook-container');\n",
       "if (notebookContainer) {{\n",
       "    x.observe(notebookContainer, {childList: true});\n",
       "}}\n",
       "\n",
       "// Listen for the clearing of the current output cell\n",
       "var outputEl = gd.closest('.output');\n",
       "if (outputEl) {{\n",
       "    x.observe(outputEl, {childList: true});\n",
       "}}\n",
       "\n",
       "                        })                };                });            </script>        </div>"
      ]
     },
     "metadata": {},
     "output_type": "display_data"
    }
   ],
   "source": [
    "# Sort cities in alphabetical order\n",
    "hud22_df = hud_df.query(\"Year==2022 and Growth=='YoY'\" )\n",
    "cities = sorted(hud22_df['City'].unique().tolist()) \n",
    "\n",
    "fig = px.bar(hud22_df, \n",
    "             x=\"Percent Change\", \n",
    "             y=\"City\", \n",
    "             custom_data=[\"Avg Rent\", \"Price Change\", \"Year\"],\n",
    "             barmode=\"group\",\n",
    "             color=\"Bedrooms\", \n",
    "             category_orders={\"City\": cities, \n",
    "                              \"Bedrooms\": [\"studio\", \"1\", \"2\", \"3\", \"4\"]},\n",
    "             labels={'Percent Change': 'YoY'},\n",
    "             height=700,\n",
    "             orientation='h',\n",
    "             template= 'ygridoff')\n",
    "\n",
    "fig.update_traces(hovertemplate=\n",
    "                  \"<b>%{y}</b><br><br>\" +\n",
    "                  \"Year: %{customdata[2]}<br>\" +\n",
    "                  \"Median Rent: %{customdata[0]:$,.0f}<br>\" +\n",
    "                  \"Difference: %{customdata[1]:$,.0f}<br>\" +\n",
    "                  \"YoY: %{x}<br>\" +\n",
    "                  \"<extra></extra>\",\n",
    "                  )\n",
    "\n",
    "fig.update_layout(\n",
    "    title=dict(\n",
    "        text=\"Year-over-year change in median monthy apartment rent from 2021 to 2022 by apartment size\",\n",
    "        x=0.5,\n",
    "        y=0.95,\n",
    "        xanchor=\"center\",\n",
    "        yanchor=\"top\"\n",
    "    ),\n",
    "    hoverlabel=dict(\n",
    "        font_size=16,\n",
    "        font_family=\"Rockwell\"\n",
    "    ),\n",
    "    xaxis_ticksuffix=\"%\"\n",
    "    \n",
    ")\n",
    "\n",
    "fig.show()"
   ]
  },
  {
   "cell_type": "code",
   "execution_count": null,
   "id": "999027cc",
   "metadata": {},
   "outputs": [],
   "source": []
  }
 ],
 "metadata": {
  "kernelspec": {
   "display_name": "Python 3 (ipykernel)",
   "language": "python",
   "name": "python3"
  },
  "language_info": {
   "codemirror_mode": {
    "name": "ipython",
    "version": 3
   },
   "file_extension": ".py",
   "mimetype": "text/x-python",
   "name": "python",
   "nbconvert_exporter": "python",
   "pygments_lexer": "ipython3",
   "version": "3.10.4"
  }
 },
 "nbformat": 4,
 "nbformat_minor": 5
}
